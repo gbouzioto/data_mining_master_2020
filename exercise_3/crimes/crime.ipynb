{
 "cells": [
  {
   "cell_type": "markdown",
   "source": [
    "## Exercise 1\n",
    "Tasks:\n",
    "- Cluster the types of crimes based on the success of the police in facing/solving them.\n",
    "- Cluster the types of crimes and explain what each cluster represents.\n",
    "- Identify outliers in crime types and explain what they represent/why they are outliers.\n",
    "- Try to predict the super-category (e.g. ΕΠΙΚΡΑΤΕΙΑ/ΚΛΟΠΕΣ-ΔΙΑΡΡΗΞΕΙΣ, ...) of a record given\n",
    "only its numeric fields (τελ/να, απόπειρες, εξιχνιάσεις, ημεδαποί, αλλοδαποί), providing an explanation\n",
    "of the main factors for the decision and report the performance on a cross-validation evaluation.\n"
   ],
   "metadata": {
    "collapsed": false,
    "pycharm": {
     "name": "#%% md\n"
    }
   }
  },
  {
   "cell_type": "markdown",
   "metadata": {
    "collapsed": true,
    "pycharm": {
     "name": "#%% md\n"
    }
   },
   "source": [
    "### Imports"
   ]
  },
  {
   "cell_type": "code",
   "execution_count": 1,
   "outputs": [],
   "source": [
    "import pandas as pd\n",
    "import matplotlib.pyplot as plt\n",
    "import seaborn as sns\n",
    "\n",
    "from collections import OrderedDict\n",
    "\n",
    "sns.set(style = \"darkgrid\")"
   ],
   "metadata": {
    "collapsed": false,
    "pycharm": {
     "name": "#%%\n"
    }
   }
  },
  {
   "cell_type": "code",
   "execution_count": 2,
   "outputs": [
    {
     "data": {
      "text/plain": "  ΟΝΟΜΑ ΕΓΚΛΗΜΑΤΟΣ  τελ/να  απόπειρες  εξιχνιάσεις  ημεδαποί  αλλοδαποί\n0   ΑΝΘΡΩΠΟΚΤΟΝΙΕΣ      81        132          183       169         95\n1           ΑΠΑΤΕΣ    3790       1189         2066       994        247\n2   ΑΡΧΑΙΟΚΑΠΗΛΕΙΑ     155         19          174       161         22\n3          ΒΙΑΣΜΟΙ     155         82          164       102         91\n4        ΕΚΒΙΑΣΕΙΣ     135         23           89       100         55",
      "text/html": "<div>\n<style scoped>\n    .dataframe tbody tr th:only-of-type {\n        vertical-align: middle;\n    }\n\n    .dataframe tbody tr th {\n        vertical-align: top;\n    }\n\n    .dataframe thead th {\n        text-align: right;\n    }\n</style>\n<table border=\"1\" class=\"dataframe\">\n  <thead>\n    <tr style=\"text-align: right;\">\n      <th></th>\n      <th>ΟΝΟΜΑ ΕΓΚΛΗΜΑΤΟΣ</th>\n      <th>τελ/να</th>\n      <th>απόπειρες</th>\n      <th>εξιχνιάσεις</th>\n      <th>ημεδαποί</th>\n      <th>αλλοδαποί</th>\n    </tr>\n  </thead>\n  <tbody>\n    <tr>\n      <th>0</th>\n      <td>ΑΝΘΡΩΠΟΚΤΟΝΙΕΣ</td>\n      <td>81</td>\n      <td>132</td>\n      <td>183</td>\n      <td>169</td>\n      <td>95</td>\n    </tr>\n    <tr>\n      <th>1</th>\n      <td>ΑΠΑΤΕΣ</td>\n      <td>3790</td>\n      <td>1189</td>\n      <td>2066</td>\n      <td>994</td>\n      <td>247</td>\n    </tr>\n    <tr>\n      <th>2</th>\n      <td>ΑΡΧΑΙΟΚΑΠΗΛΕΙΑ</td>\n      <td>155</td>\n      <td>19</td>\n      <td>174</td>\n      <td>161</td>\n      <td>22</td>\n    </tr>\n    <tr>\n      <th>3</th>\n      <td>ΒΙΑΣΜΟΙ</td>\n      <td>155</td>\n      <td>82</td>\n      <td>164</td>\n      <td>102</td>\n      <td>91</td>\n    </tr>\n    <tr>\n      <th>4</th>\n      <td>ΕΚΒΙΑΣΕΙΣ</td>\n      <td>135</td>\n      <td>23</td>\n      <td>89</td>\n      <td>100</td>\n      <td>55</td>\n    </tr>\n  </tbody>\n</table>\n</div>"
     },
     "execution_count": 2,
     "metadata": {},
     "output_type": "execute_result"
    }
   ],
   "source": [
    "FILE_NAME = \"2016_epikrateia.xlsx\"\n",
    "\n",
    "# load the first two sheets\n",
    "dfs = pd.read_excel(FILE_NAME, sheet_name=[0, 1])\n",
    "data_df = dfs[0]  # type: pd.DataFrame\n",
    "superclass_df = dfs[1]  # type: pd.DataFrame\n",
    "\n",
    "data_df.head()"
   ],
   "metadata": {
    "collapsed": false,
    "pycharm": {
     "name": "#%%\n"
    }
   }
  },
  {
   "cell_type": "code",
   "execution_count": 3,
   "outputs": [
    {
     "data": {
      "text/plain": "                          ΟΝΟΜΑ ΕΓΚΛΗΜΑΤΟΣ  τελ/να  απόπειρες  εξιχνιάσεις  \\\n37             Ληστείες σε πρακτορεία ΟΠΑΠ      31          5            3   \n38                  Ληστείες σούπερ μάρκετ     127          2           50   \n39         Ληστείες ταχυδρομικών διανομέων       4          3            1   \n40  Ληστείες τραπεζών,ταχ/κών ταμιευτηρίων      14          2           12   \n41                Ληστείες χρηματαποστολών      21          2            1   \n\n    ημεδαποί  αλλοδαποί  \n37         3          5  \n38        24         10  \n39         2          0  \n40         8          0  \n41         3          0  ",
      "text/html": "<div>\n<style scoped>\n    .dataframe tbody tr th:only-of-type {\n        vertical-align: middle;\n    }\n\n    .dataframe tbody tr th {\n        vertical-align: top;\n    }\n\n    .dataframe thead th {\n        text-align: right;\n    }\n</style>\n<table border=\"1\" class=\"dataframe\">\n  <thead>\n    <tr style=\"text-align: right;\">\n      <th></th>\n      <th>ΟΝΟΜΑ ΕΓΚΛΗΜΑΤΟΣ</th>\n      <th>τελ/να</th>\n      <th>απόπειρες</th>\n      <th>εξιχνιάσεις</th>\n      <th>ημεδαποί</th>\n      <th>αλλοδαποί</th>\n    </tr>\n  </thead>\n  <tbody>\n    <tr>\n      <th>37</th>\n      <td>Ληστείες σε πρακτορεία ΟΠΑΠ</td>\n      <td>31</td>\n      <td>5</td>\n      <td>3</td>\n      <td>3</td>\n      <td>5</td>\n    </tr>\n    <tr>\n      <th>38</th>\n      <td>Ληστείες σούπερ μάρκετ</td>\n      <td>127</td>\n      <td>2</td>\n      <td>50</td>\n      <td>24</td>\n      <td>10</td>\n    </tr>\n    <tr>\n      <th>39</th>\n      <td>Ληστείες ταχυδρομικών διανομέων</td>\n      <td>4</td>\n      <td>3</td>\n      <td>1</td>\n      <td>2</td>\n      <td>0</td>\n    </tr>\n    <tr>\n      <th>40</th>\n      <td>Ληστείες τραπεζών,ταχ/κών ταμιευτηρίων</td>\n      <td>14</td>\n      <td>2</td>\n      <td>12</td>\n      <td>8</td>\n      <td>0</td>\n    </tr>\n    <tr>\n      <th>41</th>\n      <td>Ληστείες χρηματαποστολών</td>\n      <td>21</td>\n      <td>2</td>\n      <td>1</td>\n      <td>3</td>\n      <td>0</td>\n    </tr>\n  </tbody>\n</table>\n</div>"
     },
     "execution_count": 3,
     "metadata": {},
     "output_type": "execute_result"
    }
   ],
   "source": [
    "data_df.tail()"
   ],
   "metadata": {
    "collapsed": false,
    "pycharm": {
     "name": "#%%\n"
    }
   }
  },
  {
   "cell_type": "code",
   "execution_count": 4,
   "outputs": [
    {
     "data": {
      "text/plain": "                 ΟΝΟΜΑ  τελ/να  απόπειρες  εξιχνιάσεις  ημεδαποί  αλλοδαποί\n0      ΛΟΙΠΑ ΕΓΚΛΗΜΑΤΑ   34805       1483        25964     21089       9573\n1  ΚΛΟΠΕΣ - ΔΙΑΡΡΗΞΕΙΣ   75083       5469        14798      9990       3961\n2    ΚΛΟΠΕΣ ΤΡΟΧΟΦΟΡΩΝ   26180        720         8543      1405        451\n3             ΛΗΣΤΕΙΕΣ    4738        325         1582      1295        618",
      "text/html": "<div>\n<style scoped>\n    .dataframe tbody tr th:only-of-type {\n        vertical-align: middle;\n    }\n\n    .dataframe tbody tr th {\n        vertical-align: top;\n    }\n\n    .dataframe thead th {\n        text-align: right;\n    }\n</style>\n<table border=\"1\" class=\"dataframe\">\n  <thead>\n    <tr style=\"text-align: right;\">\n      <th></th>\n      <th>ΟΝΟΜΑ</th>\n      <th>τελ/να</th>\n      <th>απόπειρες</th>\n      <th>εξιχνιάσεις</th>\n      <th>ημεδαποί</th>\n      <th>αλλοδαποί</th>\n    </tr>\n  </thead>\n  <tbody>\n    <tr>\n      <th>0</th>\n      <td>ΛΟΙΠΑ ΕΓΚΛΗΜΑΤΑ</td>\n      <td>34805</td>\n      <td>1483</td>\n      <td>25964</td>\n      <td>21089</td>\n      <td>9573</td>\n    </tr>\n    <tr>\n      <th>1</th>\n      <td>ΚΛΟΠΕΣ - ΔΙΑΡΡΗΞΕΙΣ</td>\n      <td>75083</td>\n      <td>5469</td>\n      <td>14798</td>\n      <td>9990</td>\n      <td>3961</td>\n    </tr>\n    <tr>\n      <th>2</th>\n      <td>ΚΛΟΠΕΣ ΤΡΟΧΟΦΟΡΩΝ</td>\n      <td>26180</td>\n      <td>720</td>\n      <td>8543</td>\n      <td>1405</td>\n      <td>451</td>\n    </tr>\n    <tr>\n      <th>3</th>\n      <td>ΛΗΣΤΕΙΕΣ</td>\n      <td>4738</td>\n      <td>325</td>\n      <td>1582</td>\n      <td>1295</td>\n      <td>618</td>\n    </tr>\n  </tbody>\n</table>\n</div>"
     },
     "execution_count": 4,
     "metadata": {},
     "output_type": "execute_result"
    }
   ],
   "source": [
    "superclass_df.head()"
   ],
   "metadata": {
    "collapsed": false,
    "pycharm": {
     "name": "#%%\n"
    }
   }
  },
  {
   "cell_type": "markdown",
   "source": [
    "For the first task we have to cluster the types of crimes based on the success of the police in facing/solving them.\n",
    "\n",
    "In order to achieve this, we have to keep the columns \"τελ/να\" and \"απόπειρες\".\n",
    "The type of clustering that was chosen is Hierarchical clustering since we have few data, and we do not know the number\n",
    "of clusters beforehand.\n",
    "\n",
    "However, the decision of the number of clusters that can best depict different groups can be\n",
    "chosen by observing the dendrogram.\n",
    "The best choice of the number of clusters is the no. of vertical lines in the dendrogram cut by a\n",
    "horizontal line that can transverse the maximum distance vertically without intersecting a\n",
    "cluster.\n",
    "\n",
    "For k- means clustering we would need to have prior knowledge about the clusters."
   ],
   "metadata": {
    "collapsed": false
   }
  },
  {
   "cell_type": "code",
   "execution_count": 5,
   "outputs": [],
   "source": [
    "task_1_df = data_df[[\"τελ/να\", \"εξιχνιάσεις\"]]"
   ],
   "metadata": {
    "collapsed": false,
    "pycharm": {
     "name": "#%%\n"
    }
   }
  },
  {
   "cell_type": "markdown",
   "source": [
    "We have to normalize the data so that the scale of each variable is the same. Why is this important?\n",
    "\n",
    "If the scale of the variables is not the same, the model might become biased towards\n",
    "the variables with a higher magnitude like ΑΠΑΤΕΣ or ΕΠΑΙΤΕΙΑ."
   ],
   "metadata": {
    "collapsed": false
   }
  },
  {
   "cell_type": "code",
   "execution_count": 6,
   "outputs": [
    {
     "data": {
      "text/plain": "     τελ/να  εξιχνιάσεις\n0  0.404747     0.914429\n1  0.878019     0.478625\n2  0.665163     0.746699\n3  0.686884     0.726767\n4  0.834894     0.550411",
      "text/html": "<div>\n<style scoped>\n    .dataframe tbody tr th:only-of-type {\n        vertical-align: middle;\n    }\n\n    .dataframe tbody tr th {\n        vertical-align: top;\n    }\n\n    .dataframe thead th {\n        text-align: right;\n    }\n</style>\n<table border=\"1\" class=\"dataframe\">\n  <thead>\n    <tr style=\"text-align: right;\">\n      <th></th>\n      <th>τελ/να</th>\n      <th>εξιχνιάσεις</th>\n    </tr>\n  </thead>\n  <tbody>\n    <tr>\n      <th>0</th>\n      <td>0.404747</td>\n      <td>0.914429</td>\n    </tr>\n    <tr>\n      <th>1</th>\n      <td>0.878019</td>\n      <td>0.478625</td>\n    </tr>\n    <tr>\n      <th>2</th>\n      <td>0.665163</td>\n      <td>0.746699</td>\n    </tr>\n    <tr>\n      <th>3</th>\n      <td>0.686884</td>\n      <td>0.726767</td>\n    </tr>\n    <tr>\n      <th>4</th>\n      <td>0.834894</td>\n      <td>0.550411</td>\n    </tr>\n  </tbody>\n</table>\n</div>"
     },
     "execution_count": 6,
     "metadata": {},
     "output_type": "execute_result"
    }
   ],
   "source": [
    "from sklearn.preprocessing import normalize\n",
    "data_scaled = normalize(task_1_df)\n",
    "data_scaled = pd.DataFrame(data_scaled, columns=task_1_df.columns)\n",
    "data_scaled.head()"
   ],
   "metadata": {
    "collapsed": false,
    "pycharm": {
     "name": "#%%\n"
    }
   }
  },
  {
   "cell_type": "markdown",
   "source": [
    "The x-axis contains the samples and y-axis represents the distance between these samples.\n",
    "The vertical line with maximum distance is the blue line and hence we can decide a threshold of 1 and cut the dendrogram\n"
   ],
   "metadata": {
    "collapsed": false,
    "pycharm": {
     "name": "#%% md\n"
    }
   }
  },
  {
   "cell_type": "code",
   "execution_count": 7,
   "outputs": [
    {
     "data": {
      "text/plain": "<matplotlib.lines.Line2D at 0x1e954778>"
     },
     "execution_count": 7,
     "metadata": {},
     "output_type": "execute_result"
    },
    {
     "data": {
      "text/plain": "<Figure size 720x504 with 1 Axes>",
      "image/png": "[encoded data removed]"
     },
     "metadata": {},
     "output_type": "display_data"
    }
   ],
   "source": [
    "import scipy.cluster.hierarchy as shc\n",
    "plt.figure(figsize=(10, 7))\n",
    "plt.title(\"Dendrograms\")\n",
    "dendrogram = shc.dendrogram(shc.linkage(data_scaled, method='ward'))\n",
    "plt.axhline(y=1, color='r', linestyle='--')"
   ],
   "metadata": {
    "collapsed": false,
    "pycharm": {
     "name": "#%%\n"
    }
   }
  },
  {
   "cell_type": "markdown",
   "source": [
    "We have two clusters as this line cuts the dendrogram at two points.\n",
    "Let’s now apply hierarchical clustering for 2 clusters\n"
   ],
   "metadata": {
    "collapsed": false,
    "pycharm": {
     "name": "#%% md\n"
    }
   }
  },
  {
   "cell_type": "code",
   "execution_count": 8,
   "outputs": [
    {
     "data": {
      "text/plain": "array([1, 0, 1, 1, 0, 1, 0, 0, 1, 1, 1, 1, 1, 1, 0, 0, 0, 0, 0, 0, 0, 0,\n       0, 0, 0, 0, 0, 0, 0, 0, 0, 0, 0, 0, 0, 0, 0, 0, 0, 0, 1, 0],\n      dtype=int32)"
     },
     "execution_count": 8,
     "metadata": {},
     "output_type": "execute_result"
    }
   ],
   "source": [
    "from sklearn.cluster import AgglomerativeClustering\n",
    "cluster = AgglomerativeClustering(n_clusters=2, affinity='euclidean', linkage='ward')\n",
    "cluster.fit_predict(data_scaled)"
   ],
   "metadata": {
    "collapsed": false,
    "pycharm": {
     "name": "#%%\n"
    }
   }
  },
  {
   "cell_type": "code",
   "execution_count": 9,
   "outputs": [
    {
     "data": {
      "text/plain": "<matplotlib.collections.PathCollection at 0x1f059148>"
     },
     "execution_count": 9,
     "metadata": {},
     "output_type": "execute_result"
    },
    {
     "data": {
      "text/plain": "<Figure size 432x288 with 1 Axes>",
      "image/png": "[encoded data removed]"
     },
     "metadata": {},
     "output_type": "display_data"
    }
   ],
   "source": [
    "plt.scatter(data_scaled[\"τελ/να\"], data_scaled[\"εξιχνιάσεις\"], c=cluster.labels_, cmap='rainbow')"
   ],
   "metadata": {
    "collapsed": false,
    "pycharm": {
     "name": "#%%\n"
    }
   }
  },
  {
   "cell_type": "code",
   "execution_count": 10,
   "outputs": [
    {
     "name": "stdout",
     "output_type": "stream",
     "text": [
      "OrderedDict([('ΑΝΘΡΩΠΟΚΤΟΝΙΕΣ', 1),\n",
      "             ('ΑΠΑΤΕΣ', 0),\n",
      "             ('ΑΡΧΑΙΟΚΑΠΗΛΕΙΑ', 1),\n",
      "             ('ΒΙΑΣΜΟΙ', 1),\n",
      "             ('ΕΚΒΙΑΣΕΙΣ', 0),\n",
      "             ('ΕΠΑΙΤΕΙΑ', 1),\n",
      "             ('ΖΩΟΚΛΟΠΗ', 0),\n",
      "             ('ΚΥΚΛΟΦΟΡΙΑ ΠΑΡΑΧΑΡΑΓΜΕΝΩΝ', 0),\n",
      "             ('ΛΑΘΡΕΜΠΟΡΙΟ', 1),\n",
      "             ('Ν περί ΝΑΡΚΩΤΙΚΩΝ', 1),\n",
      "             ('Ν περί ΟΠΛΩΝ', 1),\n",
      "             ('Ν περί ΠΝΕΥΜΑΤΙΚΗΣ ΙΔΙΟΚΤΗΣΙΑΣ', 1),\n",
      "             ('ΠΛΑΣΤΟΓΡΑΦΙΑ', 1),\n",
      "             ('ΣΕΞΟΥΑΛΙΚΗ ΕΚΜΕΤΑΛΛΕΥΣΗ', 1),\n",
      "             ('Κλοπές - Διαρρήξεις από ιχε αυτ/τα', 0),\n",
      "             ('Κλοπές - Διαρρήξεις ιερών ναών', 0),\n",
      "             ('Κλοπές - Διαρρήξεις καταστημάτων', 0),\n",
      "             ('Κλοπές - Διαρρήξεις λοιπές', 0),\n",
      "             ('Κλοπές - Διαρρήξεις οικιών', 0),\n",
      "             ('Κλοπές - Διαρρήξεις σε συγκοινωνιακά μέσα', 0),\n",
      "             ('Κλοπές με αρπαγές τσαντών', 0),\n",
      "             ('Κλοπές σε δημόσιο χώρο-μικροκλοπες', 0),\n",
      "             ('Κλοπές Τροχοφόρων ΙΧΕ αυτ/των', 0),\n",
      "             ('Κλοπές Τροχοφόρων ΙΧΦ-Λεωφορείων', 0),\n",
      "             ('Κλοπές Τροχοφόρων Λοιπών οχημάτων', 0),\n",
      "             ('Κλοπές Τροχοφόρων Μοτοποδηλάτων', 0),\n",
      "             ('Κλοπές Τροχοφόρων Μοτοσυκλετών', 0),\n",
      "             ('Ληστείες εντός καταστημάτων', 0),\n",
      "             ('Ληστείες εντός οικιών', 0),\n",
      "             ('Ληστείες κινητών τηλεφώνων-μικροποσών', 0),\n",
      "             ('Ληστείες λοιπές', 0),\n",
      "             ('Ληστείες με αρπαγή τσάντας', 0),\n",
      "             ('Ληστείες οδηγών ταξί', 0),\n",
      "             ('Ληστείες πρατηρίων υγρών καυσίμων', 0),\n",
      "             ('Ληστείες σε ΕΛ.ΤΑ.', 0),\n",
      "             ('Ληστείες σε Μίνι Μάρκετ-κατ/τα ψιλικών', 0),\n",
      "             ('Ληστείες σε περίπτερα', 0),\n",
      "             ('Ληστείες σε πρακτορεία ΟΠΑΠ', 0),\n",
      "             ('Ληστείες σούπερ μάρκετ', 0),\n",
      "             ('Ληστείες ταχυδρομικών διανομέων', 0),\n",
      "             ('Ληστείες τραπεζών,ταχ/κών ταμιευτηρίων', 1),\n",
      "             ('Ληστείες χρηματαποστολών', 0)])\n"
     ]
    }
   ],
   "source": [
    "# Map crime names to their cluster.\n",
    "crimes_names = data_df[\"ΟΝΟΜΑ ΕΓΚΛΗΜΑΤΟΣ\"].tolist()\n",
    "clusters = OrderedDict(zip(crimes_names, cluster.labels_))\n",
    "from pprint import pprint\n",
    "pprint(clusters)"
   ],
   "metadata": {
    "collapsed": false,
    "pycharm": {
     "name": "#%%\n"
    }
   }
  },
  {
   "cell_type": "markdown",
   "source": [
    "For the second task we have to cluster the types of crimes and explain what each cluster represents. We will use the\n",
    "same algorithm as before but this time we will keep all the columns except for the \"ΟΝΟΜΑ ΕΓΚΛΗΜΑΤΟΣ\""
   ],
   "metadata": {
    "collapsed": false,
    "pycharm": {
     "name": "#%% md\n"
    }
   }
  },
  {
   "cell_type": "code",
   "execution_count": 11,
   "outputs": [
    {
     "data": {
      "text/plain": "   τελ/να  απόπειρες  εξιχνιάσεις  ημεδαποί  αλλοδαποί\n0      81        132          183       169         95\n1    3790       1189         2066       994        247\n2     155         19          174       161         22\n3     155         82          164       102         91\n4     135         23           89       100         55",
      "text/html": "<div>\n<style scoped>\n    .dataframe tbody tr th:only-of-type {\n        vertical-align: middle;\n    }\n\n    .dataframe tbody tr th {\n        vertical-align: top;\n    }\n\n    .dataframe thead th {\n        text-align: right;\n    }\n</style>\n<table border=\"1\" class=\"dataframe\">\n  <thead>\n    <tr style=\"text-align: right;\">\n      <th></th>\n      <th>τελ/να</th>\n      <th>απόπειρες</th>\n      <th>εξιχνιάσεις</th>\n      <th>ημεδαποί</th>\n      <th>αλλοδαποί</th>\n    </tr>\n  </thead>\n  <tbody>\n    <tr>\n      <th>0</th>\n      <td>81</td>\n      <td>132</td>\n      <td>183</td>\n      <td>169</td>\n      <td>95</td>\n    </tr>\n    <tr>\n      <th>1</th>\n      <td>3790</td>\n      <td>1189</td>\n      <td>2066</td>\n      <td>994</td>\n      <td>247</td>\n    </tr>\n    <tr>\n      <th>2</th>\n      <td>155</td>\n      <td>19</td>\n      <td>174</td>\n      <td>161</td>\n      <td>22</td>\n    </tr>\n    <tr>\n      <th>3</th>\n      <td>155</td>\n      <td>82</td>\n      <td>164</td>\n      <td>102</td>\n      <td>91</td>\n    </tr>\n    <tr>\n      <th>4</th>\n      <td>135</td>\n      <td>23</td>\n      <td>89</td>\n      <td>100</td>\n      <td>55</td>\n    </tr>\n  </tbody>\n</table>\n</div>"
     },
     "execution_count": 11,
     "metadata": {},
     "output_type": "execute_result"
    }
   ],
   "source": [
    "task_2_df = data_df[[\"τελ/να\", \"απόπειρες\", \"εξιχνιάσεις\", \"ημεδαποί\", \"αλλοδαποί\"]]\n",
    "task_2_df.head()"
   ],
   "metadata": {
    "collapsed": false,
    "pycharm": {
     "name": "#%%\n"
    }
   }
  },
  {
   "cell_type": "code",
   "execution_count": 12,
   "outputs": [
    {
     "data": {
      "text/plain": "     τελ/να  απόπειρες  εξιχνιάσεις  ημεδαποί  αλλοδαποί\n0  0.262716   0.428129     0.593543  0.548135   0.308123\n1  0.825177   0.258875     0.449819  0.216418   0.053778\n2  0.544389   0.066732     0.611121  0.565463   0.077268\n3  0.561027   0.296802     0.593603  0.369192   0.329377\n4  0.677546   0.115434     0.446678  0.501886   0.276037",
      "text/html": "<div>\n<style scoped>\n    .dataframe tbody tr th:only-of-type {\n        vertical-align: middle;\n    }\n\n    .dataframe tbody tr th {\n        vertical-align: top;\n    }\n\n    .dataframe thead th {\n        text-align: right;\n    }\n</style>\n<table border=\"1\" class=\"dataframe\">\n  <thead>\n    <tr style=\"text-align: right;\">\n      <th></th>\n      <th>τελ/να</th>\n      <th>απόπειρες</th>\n      <th>εξιχνιάσεις</th>\n      <th>ημεδαποί</th>\n      <th>αλλοδαποί</th>\n    </tr>\n  </thead>\n  <tbody>\n    <tr>\n      <th>0</th>\n      <td>0.262716</td>\n      <td>0.428129</td>\n      <td>0.593543</td>\n      <td>0.548135</td>\n      <td>0.308123</td>\n    </tr>\n    <tr>\n      <th>1</th>\n      <td>0.825177</td>\n      <td>0.258875</td>\n      <td>0.449819</td>\n      <td>0.216418</td>\n      <td>0.053778</td>\n    </tr>\n    <tr>\n      <th>2</th>\n      <td>0.544389</td>\n      <td>0.066732</td>\n      <td>0.611121</td>\n      <td>0.565463</td>\n      <td>0.077268</td>\n    </tr>\n    <tr>\n      <th>3</th>\n      <td>0.561027</td>\n      <td>0.296802</td>\n      <td>0.593603</td>\n      <td>0.369192</td>\n      <td>0.329377</td>\n    </tr>\n    <tr>\n      <th>4</th>\n      <td>0.677546</td>\n      <td>0.115434</td>\n      <td>0.446678</td>\n      <td>0.501886</td>\n      <td>0.276037</td>\n    </tr>\n  </tbody>\n</table>\n</div>"
     },
     "execution_count": 12,
     "metadata": {},
     "output_type": "execute_result"
    }
   ],
   "source": [
    "# normalize the data\n",
    "data_scaled = normalize(task_2_df)\n",
    "data_scaled = pd.DataFrame(data_scaled, columns=task_2_df.columns)\n",
    "data_scaled.head()"
   ],
   "metadata": {
    "collapsed": false,
    "pycharm": {
     "name": "#%%\n"
    }
   }
  },
  {
   "cell_type": "code",
   "execution_count": 13,
   "outputs": [
    {
     "data": {
      "text/plain": "<matplotlib.lines.Line2D at 0x1f0cc610>"
     },
     "execution_count": 13,
     "metadata": {},
     "output_type": "execute_result"
    },
    {
     "data": {
      "text/plain": "<Figure size 720x504 with 1 Axes>",
      "image/png": "[encoded data removed]"
     },
     "metadata": {},
     "output_type": "display_data"
    }
   ],
   "source": [
    "plt.figure(figsize=(10, 7))\n",
    "plt.title(\"Dendrograms\")\n",
    "dendrogram_2 = shc.dendrogram(shc.linkage(data_scaled, method='ward'))\n",
    "plt.axhline(y=1.5, color='r', linestyle='--')"
   ],
   "metadata": {
    "collapsed": false,
    "pycharm": {
     "name": "#%%\n"
    }
   }
  },
  {
   "cell_type": "markdown",
   "source": [
    "The x-axis contains the samples and y-axis represents the distance between these samples.\n",
    "The vertical line with maximum distance is the blue line and hence we can decide a threshold of 1.5 and\n",
    "cut the dendrogram.\n",
    "\n",
    "We have two clusters as this line cuts the dendrogram at two points.\n",
    "Let’s now apply hierarchical clustering for 2 clusters"
   ],
   "metadata": {
    "collapsed": false
   }
  },
  {
   "cell_type": "code",
   "execution_count": 14,
   "outputs": [
    {
     "data": {
      "text/plain": "array([1, 0, 1, 1, 1, 1, 0, 0, 1, 1, 1, 1, 1, 1, 0, 0, 0, 0, 0, 0, 0, 0,\n       0, 0, 0, 0, 0, 0, 0, 0, 0, 0, 0, 0, 0, 0, 0, 0, 0, 0, 1, 0],\n      dtype=int32)"
     },
     "execution_count": 14,
     "metadata": {},
     "output_type": "execute_result"
    }
   ],
   "source": [
    "cluster = AgglomerativeClustering(n_clusters=2, affinity='euclidean', linkage='ward')\n",
    "cluster.fit_predict(data_scaled)\n"
   ],
   "metadata": {
    "collapsed": false,
    "pycharm": {
     "name": "#%%\n"
    }
   }
  },
  {
   "cell_type": "code",
   "execution_count": 15,
   "outputs": [
    {
     "name": "stdout",
     "output_type": "stream",
     "text": [
      "OrderedDict([('ΑΝΘΡΩΠΟΚΤΟΝΙΕΣ', 1),\n",
      "             ('ΑΠΑΤΕΣ', 0),\n",
      "             ('ΑΡΧΑΙΟΚΑΠΗΛΕΙΑ', 1),\n",
      "             ('ΒΙΑΣΜΟΙ', 1),\n",
      "             ('ΕΚΒΙΑΣΕΙΣ', 1),\n",
      "             ('ΕΠΑΙΤΕΙΑ', 1),\n",
      "             ('ΖΩΟΚΛΟΠΗ', 0),\n",
      "             ('ΚΥΚΛΟΦΟΡΙΑ ΠΑΡΑΧΑΡΑΓΜΕΝΩΝ', 0),\n",
      "             ('ΛΑΘΡΕΜΠΟΡΙΟ', 1),\n",
      "             ('Ν περί ΝΑΡΚΩΤΙΚΩΝ', 1),\n",
      "             ('Ν περί ΟΠΛΩΝ', 1),\n",
      "             ('Ν περί ΠΝΕΥΜΑΤΙΚΗΣ ΙΔΙΟΚΤΗΣΙΑΣ', 1),\n",
      "             ('ΠΛΑΣΤΟΓΡΑΦΙΑ', 1),\n",
      "             ('ΣΕΞΟΥΑΛΙΚΗ ΕΚΜΕΤΑΛΛΕΥΣΗ', 1),\n",
      "             ('Κλοπές - Διαρρήξεις από ιχε αυτ/τα', 0),\n",
      "             ('Κλοπές - Διαρρήξεις ιερών ναών', 0),\n",
      "             ('Κλοπές - Διαρρήξεις καταστημάτων', 0),\n",
      "             ('Κλοπές - Διαρρήξεις λοιπές', 0),\n",
      "             ('Κλοπές - Διαρρήξεις οικιών', 0),\n",
      "             ('Κλοπές - Διαρρήξεις σε συγκοινωνιακά μέσα', 0),\n",
      "             ('Κλοπές με αρπαγές τσαντών', 0),\n",
      "             ('Κλοπές σε δημόσιο χώρο-μικροκλοπες', 0),\n",
      "             ('Κλοπές Τροχοφόρων ΙΧΕ αυτ/των', 0),\n",
      "             ('Κλοπές Τροχοφόρων ΙΧΦ-Λεωφορείων', 0),\n",
      "             ('Κλοπές Τροχοφόρων Λοιπών οχημάτων', 0),\n",
      "             ('Κλοπές Τροχοφόρων Μοτοποδηλάτων', 0),\n",
      "             ('Κλοπές Τροχοφόρων Μοτοσυκλετών', 0),\n",
      "             ('Ληστείες εντός καταστημάτων', 0),\n",
      "             ('Ληστείες εντός οικιών', 0),\n",
      "             ('Ληστείες κινητών τηλεφώνων-μικροποσών', 0),\n",
      "             ('Ληστείες λοιπές', 0),\n",
      "             ('Ληστείες με αρπαγή τσάντας', 0),\n",
      "             ('Ληστείες οδηγών ταξί', 0),\n",
      "             ('Ληστείες πρατηρίων υγρών καυσίμων', 0),\n",
      "             ('Ληστείες σε ΕΛ.ΤΑ.', 0),\n",
      "             ('Ληστείες σε Μίνι Μάρκετ-κατ/τα ψιλικών', 0),\n",
      "             ('Ληστείες σε περίπτερα', 0),\n",
      "             ('Ληστείες σε πρακτορεία ΟΠΑΠ', 0),\n",
      "             ('Ληστείες σούπερ μάρκετ', 0),\n",
      "             ('Ληστείες ταχυδρομικών διανομέων', 0),\n",
      "             ('Ληστείες τραπεζών,ταχ/κών ταμιευτηρίων', 1),\n",
      "             ('Ληστείες χρηματαποστολών', 0)])\n"
     ]
    }
   ],
   "source": [
    "# Map crime names to their cluster.\n",
    "crimes_names = data_df[\"ΟΝΟΜΑ ΕΓΚΛΗΜΑΤΟΣ\"].tolist()\n",
    "clusters = OrderedDict(zip(crimes_names, cluster.labels_))\n",
    "pprint(clusters)"
   ],
   "metadata": {
    "collapsed": false,
    "pycharm": {
     "name": "#%%\n"
    }
   }
  },
  {
   "cell_type": "code",
   "execution_count": 16,
   "outputs": [
    {
     "data": {
      "text/plain": "     τελ/να  απόπειρες  εξιχνιάσεις  ημεδαποί  αλλοδαποί  Cluster\n0  0.262716   0.428129     0.593543  0.548135   0.308123        1\n1  0.825177   0.258875     0.449819  0.216418   0.053778        0\n2  0.544389   0.066732     0.611121  0.565463   0.077268        1\n3  0.561027   0.296802     0.593603  0.369192   0.329377        1\n4  0.677546   0.115434     0.446678  0.501886   0.276037        1",
      "text/html": "<div>\n<style scoped>\n    .dataframe tbody tr th:only-of-type {\n        vertical-align: middle;\n    }\n\n    .dataframe tbody tr th {\n        vertical-align: top;\n    }\n\n    .dataframe thead th {\n        text-align: right;\n    }\n</style>\n<table border=\"1\" class=\"dataframe\">\n  <thead>\n    <tr style=\"text-align: right;\">\n      <th></th>\n      <th>τελ/να</th>\n      <th>απόπειρες</th>\n      <th>εξιχνιάσεις</th>\n      <th>ημεδαποί</th>\n      <th>αλλοδαποί</th>\n      <th>Cluster</th>\n    </tr>\n  </thead>\n  <tbody>\n    <tr>\n      <th>0</th>\n      <td>0.262716</td>\n      <td>0.428129</td>\n      <td>0.593543</td>\n      <td>0.548135</td>\n      <td>0.308123</td>\n      <td>1</td>\n    </tr>\n    <tr>\n      <th>1</th>\n      <td>0.825177</td>\n      <td>0.258875</td>\n      <td>0.449819</td>\n      <td>0.216418</td>\n      <td>0.053778</td>\n      <td>0</td>\n    </tr>\n    <tr>\n      <th>2</th>\n      <td>0.544389</td>\n      <td>0.066732</td>\n      <td>0.611121</td>\n      <td>0.565463</td>\n      <td>0.077268</td>\n      <td>1</td>\n    </tr>\n    <tr>\n      <th>3</th>\n      <td>0.561027</td>\n      <td>0.296802</td>\n      <td>0.593603</td>\n      <td>0.369192</td>\n      <td>0.329377</td>\n      <td>1</td>\n    </tr>\n    <tr>\n      <th>4</th>\n      <td>0.677546</td>\n      <td>0.115434</td>\n      <td>0.446678</td>\n      <td>0.501886</td>\n      <td>0.276037</td>\n      <td>1</td>\n    </tr>\n  </tbody>\n</table>\n</div>"
     },
     "execution_count": 16,
     "metadata": {},
     "output_type": "execute_result"
    }
   ],
   "source": [
    "#Add the cluster vector to the DataFrame\n",
    "data_scaled[\"Cluster\"] = list(clusters.values())\n",
    "data_scaled.head()"
   ],
   "metadata": {
    "collapsed": false,
    "pycharm": {
     "name": "#%%\n"
    }
   }
  },
  {
   "cell_type": "markdown",
   "source": [
    "Now, to visualize our data, we will a DataFrame from using the 'PCA' algorithm.\n",
    "The DataFrame will hold the results of the PCA algorithm that returns three principal components.\n",
    "This DataFrame will allow us to visualize the clusters in three-dimensional space (3-D).\n"
   ],
   "metadata": {
    "collapsed": false,
    "pycharm": {
     "name": "#%% md\n"
    }
   }
  },
  {
   "cell_type": "code",
   "execution_count": 17,
   "outputs": [
    {
     "data": {
      "text/plain": "     τελ/να  απόπειρες  εξιχνιάσεις  ημεδαποί  αλλοδαποί  Cluster    PC1_3d  \\\n0  0.262716   0.428129     0.593543  0.548135   0.308123        1  0.715759   \n1  0.825177   0.258875     0.449819  0.216418   0.053778        0  0.044746   \n2  0.544389   0.066732     0.611121  0.565463   0.077268        1  0.454188   \n3  0.561027   0.296802     0.593603  0.369192   0.329377        1  0.447419   \n4  0.677546   0.115434     0.446678  0.501886   0.276037        1  0.324735   \n\n     PC2_3d    PC3_3d  \n0  0.194159  0.264171  \n1  0.124028  0.056750  \n2  0.143900 -0.170143  \n3  0.016783  0.170545  \n4  0.024627  0.014678  ",
      "text/html": "<div>\n<style scoped>\n    .dataframe tbody tr th:only-of-type {\n        vertical-align: middle;\n    }\n\n    .dataframe tbody tr th {\n        vertical-align: top;\n    }\n\n    .dataframe thead th {\n        text-align: right;\n    }\n</style>\n<table border=\"1\" class=\"dataframe\">\n  <thead>\n    <tr style=\"text-align: right;\">\n      <th></th>\n      <th>τελ/να</th>\n      <th>απόπειρες</th>\n      <th>εξιχνιάσεις</th>\n      <th>ημεδαποί</th>\n      <th>αλλοδαποί</th>\n      <th>Cluster</th>\n      <th>PC1_3d</th>\n      <th>PC2_3d</th>\n      <th>PC3_3d</th>\n    </tr>\n  </thead>\n  <tbody>\n    <tr>\n      <th>0</th>\n      <td>0.262716</td>\n      <td>0.428129</td>\n      <td>0.593543</td>\n      <td>0.548135</td>\n      <td>0.308123</td>\n      <td>1</td>\n      <td>0.715759</td>\n      <td>0.194159</td>\n      <td>0.264171</td>\n    </tr>\n    <tr>\n      <th>1</th>\n      <td>0.825177</td>\n      <td>0.258875</td>\n      <td>0.449819</td>\n      <td>0.216418</td>\n      <td>0.053778</td>\n      <td>0</td>\n      <td>0.044746</td>\n      <td>0.124028</td>\n      <td>0.056750</td>\n    </tr>\n    <tr>\n      <th>2</th>\n      <td>0.544389</td>\n      <td>0.066732</td>\n      <td>0.611121</td>\n      <td>0.565463</td>\n      <td>0.077268</td>\n      <td>1</td>\n      <td>0.454188</td>\n      <td>0.143900</td>\n      <td>-0.170143</td>\n    </tr>\n    <tr>\n      <th>3</th>\n      <td>0.561027</td>\n      <td>0.296802</td>\n      <td>0.593603</td>\n      <td>0.369192</td>\n      <td>0.329377</td>\n      <td>1</td>\n      <td>0.447419</td>\n      <td>0.016783</td>\n      <td>0.170545</td>\n    </tr>\n    <tr>\n      <th>4</th>\n      <td>0.677546</td>\n      <td>0.115434</td>\n      <td>0.446678</td>\n      <td>0.501886</td>\n      <td>0.276037</td>\n      <td>1</td>\n      <td>0.324735</td>\n      <td>0.024627</td>\n      <td>0.014678</td>\n    </tr>\n  </tbody>\n</table>\n</div>"
     },
     "execution_count": 17,
     "metadata": {},
     "output_type": "execute_result"
    }
   ],
   "source": [
    "from sklearn.decomposition import PCA\n",
    "#PCA with three principal components\n",
    "pca_3d = PCA(n_components=3)\n",
    "PCs_3d = pd.DataFrame(pca_3d.fit_transform(data_scaled.drop([\"Cluster\"], axis=1)))\n",
    "# Note that, above, we performed our PCA's on data that excluded the Cluster variable.\n",
    "PCs_3d.columns = [\"PC1_3d\", \"PC2_3d\", \"PC3_3d\"]\n",
    "# We concatenate the DataFrames so that they can be used by data_scaled as columns.\n",
    "data_scaled = pd.concat([data_scaled, PCs_3d], axis=1, join='inner')\n",
    "data_scaled.head()"
   ],
   "metadata": {
    "collapsed": false,
    "pycharm": {
     "name": "#%%\n"
    }
   }
  },
  {
   "cell_type": "code",
   "execution_count": 18,
   "outputs": [
    {
     "data": {
      "text/plain": "      τελ/να  απόπειρες  εξιχνιάσεις  ημεδαποί  αλλοδαποί  Cluster    PC1_3d  \\\n1   0.825177   0.258875     0.449819  0.216418   0.053778        0  0.044746   \n6   0.977642   0.011860     0.152492  0.138937   0.038970        0 -0.276860   \n7   0.952386   0.000269     0.223426  0.206467   0.020324        0 -0.197837   \n14  0.987829   0.090794     0.106819  0.062630   0.024864        0 -0.340997   \n15  0.808811   0.199272     0.436640  0.331143   0.076192        0  0.103184   \n\n      PC2_3d    PC3_3d  \n1   0.124028  0.056750  \n6  -0.008637 -0.015578  \n7   0.019822 -0.074446  \n14  0.016688  0.070356  \n15  0.128670  0.002182  ",
      "text/html": "<div>\n<style scoped>\n    .dataframe tbody tr th:only-of-type {\n        vertical-align: middle;\n    }\n\n    .dataframe tbody tr th {\n        vertical-align: top;\n    }\n\n    .dataframe thead th {\n        text-align: right;\n    }\n</style>\n<table border=\"1\" class=\"dataframe\">\n  <thead>\n    <tr style=\"text-align: right;\">\n      <th></th>\n      <th>τελ/να</th>\n      <th>απόπειρες</th>\n      <th>εξιχνιάσεις</th>\n      <th>ημεδαποί</th>\n      <th>αλλοδαποί</th>\n      <th>Cluster</th>\n      <th>PC1_3d</th>\n      <th>PC2_3d</th>\n      <th>PC3_3d</th>\n    </tr>\n  </thead>\n  <tbody>\n    <tr>\n      <th>1</th>\n      <td>0.825177</td>\n      <td>0.258875</td>\n      <td>0.449819</td>\n      <td>0.216418</td>\n      <td>0.053778</td>\n      <td>0</td>\n      <td>0.044746</td>\n      <td>0.124028</td>\n      <td>0.056750</td>\n    </tr>\n    <tr>\n      <th>6</th>\n      <td>0.977642</td>\n      <td>0.011860</td>\n      <td>0.152492</td>\n      <td>0.138937</td>\n      <td>0.038970</td>\n      <td>0</td>\n      <td>-0.276860</td>\n      <td>-0.008637</td>\n      <td>-0.015578</td>\n    </tr>\n    <tr>\n      <th>7</th>\n      <td>0.952386</td>\n      <td>0.000269</td>\n      <td>0.223426</td>\n      <td>0.206467</td>\n      <td>0.020324</td>\n      <td>0</td>\n      <td>-0.197837</td>\n      <td>0.019822</td>\n      <td>-0.074446</td>\n    </tr>\n    <tr>\n      <th>14</th>\n      <td>0.987829</td>\n      <td>0.090794</td>\n      <td>0.106819</td>\n      <td>0.062630</td>\n      <td>0.024864</td>\n      <td>0</td>\n      <td>-0.340997</td>\n      <td>0.016688</td>\n      <td>0.070356</td>\n    </tr>\n    <tr>\n      <th>15</th>\n      <td>0.808811</td>\n      <td>0.199272</td>\n      <td>0.436640</td>\n      <td>0.331143</td>\n      <td>0.076192</td>\n      <td>0</td>\n      <td>0.103184</td>\n      <td>0.128670</td>\n      <td>0.002182</td>\n    </tr>\n  </tbody>\n</table>\n</div>"
     },
     "execution_count": 18,
     "metadata": {},
     "output_type": "execute_result"
    }
   ],
   "source": [
    "# we have two clusters\n",
    "cluster_0 = data_scaled[data_scaled[\"Cluster\"] == 0]\n",
    "cluster_1 = data_scaled[data_scaled[\"Cluster\"] == 1]\n",
    "cluster_0.head()"
   ],
   "metadata": {
    "collapsed": false,
    "pycharm": {
     "name": "#%%\n"
    }
   }
  },
  {
   "cell_type": "code",
   "execution_count": 19,
   "outputs": [
    {
     "data": {
      "text/plain": "     τελ/να  απόπειρες  εξιχνιάσεις  ημεδαποί  αλλοδαποί  Cluster    PC1_3d  \\\n0  0.262716   0.428129     0.593543  0.548135   0.308123        1  0.715759   \n2  0.544389   0.066732     0.611121  0.565463   0.077268        1  0.454188   \n3  0.561027   0.296802     0.593603  0.369192   0.329377        1  0.447419   \n4  0.677546   0.115434     0.446678  0.501886   0.276037        1  0.324735   \n5  0.638091   0.000000     0.611871  0.283505   0.371588        1  0.354007   \n\n     PC2_3d    PC3_3d  \n0  0.194159  0.264171  \n2  0.143900 -0.170143  \n3  0.016783  0.170545  \n4  0.024627  0.014678  \n5 -0.223049 -0.016435  ",
      "text/html": "<div>\n<style scoped>\n    .dataframe tbody tr th:only-of-type {\n        vertical-align: middle;\n    }\n\n    .dataframe tbody tr th {\n        vertical-align: top;\n    }\n\n    .dataframe thead th {\n        text-align: right;\n    }\n</style>\n<table border=\"1\" class=\"dataframe\">\n  <thead>\n    <tr style=\"text-align: right;\">\n      <th></th>\n      <th>τελ/να</th>\n      <th>απόπειρες</th>\n      <th>εξιχνιάσεις</th>\n      <th>ημεδαποί</th>\n      <th>αλλοδαποί</th>\n      <th>Cluster</th>\n      <th>PC1_3d</th>\n      <th>PC2_3d</th>\n      <th>PC3_3d</th>\n    </tr>\n  </thead>\n  <tbody>\n    <tr>\n      <th>0</th>\n      <td>0.262716</td>\n      <td>0.428129</td>\n      <td>0.593543</td>\n      <td>0.548135</td>\n      <td>0.308123</td>\n      <td>1</td>\n      <td>0.715759</td>\n      <td>0.194159</td>\n      <td>0.264171</td>\n    </tr>\n    <tr>\n      <th>2</th>\n      <td>0.544389</td>\n      <td>0.066732</td>\n      <td>0.611121</td>\n      <td>0.565463</td>\n      <td>0.077268</td>\n      <td>1</td>\n      <td>0.454188</td>\n      <td>0.143900</td>\n      <td>-0.170143</td>\n    </tr>\n    <tr>\n      <th>3</th>\n      <td>0.561027</td>\n      <td>0.296802</td>\n      <td>0.593603</td>\n      <td>0.369192</td>\n      <td>0.329377</td>\n      <td>1</td>\n      <td>0.447419</td>\n      <td>0.016783</td>\n      <td>0.170545</td>\n    </tr>\n    <tr>\n      <th>4</th>\n      <td>0.677546</td>\n      <td>0.115434</td>\n      <td>0.446678</td>\n      <td>0.501886</td>\n      <td>0.276037</td>\n      <td>1</td>\n      <td>0.324735</td>\n      <td>0.024627</td>\n      <td>0.014678</td>\n    </tr>\n    <tr>\n      <th>5</th>\n      <td>0.638091</td>\n      <td>0.000000</td>\n      <td>0.611871</td>\n      <td>0.283505</td>\n      <td>0.371588</td>\n      <td>1</td>\n      <td>0.354007</td>\n      <td>-0.223049</td>\n      <td>-0.016435</td>\n    </tr>\n  </tbody>\n</table>\n</div>"
     },
     "execution_count": 19,
     "metadata": {},
     "output_type": "execute_result"
    }
   ],
   "source": [
    "cluster_1.head()"
   ],
   "metadata": {
    "collapsed": false,
    "pycharm": {
     "name": "#%%\n"
    }
   }
  },
  {
   "cell_type": "markdown",
   "source": [
    "### PCA Visualizations"
   ],
   "metadata": {
    "collapsed": false,
    "pycharm": {
     "name": "#%% md\n"
    }
   }
  },
  {
   "cell_type": "code",
   "execution_count": 20,
   "outputs": [
    {
     "data": {
      "text/plain": "<mpl_toolkits.mplot3d.art3d.Path3DCollection at 0x1f118af0>"
     },
     "execution_count": 20,
     "metadata": {},
     "output_type": "execute_result"
    },
    {
     "data": {
      "text/plain": "<Figure size 1008x576 with 1 Axes>",
      "image/png": "[encoded data removed]"
     },
     "metadata": {},
     "output_type": "display_data"
    }
   ],
   "source": [
    "fig = plt.figure(figsize=(14, 8))\n",
    "ax = fig.add_subplot(111, projection = '3d')\n",
    "\n",
    "x = PCs_3d['PC1_3d']\n",
    "y = PCs_3d['PC2_3d']\n",
    "z = PCs_3d['PC2_3d']\n",
    "\n",
    "ax.set_xlabel(\"PC1\")\n",
    "ax.set_ylabel(\"PC2\")\n",
    "ax.set_zlabel(\"PC3\")\n",
    "\n",
    "ax.scatter(x, y, z, marker=\"s\", c=data_scaled[\"Cluster\"], s=40, cmap=\"rainbow\")\n"
   ],
   "metadata": {
    "collapsed": false,
    "pycharm": {
     "name": "#%%\n"
    }
   }
  }
 ],
 "metadata": {
  "kernelspec": {
   "display_name": "Python 3",
   "language": "python",
   "name": "python3"
  },
  "language_info": {
   "codemirror_mode": {
    "name": "ipython",
    "version": 2
   },
   "file_extension": ".py",
   "mimetype": "text/x-python",
   "name": "python",
   "nbconvert_exporter": "python",
   "pygments_lexer": "ipython2",
   "version": "2.7.6"
  }
 },
 "nbformat": 4,
 "nbformat_minor": 0
}