{
 "cells": [
  {
   "cell_type": "markdown",
   "source": [
    "## Exercise 1\n",
    "Tasks:\n",
    "- Cluster the types of crimes based on the success of the police in facing/solving them.\n",
    "- Cluster the types of crimes and explain what each cluster represents.\n",
    "- Identify outliers in crime types and explain what they represent/why they are outliers.\n",
    "- Try to predict the super-category (e.g. ΕΠΙΚΡΑΤΕΙΑ/ΚΛΟΠΕΣ-ΔΙΑΡΡΗΞΕΙΣ, ...) of a record given only its numeric fields (τελ/να, απόπειρες, εξιχνιάσεις, ημεδαποί, αλλοδαποί), providing an explanation of the main factors for the decision and report the performance on a cross-validation evaluation.\n"
   ],
   "metadata": {
    "collapsed": false,
    "pycharm": {
     "name": "#%% md\n"
    }
   }
  },
  {
   "cell_type": "markdown",
   "metadata": {
    "collapsed": true,
    "pycharm": {
     "name": "#%% md\n"
    }
   },
   "source": [
    "### Imports"
   ]
  },
  {
   "cell_type": "code",
   "execution_count": 2,
   "outputs": [],
   "source": [
    "import pandas as pd\n",
    "import numpy as np\n",
    "import matplotlib.pyplot as plt"
   ],
   "metadata": {
    "collapsed": false,
    "pycharm": {
     "name": "#%%\n"
    }
   }
  },
  {
   "cell_type": "code",
   "execution_count": 3,
   "outputs": [
    {
     "data": {
      "text/plain": "  ΟΝΟΜΑ ΕΓΚΛΗΜΑΤΟΣ  τελ/να  απόπειρες  εξιχνιάσεις  ημεδαποί  αλλοδαποί\n0   ΑΝΘΡΩΠΟΚΤΟΝΙΕΣ      81        132          183       169         95\n1           ΑΠΑΤΕΣ    3790       1189         2066       994        247\n2   ΑΡΧΑΙΟΚΑΠΗΛΕΙΑ     155         19          174       161         22\n3          ΒΙΑΣΜΟΙ     155         82          164       102         91\n4        ΕΚΒΙΑΣΕΙΣ     135         23           89       100         55",
      "text/html": "<div>\n<style scoped>\n    .dataframe tbody tr th:only-of-type {\n        vertical-align: middle;\n    }\n\n    .dataframe tbody tr th {\n        vertical-align: top;\n    }\n\n    .dataframe thead th {\n        text-align: right;\n    }\n</style>\n<table border=\"1\" class=\"dataframe\">\n  <thead>\n    <tr style=\"text-align: right;\">\n      <th></th>\n      <th>ΟΝΟΜΑ ΕΓΚΛΗΜΑΤΟΣ</th>\n      <th>τελ/να</th>\n      <th>απόπειρες</th>\n      <th>εξιχνιάσεις</th>\n      <th>ημεδαποί</th>\n      <th>αλλοδαποί</th>\n    </tr>\n  </thead>\n  <tbody>\n    <tr>\n      <th>0</th>\n      <td>ΑΝΘΡΩΠΟΚΤΟΝΙΕΣ</td>\n      <td>81</td>\n      <td>132</td>\n      <td>183</td>\n      <td>169</td>\n      <td>95</td>\n    </tr>\n    <tr>\n      <th>1</th>\n      <td>ΑΠΑΤΕΣ</td>\n      <td>3790</td>\n      <td>1189</td>\n      <td>2066</td>\n      <td>994</td>\n      <td>247</td>\n    </tr>\n    <tr>\n      <th>2</th>\n      <td>ΑΡΧΑΙΟΚΑΠΗΛΕΙΑ</td>\n      <td>155</td>\n      <td>19</td>\n      <td>174</td>\n      <td>161</td>\n      <td>22</td>\n    </tr>\n    <tr>\n      <th>3</th>\n      <td>ΒΙΑΣΜΟΙ</td>\n      <td>155</td>\n      <td>82</td>\n      <td>164</td>\n      <td>102</td>\n      <td>91</td>\n    </tr>\n    <tr>\n      <th>4</th>\n      <td>ΕΚΒΙΑΣΕΙΣ</td>\n      <td>135</td>\n      <td>23</td>\n      <td>89</td>\n      <td>100</td>\n      <td>55</td>\n    </tr>\n  </tbody>\n</table>\n</div>"
     },
     "execution_count": 3,
     "metadata": {},
     "output_type": "execute_result"
    }
   ],
   "source": [
    "FILE_NAME = \"2016_epikrateia.xlsx\"\n",
    "\n",
    "# load the first two sheets\n",
    "dfs = pd.read_excel(FILE_NAME, sheet_name=[0, 1])\n",
    "data_df = dfs[0]  # type: pd.DataFrame\n",
    "superclass_df = dfs[1]  # type: pd.DataFrame\n",
    "\n",
    "data_df.head()"
   ],
   "metadata": {
    "collapsed": false,
    "pycharm": {
     "name": "#%%\n"
    }
   }
  },
  {
   "cell_type": "code",
   "execution_count": 4,
   "outputs": [
    {
     "data": {
      "text/plain": "                          ΟΝΟΜΑ ΕΓΚΛΗΜΑΤΟΣ  τελ/να  απόπειρες  εξιχνιάσεις  \\\n37             Ληστείες σε πρακτορεία ΟΠΑΠ      31          5            3   \n38                  Ληστείες σούπερ μάρκετ     127          2           50   \n39         Ληστείες ταχυδρομικών διανομέων       4          3            1   \n40  Ληστείες τραπεζών,ταχ/κών ταμιευτηρίων      14          2           12   \n41                Ληστείες χρηματαποστολών      21          2            1   \n\n    ημεδαποί  αλλοδαποί  \n37         3          5  \n38        24         10  \n39         2          0  \n40         8          0  \n41         3          0  ",
      "text/html": "<div>\n<style scoped>\n    .dataframe tbody tr th:only-of-type {\n        vertical-align: middle;\n    }\n\n    .dataframe tbody tr th {\n        vertical-align: top;\n    }\n\n    .dataframe thead th {\n        text-align: right;\n    }\n</style>\n<table border=\"1\" class=\"dataframe\">\n  <thead>\n    <tr style=\"text-align: right;\">\n      <th></th>\n      <th>ΟΝΟΜΑ ΕΓΚΛΗΜΑΤΟΣ</th>\n      <th>τελ/να</th>\n      <th>απόπειρες</th>\n      <th>εξιχνιάσεις</th>\n      <th>ημεδαποί</th>\n      <th>αλλοδαποί</th>\n    </tr>\n  </thead>\n  <tbody>\n    <tr>\n      <th>37</th>\n      <td>Ληστείες σε πρακτορεία ΟΠΑΠ</td>\n      <td>31</td>\n      <td>5</td>\n      <td>3</td>\n      <td>3</td>\n      <td>5</td>\n    </tr>\n    <tr>\n      <th>38</th>\n      <td>Ληστείες σούπερ μάρκετ</td>\n      <td>127</td>\n      <td>2</td>\n      <td>50</td>\n      <td>24</td>\n      <td>10</td>\n    </tr>\n    <tr>\n      <th>39</th>\n      <td>Ληστείες ταχυδρομικών διανομέων</td>\n      <td>4</td>\n      <td>3</td>\n      <td>1</td>\n      <td>2</td>\n      <td>0</td>\n    </tr>\n    <tr>\n      <th>40</th>\n      <td>Ληστείες τραπεζών,ταχ/κών ταμιευτηρίων</td>\n      <td>14</td>\n      <td>2</td>\n      <td>12</td>\n      <td>8</td>\n      <td>0</td>\n    </tr>\n    <tr>\n      <th>41</th>\n      <td>Ληστείες χρηματαποστολών</td>\n      <td>21</td>\n      <td>2</td>\n      <td>1</td>\n      <td>3</td>\n      <td>0</td>\n    </tr>\n  </tbody>\n</table>\n</div>"
     },
     "execution_count": 4,
     "metadata": {},
     "output_type": "execute_result"
    }
   ],
   "source": [
    "data_df.tail()"
   ],
   "metadata": {
    "collapsed": false,
    "pycharm": {
     "name": "#%%\n"
    }
   }
  },
  {
   "cell_type": "code",
   "execution_count": 5,
   "outputs": [
    {
     "data": {
      "text/plain": "                 ΟΝΟΜΑ  τελ/να  απόπειρες  εξιχνιάσεις  ημεδαποί  αλλοδαποί\n0      ΛΟΙΠΑ ΕΓΚΛΗΜΑΤΑ   34805       1483        25964     21089       9573\n1  ΚΛΟΠΕΣ - ΔΙΑΡΡΗΞΕΙΣ   75083       5469        14798      9990       3961\n2    ΚΛΟΠΕΣ ΤΡΟΧΟΦΟΡΩΝ   26180        720         8543      1405        451\n3             ΛΗΣΤΕΙΕΣ    4738        325         1582      1295        618",
      "text/html": "<div>\n<style scoped>\n    .dataframe tbody tr th:only-of-type {\n        vertical-align: middle;\n    }\n\n    .dataframe tbody tr th {\n        vertical-align: top;\n    }\n\n    .dataframe thead th {\n        text-align: right;\n    }\n</style>\n<table border=\"1\" class=\"dataframe\">\n  <thead>\n    <tr style=\"text-align: right;\">\n      <th></th>\n      <th>ΟΝΟΜΑ</th>\n      <th>τελ/να</th>\n      <th>απόπειρες</th>\n      <th>εξιχνιάσεις</th>\n      <th>ημεδαποί</th>\n      <th>αλλοδαποί</th>\n    </tr>\n  </thead>\n  <tbody>\n    <tr>\n      <th>0</th>\n      <td>ΛΟΙΠΑ ΕΓΚΛΗΜΑΤΑ</td>\n      <td>34805</td>\n      <td>1483</td>\n      <td>25964</td>\n      <td>21089</td>\n      <td>9573</td>\n    </tr>\n    <tr>\n      <th>1</th>\n      <td>ΚΛΟΠΕΣ - ΔΙΑΡΡΗΞΕΙΣ</td>\n      <td>75083</td>\n      <td>5469</td>\n      <td>14798</td>\n      <td>9990</td>\n      <td>3961</td>\n    </tr>\n    <tr>\n      <th>2</th>\n      <td>ΚΛΟΠΕΣ ΤΡΟΧΟΦΟΡΩΝ</td>\n      <td>26180</td>\n      <td>720</td>\n      <td>8543</td>\n      <td>1405</td>\n      <td>451</td>\n    </tr>\n    <tr>\n      <th>3</th>\n      <td>ΛΗΣΤΕΙΕΣ</td>\n      <td>4738</td>\n      <td>325</td>\n      <td>1582</td>\n      <td>1295</td>\n      <td>618</td>\n    </tr>\n  </tbody>\n</table>\n</div>"
     },
     "execution_count": 5,
     "metadata": {},
     "output_type": "execute_result"
    }
   ],
   "source": [
    "superclass_df.head()"
   ],
   "metadata": {
    "collapsed": false,
    "pycharm": {
     "name": "#%%\n"
    }
   }
  },
  {
   "cell_type": "markdown",
   "source": [
    "For the first task we have to cluster the types of crimes based on the success of the police in facing/solving them.\n",
    "\n",
    "In order to achieve this, we have to keep the columns \"τελ/να\" and \"απόπειρες\" as well as the values in the column\n",
    "\"ΟΝΟΜΑ ΕΓΚΛΗΜΑΤΟΣ\".\n",
    "\n",
    "However, we need to tranform the data use as columns the data from \"ΟΝΟΜΑ ΕΓΚΛΗΜΑΤΟΣ\" and values the data from  columns \"τελ/να\" and \"απόπειρες\"."
   ],
   "metadata": {
    "collapsed": false
   }
  },
  {
   "cell_type": "code",
   "execution_count": 6,
   "outputs": [
    {
     "data": {
      "text/plain": "            ΑΝΘΡΩΠΟΚΤΟΝΙΕΣ ΑΠΑΤΕΣ ΑΡΧΑΙΟΚΑΠΗΛΕΙΑ ΒΙΑΣΜΟΙ ΕΚΒΙΑΣΕΙΣ ΕΠΑΙΤΕΙΑ  \\\nτελ/να                  81   3790            155     155       135     3115   \nεξιχνιάσεις            183   2066            174     164        89     2987   \n\n            ΖΩΟΚΛΟΠΗ ΚΥΚΛΟΦΟΡΙΑ ΠΑΡΑΧΑΡΑΓΜΕΝΩΝ ΛΑΘΡΕΜΠΟΡΙΟ Ν περί ΝΑΡΚΩΤΙΚΩΝ  \\\nτελ/να           577                      7076        1425             10892   \nεξιχνιάσεις       90                      1660        1262             10569   \n\n             ... Ληστείες οδηγών ταξί Ληστείες πρατηρίων υγρών καυσίμων  \\\nτελ/να       ...                  173                                91   \nεξιχνιάσεις  ...                   61                                28   \n\n            Ληστείες σε ΕΛ.ΤΑ. Ληστείες σε Μίνι Μάρκετ-κατ/τα ψιλικών  \\\nτελ/να                      19                                     79   \nεξιχνιάσεις                  3                                     26   \n\n            Ληστείες σε περίπτερα Ληστείες σε πρακτορεία ΟΠΑΠ  \\\nτελ/να                        105                          31   \nεξιχνιάσεις                    24                           3   \n\n            Ληστείες σούπερ μάρκετ Ληστείες ταχυδρομικών διανομέων  \\\nτελ/να                         127                               4   \nεξιχνιάσεις                     50                               1   \n\n            Ληστείες τραπεζών,ταχ/κών ταμιευτηρίων Ληστείες χρηματαποστολών  \nτελ/να                                          14                       21  \nεξιχνιάσεις                                     12                        1  \n\n[2 rows x 42 columns]",
      "text/html": "<div>\n<style scoped>\n    .dataframe tbody tr th:only-of-type {\n        vertical-align: middle;\n    }\n\n    .dataframe tbody tr th {\n        vertical-align: top;\n    }\n\n    .dataframe thead th {\n        text-align: right;\n    }\n</style>\n<table border=\"1\" class=\"dataframe\">\n  <thead>\n    <tr style=\"text-align: right;\">\n      <th></th>\n      <th>ΑΝΘΡΩΠΟΚΤΟΝΙΕΣ</th>\n      <th>ΑΠΑΤΕΣ</th>\n      <th>ΑΡΧΑΙΟΚΑΠΗΛΕΙΑ</th>\n      <th>ΒΙΑΣΜΟΙ</th>\n      <th>ΕΚΒΙΑΣΕΙΣ</th>\n      <th>ΕΠΑΙΤΕΙΑ</th>\n      <th>ΖΩΟΚΛΟΠΗ</th>\n      <th>ΚΥΚΛΟΦΟΡΙΑ ΠΑΡΑΧΑΡΑΓΜΕΝΩΝ</th>\n      <th>ΛΑΘΡΕΜΠΟΡΙΟ</th>\n      <th>Ν περί ΝΑΡΚΩΤΙΚΩΝ</th>\n      <th>...</th>\n      <th>Ληστείες οδηγών ταξί</th>\n      <th>Ληστείες πρατηρίων υγρών καυσίμων</th>\n      <th>Ληστείες σε ΕΛ.ΤΑ.</th>\n      <th>Ληστείες σε Μίνι Μάρκετ-κατ/τα ψιλικών</th>\n      <th>Ληστείες σε περίπτερα</th>\n      <th>Ληστείες σε πρακτορεία ΟΠΑΠ</th>\n      <th>Ληστείες σούπερ μάρκετ</th>\n      <th>Ληστείες ταχυδρομικών διανομέων</th>\n      <th>Ληστείες τραπεζών,ταχ/κών ταμιευτηρίων</th>\n      <th>Ληστείες χρηματαποστολών</th>\n    </tr>\n  </thead>\n  <tbody>\n    <tr>\n      <th>τελ/να</th>\n      <td>81</td>\n      <td>3790</td>\n      <td>155</td>\n      <td>155</td>\n      <td>135</td>\n      <td>3115</td>\n      <td>577</td>\n      <td>7076</td>\n      <td>1425</td>\n      <td>10892</td>\n      <td>...</td>\n      <td>173</td>\n      <td>91</td>\n      <td>19</td>\n      <td>79</td>\n      <td>105</td>\n      <td>31</td>\n      <td>127</td>\n      <td>4</td>\n      <td>14</td>\n      <td>21</td>\n    </tr>\n    <tr>\n      <th>εξιχνιάσεις</th>\n      <td>183</td>\n      <td>2066</td>\n      <td>174</td>\n      <td>164</td>\n      <td>89</td>\n      <td>2987</td>\n      <td>90</td>\n      <td>1660</td>\n      <td>1262</td>\n      <td>10569</td>\n      <td>...</td>\n      <td>61</td>\n      <td>28</td>\n      <td>3</td>\n      <td>26</td>\n      <td>24</td>\n      <td>3</td>\n      <td>50</td>\n      <td>1</td>\n      <td>12</td>\n      <td>1</td>\n    </tr>\n  </tbody>\n</table>\n<p>2 rows × 42 columns</p>\n</div>"
     },
     "execution_count": 6,
     "metadata": {},
     "output_type": "execute_result"
    }
   ],
   "source": [
    "\n",
    "indexes = [\"τελ/να\", \"εξιχνιάσεις\"]\n",
    "task_1_df = pd.DataFrame(columns=data_df['ΟΝΟΜΑ ΕΓΚΛΗΜΑΤΟΣ'].tolist(), index=indexes)\n",
    "for i in indexes:\n",
    "    task_1_df.loc[i] = data_df[i].tolist()\n",
    "task_1_df.head()"
   ],
   "metadata": {
    "collapsed": false,
    "pycharm": {
     "name": "#%%\n"
    }
   }
  },
  {
   "cell_type": "markdown",
   "source": [
    "We have to normalize the data so that the scale of each variable is the same. Why is this important?\n",
    "\n",
    "If the scale of the variables is not the same, the model might become biased towards the variables with a higher magnitude like ΑΠΑΤΕΣ or ΕΠΑΙΤΕΙΑ."
   ],
   "metadata": {
    "collapsed": false
   }
  },
  {
   "cell_type": "code",
   "execution_count": 7,
   "outputs": [
    {
     "data": {
      "text/plain": "   ΑΝΘΡΩΠΟΚΤΟΝΙΕΣ    ΑΠΑΤΕΣ  ΑΡΧΑΙΟΚΑΠΗΛΕΙΑ   ΒΙΑΣΜΟΙ  ΕΚΒΙΑΣΕΙΣ  ΕΠΑΙΤΕΙΑ  \\\n0        0.002031  0.095015        0.003886  0.003886   0.003384  0.078093   \n1        0.012175  0.137448        0.011576  0.010911   0.005921  0.198721   \n\n   ΖΩΟΚΛΟΠΗ  ΚΥΚΛΟΦΟΡΙΑ ΠΑΡΑΧΑΡΑΓΜΕΝΩΝ  ΛΑΘΡΕΜΠΟΡΙΟ  Ν περί ΝΑΡΚΩΤΙΚΩΝ  ...  \\\n0  0.014465                   0.177394     0.035725           0.273061  ...   \n1  0.005988                   0.110438     0.083959           0.703142  ...   \n\n   Ληστείες οδηγών ταξί  Ληστείες πρατηρίων υγρών καυσίμων  \\\n0              0.004337                           0.002281   \n1              0.004058                           0.001863   \n\n   Ληστείες σε ΕΛ.ΤΑ.  Ληστείες σε Μίνι Μάρκετ-κατ/τα ψιλικών  \\\n0            0.000476                                0.001981   \n1            0.000200                                0.001730   \n\n   Ληστείες σε περίπτερα  Ληστείες σε πρακτορεία ΟΠΑΠ  Ληστείες σούπερ μάρκετ  \\\n0               0.002632                     0.000777                0.003184   \n1               0.001597                     0.000200                0.003326   \n\n   Ληστείες ταχυδρομικών διανομέων  Ληστείες τραπεζών,ταχ/κών ταμιευτηρίων  \\\n0                         0.000100                                0.000351   \n1                         0.000067                                0.000798   \n\n   Ληστείες χρηματαποστολών  \n0                  0.000526  \n1                  0.000067  \n\n[2 rows x 42 columns]",
      "text/html": "<div>\n<style scoped>\n    .dataframe tbody tr th:only-of-type {\n        vertical-align: middle;\n    }\n\n    .dataframe tbody tr th {\n        vertical-align: top;\n    }\n\n    .dataframe thead th {\n        text-align: right;\n    }\n</style>\n<table border=\"1\" class=\"dataframe\">\n  <thead>\n    <tr style=\"text-align: right;\">\n      <th></th>\n      <th>ΑΝΘΡΩΠΟΚΤΟΝΙΕΣ</th>\n      <th>ΑΠΑΤΕΣ</th>\n      <th>ΑΡΧΑΙΟΚΑΠΗΛΕΙΑ</th>\n      <th>ΒΙΑΣΜΟΙ</th>\n      <th>ΕΚΒΙΑΣΕΙΣ</th>\n      <th>ΕΠΑΙΤΕΙΑ</th>\n      <th>ΖΩΟΚΛΟΠΗ</th>\n      <th>ΚΥΚΛΟΦΟΡΙΑ ΠΑΡΑΧΑΡΑΓΜΕΝΩΝ</th>\n      <th>ΛΑΘΡΕΜΠΟΡΙΟ</th>\n      <th>Ν περί ΝΑΡΚΩΤΙΚΩΝ</th>\n      <th>...</th>\n      <th>Ληστείες οδηγών ταξί</th>\n      <th>Ληστείες πρατηρίων υγρών καυσίμων</th>\n      <th>Ληστείες σε ΕΛ.ΤΑ.</th>\n      <th>Ληστείες σε Μίνι Μάρκετ-κατ/τα ψιλικών</th>\n      <th>Ληστείες σε περίπτερα</th>\n      <th>Ληστείες σε πρακτορεία ΟΠΑΠ</th>\n      <th>Ληστείες σούπερ μάρκετ</th>\n      <th>Ληστείες ταχυδρομικών διανομέων</th>\n      <th>Ληστείες τραπεζών,ταχ/κών ταμιευτηρίων</th>\n      <th>Ληστείες χρηματαποστολών</th>\n    </tr>\n  </thead>\n  <tbody>\n    <tr>\n      <th>0</th>\n      <td>0.002031</td>\n      <td>0.095015</td>\n      <td>0.003886</td>\n      <td>0.003886</td>\n      <td>0.003384</td>\n      <td>0.078093</td>\n      <td>0.014465</td>\n      <td>0.177394</td>\n      <td>0.035725</td>\n      <td>0.273061</td>\n      <td>...</td>\n      <td>0.004337</td>\n      <td>0.002281</td>\n      <td>0.000476</td>\n      <td>0.001981</td>\n      <td>0.002632</td>\n      <td>0.000777</td>\n      <td>0.003184</td>\n      <td>0.000100</td>\n      <td>0.000351</td>\n      <td>0.000526</td>\n    </tr>\n    <tr>\n      <th>1</th>\n      <td>0.012175</td>\n      <td>0.137448</td>\n      <td>0.011576</td>\n      <td>0.010911</td>\n      <td>0.005921</td>\n      <td>0.198721</td>\n      <td>0.005988</td>\n      <td>0.110438</td>\n      <td>0.083959</td>\n      <td>0.703142</td>\n      <td>...</td>\n      <td>0.004058</td>\n      <td>0.001863</td>\n      <td>0.000200</td>\n      <td>0.001730</td>\n      <td>0.001597</td>\n      <td>0.000200</td>\n      <td>0.003326</td>\n      <td>0.000067</td>\n      <td>0.000798</td>\n      <td>0.000067</td>\n    </tr>\n  </tbody>\n</table>\n<p>2 rows × 42 columns</p>\n</div>"
     },
     "execution_count": 7,
     "metadata": {},
     "output_type": "execute_result"
    }
   ],
   "source": [
    "from sklearn.preprocessing import normalize\n",
    "data_scaled = normalize(task_1_df)\n",
    "data_scaled = pd.DataFrame(data_scaled, columns=task_1_df.columns)\n",
    "data_scaled.head()"
   ],
   "metadata": {
    "collapsed": false,
    "pycharm": {
     "name": "#%%\n"
    }
   }
  },
  {
   "cell_type": "code",
   "execution_count": 9,
   "outputs": [
    {
     "data": {
      "text/plain": "<Figure size 720x504 with 1 Axes>",
      "image/png": "[encoded data removed]"
     },
     "metadata": {
      "needs_background": "light"
     },
     "output_type": "display_data"
    }
   ],
   "source": [
    "import scipy.cluster.hierarchy as shc\n",
    "plt.figure(figsize=(10, 7))\n",
    "plt.title(\"Dendrograms\")\n",
    "dend = shc.dendrogram(shc.linkage(data_scaled, method='centroid'))"
   ],
   "metadata": {
    "collapsed": false,
    "pycharm": {
     "name": "#%%\n"
    }
   }
  }
 ],
 "metadata": {
  "kernelspec": {
   "display_name": "Python 3",
   "language": "python",
   "name": "python3"
  },
  "language_info": {
   "codemirror_mode": {
    "name": "ipython",
    "version": 2
   },
   "file_extension": ".py",
   "mimetype": "text/x-python",
   "name": "python",
   "nbconvert_exporter": "python",
   "pygments_lexer": "ipython2",
   "version": "2.7.6"
  }
 },
 "nbformat": 4,
 "nbformat_minor": 0
}