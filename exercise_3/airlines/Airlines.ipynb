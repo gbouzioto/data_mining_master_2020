{
 "cells": [
  {
   "cell_type": "markdown",
   "metadata": {
    "pycharm": {
     "name": "#%% md\n"
    }
   },
   "source": [
    "## Exercise 2\n",
    "The dataset is in \"arff\" format. You will easily understand the features and their possible values by inspecting the file. You may apply whatever transformation you like to transform the dataset in a more useful form for your task.\n",
    " \n",
    "Tasks:\n",
    "- Provide an overview of the dataset size, features, and distribution of feature values.\n",
    "- Describe the average delays per airport/airline.\n",
    "- Identify and report the most prominent rules of association between delays and point of origin AND/OR point of arrival.\n",
    "- Try to predict the delay given all other features and report the appropriate performance on cross-validation.\n",
    "- Identify patterns/rules regarding delays and try to explain when delays should be expected, based on these patterns."
   ]
  },
  {
   "cell_type": "markdown",
   "metadata": {},
   "source": [
    "# - Provide an overview of the dataset size, features, and distribution of feature values."
   ]
  },
  {
   "cell_type": "code",
   "execution_count": 33,
   "metadata": {},
   "outputs": [],
   "source": [
    "from scipy.io import arff\n",
    "import pandas as pd\n",
    "import numpy as np"
   ]
  },
  {
   "cell_type": "code",
   "execution_count": 34,
   "metadata": {},
   "outputs": [],
   "source": [
    "with open('Airlines.arff', 'r') as fp:\n",
    "    file_content = fp.readlines()"
   ]
  },
  {
   "cell_type": "code",
   "execution_count": 35,
   "metadata": {},
   "outputs": [],
   "source": [
    "columns = []\n",
    "len_attr = len('@attribute')\n",
    "\n",
    "# get the columns\n",
    "for line in file_content:\n",
    "    if line.startswith('@attribute '):\n",
    "        col_name = line[len_attr:].split()[0]\n",
    "        columns.append(col_name)"
   ]
  },
  {
   "cell_type": "code",
   "execution_count": 36,
   "metadata": {},
   "outputs": [
    {
     "data": {
      "text/plain": [
       "['DayofWeek',\n",
       " 'CRSDepTime',\n",
       " 'UniqueCarrier',\n",
       " 'FlightNum',\n",
       " 'Origin',\n",
       " 'Dest',\n",
       " 'ArrDelay']"
      ]
     },
     "execution_count": 36,
     "metadata": {},
     "output_type": "execute_result"
    }
   ],
   "source": [
    "columns"
   ]
  },
  {
   "cell_type": "code",
   "execution_count": 37,
   "metadata": {},
   "outputs": [
    {
     "data": {
      "text/plain": [
       "'@data\\n'"
      ]
     },
     "execution_count": 37,
     "metadata": {},
     "output_type": "execute_result"
    }
   ],
   "source": [
    "file_content[10]"
   ]
  },
  {
   "cell_type": "code",
   "execution_count": 38,
   "metadata": {},
   "outputs": [],
   "source": [
    "rawdata = []\n",
    "for i in range(11,len(file_content)):\n",
    "    tmp = file_content[i].split(',')\n",
    "    tmp = [tmp.strip('\\n') for tmp in tmp]\n",
    "    rawdata.append(tmp)"
   ]
  },
  {
   "cell_type": "code",
   "execution_count": 39,
   "metadata": {},
   "outputs": [],
   "source": [
    "df = pd.DataFrame(rawdata, columns=columns)"
   ]
  },
  {
   "cell_type": "code",
   "execution_count": 40,
   "metadata": {},
   "outputs": [
    {
     "data": {
      "text/html": [
       "<div>\n",
       "<style scoped>\n",
       "    .dataframe tbody tr th:only-of-type {\n",
       "        vertical-align: middle;\n",
       "    }\n",
       "\n",
       "    .dataframe tbody tr th {\n",
       "        vertical-align: top;\n",
       "    }\n",
       "\n",
       "    .dataframe thead th {\n",
       "        text-align: right;\n",
       "    }\n",
       "</style>\n",
       "<table border=\"1\" class=\"dataframe\">\n",
       "  <thead>\n",
       "    <tr style=\"text-align: right;\">\n",
       "      <th></th>\n",
       "      <th>DayofWeek</th>\n",
       "      <th>CRSDepTime</th>\n",
       "      <th>UniqueCarrier</th>\n",
       "      <th>FlightNum</th>\n",
       "      <th>Origin</th>\n",
       "      <th>Dest</th>\n",
       "      <th>ArrDelay</th>\n",
       "    </tr>\n",
       "  </thead>\n",
       "  <tbody>\n",
       "    <tr>\n",
       "      <th>0</th>\n",
       "      <td>5</td>\n",
       "      <td>600</td>\n",
       "      <td>UA</td>\n",
       "      <td>899.0</td>\n",
       "      <td>ORD</td>\n",
       "      <td>IAD</td>\n",
       "      <td>-3</td>\n",
       "    </tr>\n",
       "    <tr>\n",
       "      <th>1</th>\n",
       "      <td>5</td>\n",
       "      <td>615</td>\n",
       "      <td>DL</td>\n",
       "      <td>357.0</td>\n",
       "      <td>IAD</td>\n",
       "      <td>ATL</td>\n",
       "      <td>5</td>\n",
       "    </tr>\n",
       "    <tr>\n",
       "      <th>2</th>\n",
       "      <td>5</td>\n",
       "      <td>615</td>\n",
       "      <td>UA</td>\n",
       "      <td>341.0</td>\n",
       "      <td>IAD</td>\n",
       "      <td>DEN</td>\n",
       "      <td>8</td>\n",
       "    </tr>\n",
       "    <tr>\n",
       "      <th>3</th>\n",
       "      <td>5</td>\n",
       "      <td>625</td>\n",
       "      <td>CO</td>\n",
       "      <td>581.0</td>\n",
       "      <td>IAD</td>\n",
       "      <td>DEN</td>\n",
       "      <td>44</td>\n",
       "    </tr>\n",
       "    <tr>\n",
       "      <th>4</th>\n",
       "      <td>5</td>\n",
       "      <td>630</td>\n",
       "      <td>UA</td>\n",
       "      <td>902.0</td>\n",
       "      <td>CLE</td>\n",
       "      <td>IAD</td>\n",
       "      <td>-10</td>\n",
       "    </tr>\n",
       "    <tr>\n",
       "      <th>...</th>\n",
       "      <td>...</td>\n",
       "      <td>...</td>\n",
       "      <td>...</td>\n",
       "      <td>...</td>\n",
       "      <td>...</td>\n",
       "      <td>...</td>\n",
       "      <td>...</td>\n",
       "    </tr>\n",
       "    <tr>\n",
       "      <th>100156</th>\n",
       "      <td>6</td>\n",
       "      <td>2140</td>\n",
       "      <td>UA</td>\n",
       "      <td>30.0</td>\n",
       "      <td>LAX</td>\n",
       "      <td>IAD</td>\n",
       "      <td>-19</td>\n",
       "    </tr>\n",
       "    <tr>\n",
       "      <th>100157</th>\n",
       "      <td>6</td>\n",
       "      <td>2140</td>\n",
       "      <td>CO</td>\n",
       "      <td>896.0</td>\n",
       "      <td>LAX</td>\n",
       "      <td>IAD</td>\n",
       "      <td>-23</td>\n",
       "    </tr>\n",
       "    <tr>\n",
       "      <th>100158</th>\n",
       "      <td>6</td>\n",
       "      <td>2150</td>\n",
       "      <td>UA</td>\n",
       "      <td>1094.0</td>\n",
       "      <td>IAD</td>\n",
       "      <td>BDL</td>\n",
       "      <td>-14</td>\n",
       "    </tr>\n",
       "    <tr>\n",
       "      <th>100159</th>\n",
       "      <td>6</td>\n",
       "      <td>2155</td>\n",
       "      <td>US</td>\n",
       "      <td>394.0</td>\n",
       "      <td>PIT</td>\n",
       "      <td>IAD</td>\n",
       "      <td>9</td>\n",
       "    </tr>\n",
       "    <tr>\n",
       "      <th>100160</th>\n",
       "      <td>6</td>\n",
       "      <td>2230</td>\n",
       "      <td>UA</td>\n",
       "      <td>16.0</td>\n",
       "      <td>SFO</td>\n",
       "      <td>IAD</td>\n",
       "      <td>-7</td>\n",
       "    </tr>\n",
       "  </tbody>\n",
       "</table>\n",
       "<p>100161 rows × 7 columns</p>\n",
       "</div>"
      ],
      "text/plain": [
       "       DayofWeek CRSDepTime UniqueCarrier FlightNum Origin Dest ArrDelay\n",
       "0              5        600            UA     899.0    ORD  IAD       -3\n",
       "1              5        615            DL     357.0    IAD  ATL        5\n",
       "2              5        615            UA     341.0    IAD  DEN        8\n",
       "3              5        625            CO     581.0    IAD  DEN       44\n",
       "4              5        630            UA     902.0    CLE  IAD      -10\n",
       "...          ...        ...           ...       ...    ...  ...      ...\n",
       "100156         6       2140            UA      30.0    LAX  IAD      -19\n",
       "100157         6       2140            CO     896.0    LAX  IAD      -23\n",
       "100158         6       2150            UA    1094.0    IAD  BDL      -14\n",
       "100159         6       2155            US     394.0    PIT  IAD        9\n",
       "100160         6       2230            UA      16.0    SFO  IAD       -7\n",
       "\n",
       "[100161 rows x 7 columns]"
      ]
     },
     "execution_count": 40,
     "metadata": {},
     "output_type": "execute_result"
    }
   ],
   "source": [
    "df"
   ]
  },
  {
   "cell_type": "code",
   "execution_count": 41,
   "metadata": {},
   "outputs": [
    {
     "data": {
      "text/plain": [
       "(100161, 7)"
      ]
     },
     "execution_count": 41,
     "metadata": {},
     "output_type": "execute_result"
    }
   ],
   "source": [
    "df.shape"
   ]
  },
  {
   "cell_type": "code",
   "execution_count": 42,
   "metadata": {},
   "outputs": [
    {
     "data": {
      "text/plain": [
       "DayofWeek        object\n",
       "CRSDepTime       object\n",
       "UniqueCarrier    object\n",
       "FlightNum        object\n",
       "Origin           object\n",
       "Dest             object\n",
       "ArrDelay         object\n",
       "dtype: object"
      ]
     },
     "execution_count": 42,
     "metadata": {},
     "output_type": "execute_result"
    }
   ],
   "source": [
    "df.dtypes"
   ]
  },
  {
   "cell_type": "code",
   "execution_count": 43,
   "metadata": {},
   "outputs": [],
   "source": [
    "df.to_csv('transformed_dataset.csv', index=False)"
   ]
  },
  {
   "cell_type": "code",
   "execution_count": 44,
   "metadata": {},
   "outputs": [],
   "source": [
    "df=pd.read_csv('transformed_dataset.csv')"
   ]
  },
  {
   "cell_type": "code",
   "execution_count": 45,
   "metadata": {},
   "outputs": [
    {
     "data": {
      "text/html": [
       "<div>\n",
       "<style scoped>\n",
       "    .dataframe tbody tr th:only-of-type {\n",
       "        vertical-align: middle;\n",
       "    }\n",
       "\n",
       "    .dataframe tbody tr th {\n",
       "        vertical-align: top;\n",
       "    }\n",
       "\n",
       "    .dataframe thead th {\n",
       "        text-align: right;\n",
       "    }\n",
       "</style>\n",
       "<table border=\"1\" class=\"dataframe\">\n",
       "  <thead>\n",
       "    <tr style=\"text-align: right;\">\n",
       "      <th></th>\n",
       "      <th>DayofWeek</th>\n",
       "      <th>CRSDepTime</th>\n",
       "      <th>UniqueCarrier</th>\n",
       "      <th>FlightNum</th>\n",
       "      <th>Origin</th>\n",
       "      <th>Dest</th>\n",
       "      <th>ArrDelay</th>\n",
       "    </tr>\n",
       "  </thead>\n",
       "  <tbody>\n",
       "    <tr>\n",
       "      <th>0</th>\n",
       "      <td>5</td>\n",
       "      <td>600</td>\n",
       "      <td>UA</td>\n",
       "      <td>899.0</td>\n",
       "      <td>ORD</td>\n",
       "      <td>IAD</td>\n",
       "      <td>-3</td>\n",
       "    </tr>\n",
       "    <tr>\n",
       "      <th>1</th>\n",
       "      <td>5</td>\n",
       "      <td>615</td>\n",
       "      <td>DL</td>\n",
       "      <td>357.0</td>\n",
       "      <td>IAD</td>\n",
       "      <td>ATL</td>\n",
       "      <td>5</td>\n",
       "    </tr>\n",
       "    <tr>\n",
       "      <th>2</th>\n",
       "      <td>5</td>\n",
       "      <td>615</td>\n",
       "      <td>UA</td>\n",
       "      <td>341.0</td>\n",
       "      <td>IAD</td>\n",
       "      <td>DEN</td>\n",
       "      <td>8</td>\n",
       "    </tr>\n",
       "    <tr>\n",
       "      <th>3</th>\n",
       "      <td>5</td>\n",
       "      <td>625</td>\n",
       "      <td>CO</td>\n",
       "      <td>581.0</td>\n",
       "      <td>IAD</td>\n",
       "      <td>DEN</td>\n",
       "      <td>44</td>\n",
       "    </tr>\n",
       "    <tr>\n",
       "      <th>4</th>\n",
       "      <td>5</td>\n",
       "      <td>630</td>\n",
       "      <td>UA</td>\n",
       "      <td>902.0</td>\n",
       "      <td>CLE</td>\n",
       "      <td>IAD</td>\n",
       "      <td>-10</td>\n",
       "    </tr>\n",
       "  </tbody>\n",
       "</table>\n",
       "</div>"
      ],
      "text/plain": [
       "   DayofWeek  CRSDepTime UniqueCarrier  FlightNum Origin Dest  ArrDelay\n",
       "0          5         600            UA      899.0    ORD  IAD        -3\n",
       "1          5         615            DL      357.0    IAD  ATL         5\n",
       "2          5         615            UA      341.0    IAD  DEN         8\n",
       "3          5         625            CO      581.0    IAD  DEN        44\n",
       "4          5         630            UA      902.0    CLE  IAD       -10"
      ]
     },
     "execution_count": 45,
     "metadata": {},
     "output_type": "execute_result"
    }
   ],
   "source": [
    "df.head()"
   ]
  },
  {
   "cell_type": "code",
   "execution_count": 46,
   "metadata": {},
   "outputs": [
    {
     "data": {
      "text/plain": [
       "DayofWeek          int64\n",
       "CRSDepTime         int64\n",
       "UniqueCarrier     object\n",
       "FlightNum        float64\n",
       "Origin            object\n",
       "Dest              object\n",
       "ArrDelay           int64\n",
       "dtype: object"
      ]
     },
     "execution_count": 46,
     "metadata": {},
     "output_type": "execute_result"
    }
   ],
   "source": [
    "df.dtypes"
   ]
  },
  {
   "cell_type": "code",
   "execution_count": 47,
   "metadata": {},
   "outputs": [
    {
     "data": {
      "image/png": "[encoded data removed]",
      "text/plain": [
       "<Figure size 1440x1080 with 16 Axes>"
      ]
     },
     "metadata": {
      "needs_background": "light"
     },
     "output_type": "display_data"
    }
   ],
   "source": [
    "from pandas.plotting import scatter_matrix\n",
    "scatter_matrix(df, alpha=0.2, figsize=(20, 15), diagonal='kde');"
   ]
  },
  {
   "cell_type": "markdown",
   "metadata": {},
   "source": [
    "# Describe the average delays per airport/airline."
   ]
  },
  {
   "cell_type": "markdown",
   "metadata": {},
   "source": [
    "We see that arrival delay (ArrDelay) can be positive or negative number in the dataset. This means that some flights arrived earlier than expected."
   ]
  },
  {
   "cell_type": "code",
   "execution_count": 70,
   "metadata": {},
   "outputs": [
    {
     "data": {
      "text/html": [
       "<div>\n",
       "<style scoped>\n",
       "    .dataframe tbody tr th:only-of-type {\n",
       "        vertical-align: middle;\n",
       "    }\n",
       "\n",
       "    .dataframe tbody tr th {\n",
       "        vertical-align: top;\n",
       "    }\n",
       "\n",
       "    .dataframe thead th {\n",
       "        text-align: right;\n",
       "    }\n",
       "</style>\n",
       "<table border=\"1\" class=\"dataframe\">\n",
       "  <thead>\n",
       "    <tr style=\"text-align: right;\">\n",
       "      <th></th>\n",
       "      <th>ArrDelay</th>\n",
       "    </tr>\n",
       "    <tr>\n",
       "      <th>UniqueCarrier</th>\n",
       "      <th></th>\n",
       "    </tr>\n",
       "  </thead>\n",
       "  <tbody>\n",
       "    <tr>\n",
       "      <th>'PA (1)'</th>\n",
       "      <td>16.223642</td>\n",
       "    </tr>\n",
       "    <tr>\n",
       "      <th>EA</th>\n",
       "      <td>11.728169</td>\n",
       "    </tr>\n",
       "    <tr>\n",
       "      <th>US</th>\n",
       "      <td>6.246798</td>\n",
       "    </tr>\n",
       "    <tr>\n",
       "      <th>TW</th>\n",
       "      <td>5.179647</td>\n",
       "    </tr>\n",
       "    <tr>\n",
       "      <th>DL</th>\n",
       "      <td>5.118715</td>\n",
       "    </tr>\n",
       "    <tr>\n",
       "      <th>NW</th>\n",
       "      <td>5.004890</td>\n",
       "    </tr>\n",
       "    <tr>\n",
       "      <th>CO</th>\n",
       "      <td>4.919948</td>\n",
       "    </tr>\n",
       "    <tr>\n",
       "      <th>UA</th>\n",
       "      <td>4.569664</td>\n",
       "    </tr>\n",
       "    <tr>\n",
       "      <th>AA</th>\n",
       "      <td>1.908237</td>\n",
       "    </tr>\n",
       "  </tbody>\n",
       "</table>\n",
       "</div>"
      ],
      "text/plain": [
       "                ArrDelay\n",
       "UniqueCarrier           \n",
       "'PA (1)'       16.223642\n",
       "EA             11.728169\n",
       "US              6.246798\n",
       "TW              5.179647\n",
       "DL              5.118715\n",
       "NW              5.004890\n",
       "CO              4.919948\n",
       "UA              4.569664\n",
       "AA              1.908237"
      ]
     },
     "execution_count": 70,
     "metadata": {},
     "output_type": "execute_result"
    }
   ],
   "source": [
    "average_ArrDelay_by_airline=df[['UniqueCarrier','ArrDelay']].groupby('UniqueCarrier').mean()\n",
    "average_ArrDelay_by_airline.sort_values('ArrDelay',ascending=False)"
   ]
  },
  {
   "cell_type": "markdown",
   "metadata": {},
   "source": [
    "If we consider only the delays and not the flights that arrived earlier:"
   ]
  },
  {
   "cell_type": "code",
   "execution_count": 72,
   "metadata": {},
   "outputs": [
    {
     "data": {
      "text/html": [
       "<div>\n",
       "<style scoped>\n",
       "    .dataframe tbody tr th:only-of-type {\n",
       "        vertical-align: middle;\n",
       "    }\n",
       "\n",
       "    .dataframe tbody tr th {\n",
       "        vertical-align: top;\n",
       "    }\n",
       "\n",
       "    .dataframe thead th {\n",
       "        text-align: right;\n",
       "    }\n",
       "</style>\n",
       "<table border=\"1\" class=\"dataframe\">\n",
       "  <thead>\n",
       "    <tr style=\"text-align: right;\">\n",
       "      <th></th>\n",
       "      <th>ArrDelay</th>\n",
       "    </tr>\n",
       "    <tr>\n",
       "      <th>UniqueCarrier</th>\n",
       "      <th></th>\n",
       "    </tr>\n",
       "  </thead>\n",
       "  <tbody>\n",
       "    <tr>\n",
       "      <th>EA</th>\n",
       "      <td>29.656250</td>\n",
       "    </tr>\n",
       "    <tr>\n",
       "      <th>CO</th>\n",
       "      <td>25.263850</td>\n",
       "    </tr>\n",
       "    <tr>\n",
       "      <th>'PA (1)'</th>\n",
       "      <td>24.626087</td>\n",
       "    </tr>\n",
       "    <tr>\n",
       "      <th>TW</th>\n",
       "      <td>20.492208</td>\n",
       "    </tr>\n",
       "    <tr>\n",
       "      <th>AA</th>\n",
       "      <td>17.602251</td>\n",
       "    </tr>\n",
       "    <tr>\n",
       "      <th>UA</th>\n",
       "      <td>17.565617</td>\n",
       "    </tr>\n",
       "    <tr>\n",
       "      <th>NW</th>\n",
       "      <td>16.083420</td>\n",
       "    </tr>\n",
       "    <tr>\n",
       "      <th>DL</th>\n",
       "      <td>15.932035</td>\n",
       "    </tr>\n",
       "    <tr>\n",
       "      <th>US</th>\n",
       "      <td>12.017257</td>\n",
       "    </tr>\n",
       "  </tbody>\n",
       "</table>\n",
       "</div>"
      ],
      "text/plain": [
       "                ArrDelay\n",
       "UniqueCarrier           \n",
       "EA             29.656250\n",
       "CO             25.263850\n",
       "'PA (1)'       24.626087\n",
       "TW             20.492208\n",
       "AA             17.602251\n",
       "UA             17.565617\n",
       "NW             16.083420\n",
       "DL             15.932035\n",
       "US             12.017257"
      ]
     },
     "execution_count": 72,
     "metadata": {},
     "output_type": "execute_result"
    }
   ],
   "source": [
    "df_delays = df.loc[df['ArrDelay'] > 0]\n",
    "average_delay_by_airline=df_delays[['UniqueCarrier','ArrDelay']].groupby('UniqueCarrier').mean()\n",
    "average_delay_by_airline.sort_values('ArrDelay',ascending=False)"
   ]
  },
  {
   "cell_type": "markdown",
   "metadata": {},
   "source": [
    "Delays per origin airport"
   ]
  },
  {
   "cell_type": "code",
   "execution_count": 74,
   "metadata": {
    "scrolled": true
   },
   "outputs": [
    {
     "data": {
      "text/html": [
       "<div>\n",
       "<style scoped>\n",
       "    .dataframe tbody tr th:only-of-type {\n",
       "        vertical-align: middle;\n",
       "    }\n",
       "\n",
       "    .dataframe tbody tr th {\n",
       "        vertical-align: top;\n",
       "    }\n",
       "\n",
       "    .dataframe thead th {\n",
       "        text-align: right;\n",
       "    }\n",
       "</style>\n",
       "<table border=\"1\" class=\"dataframe\">\n",
       "  <thead>\n",
       "    <tr style=\"text-align: right;\">\n",
       "      <th></th>\n",
       "      <th>ArrDelay</th>\n",
       "    </tr>\n",
       "    <tr>\n",
       "      <th>Origin</th>\n",
       "      <th></th>\n",
       "    </tr>\n",
       "  </thead>\n",
       "  <tbody>\n",
       "    <tr>\n",
       "      <th>DCA</th>\n",
       "      <td>48.000000</td>\n",
       "    </tr>\n",
       "    <tr>\n",
       "      <th>JFK</th>\n",
       "      <td>38.975000</td>\n",
       "    </tr>\n",
       "    <tr>\n",
       "      <th>SJU</th>\n",
       "      <td>36.394118</td>\n",
       "    </tr>\n",
       "    <tr>\n",
       "      <th>HPN</th>\n",
       "      <td>34.638095</td>\n",
       "    </tr>\n",
       "    <tr>\n",
       "      <th>ORD</th>\n",
       "      <td>24.410609</td>\n",
       "    </tr>\n",
       "    <tr>\n",
       "      <th>DEN</th>\n",
       "      <td>23.060732</td>\n",
       "    </tr>\n",
       "    <tr>\n",
       "      <th>BOS</th>\n",
       "      <td>22.447967</td>\n",
       "    </tr>\n",
       "    <tr>\n",
       "      <th>EWR</th>\n",
       "      <td>20.637500</td>\n",
       "    </tr>\n",
       "    <tr>\n",
       "      <th>PBI</th>\n",
       "      <td>20.354108</td>\n",
       "    </tr>\n",
       "    <tr>\n",
       "      <th>IAH</th>\n",
       "      <td>20.164804</td>\n",
       "    </tr>\n",
       "    <tr>\n",
       "      <th>SEA</th>\n",
       "      <td>19.019868</td>\n",
       "    </tr>\n",
       "    <tr>\n",
       "      <th>MSP</th>\n",
       "      <td>18.996743</td>\n",
       "    </tr>\n",
       "    <tr>\n",
       "      <th>IAD</th>\n",
       "      <td>18.941091</td>\n",
       "    </tr>\n",
       "    <tr>\n",
       "      <th>SFO</th>\n",
       "      <td>18.934809</td>\n",
       "    </tr>\n",
       "    <tr>\n",
       "      <th>LGA</th>\n",
       "      <td>18.807091</td>\n",
       "    </tr>\n",
       "    <tr>\n",
       "      <th>BNA</th>\n",
       "      <td>18.653061</td>\n",
       "    </tr>\n",
       "    <tr>\n",
       "      <th>BDL</th>\n",
       "      <td>17.770548</td>\n",
       "    </tr>\n",
       "    <tr>\n",
       "      <th>DFW</th>\n",
       "      <td>17.762573</td>\n",
       "    </tr>\n",
       "    <tr>\n",
       "      <th>DTW</th>\n",
       "      <td>17.500581</td>\n",
       "    </tr>\n",
       "    <tr>\n",
       "      <th>MHT</th>\n",
       "      <td>16.903030</td>\n",
       "    </tr>\n",
       "    <tr>\n",
       "      <th>MDW</th>\n",
       "      <td>16.772727</td>\n",
       "    </tr>\n",
       "    <tr>\n",
       "      <th>SLC</th>\n",
       "      <td>16.765244</td>\n",
       "    </tr>\n",
       "    <tr>\n",
       "      <th>CAE</th>\n",
       "      <td>16.655556</td>\n",
       "    </tr>\n",
       "    <tr>\n",
       "      <th>STL</th>\n",
       "      <td>16.499089</td>\n",
       "    </tr>\n",
       "    <tr>\n",
       "      <th>BTV</th>\n",
       "      <td>16.239130</td>\n",
       "    </tr>\n",
       "    <tr>\n",
       "      <th>PHX</th>\n",
       "      <td>15.937500</td>\n",
       "    </tr>\n",
       "    <tr>\n",
       "      <th>LAX</th>\n",
       "      <td>15.658217</td>\n",
       "    </tr>\n",
       "    <tr>\n",
       "      <th>PWM</th>\n",
       "      <td>15.559406</td>\n",
       "    </tr>\n",
       "    <tr>\n",
       "      <th>PVD</th>\n",
       "      <td>15.536585</td>\n",
       "    </tr>\n",
       "    <tr>\n",
       "      <th>FLL</th>\n",
       "      <td>15.246418</td>\n",
       "    </tr>\n",
       "    <tr>\n",
       "      <th>ORF</th>\n",
       "      <td>14.735915</td>\n",
       "    </tr>\n",
       "    <tr>\n",
       "      <th>JAX</th>\n",
       "      <td>14.672222</td>\n",
       "    </tr>\n",
       "    <tr>\n",
       "      <th>MCO</th>\n",
       "      <td>14.576733</td>\n",
       "    </tr>\n",
       "    <tr>\n",
       "      <th>TPA</th>\n",
       "      <td>14.557652</td>\n",
       "    </tr>\n",
       "    <tr>\n",
       "      <th>ISP</th>\n",
       "      <td>14.396825</td>\n",
       "    </tr>\n",
       "    <tr>\n",
       "      <th>MEM</th>\n",
       "      <td>14.361111</td>\n",
       "    </tr>\n",
       "    <tr>\n",
       "      <th>SDF</th>\n",
       "      <td>14.333333</td>\n",
       "    </tr>\n",
       "    <tr>\n",
       "      <th>ATL</th>\n",
       "      <td>14.269446</td>\n",
       "    </tr>\n",
       "    <tr>\n",
       "      <th>MSY</th>\n",
       "      <td>14.238835</td>\n",
       "    </tr>\n",
       "    <tr>\n",
       "      <th>SAV</th>\n",
       "      <td>13.786667</td>\n",
       "    </tr>\n",
       "    <tr>\n",
       "      <th>IND</th>\n",
       "      <td>13.472727</td>\n",
       "    </tr>\n",
       "    <tr>\n",
       "      <th>MIA</th>\n",
       "      <td>13.215434</td>\n",
       "    </tr>\n",
       "    <tr>\n",
       "      <th>PHL</th>\n",
       "      <td>13.195531</td>\n",
       "    </tr>\n",
       "    <tr>\n",
       "      <th>RIC</th>\n",
       "      <td>13.000000</td>\n",
       "    </tr>\n",
       "    <tr>\n",
       "      <th>PIT</th>\n",
       "      <td>12.925094</td>\n",
       "    </tr>\n",
       "    <tr>\n",
       "      <th>BWI</th>\n",
       "      <td>12.578947</td>\n",
       "    </tr>\n",
       "    <tr>\n",
       "      <th>CHS</th>\n",
       "      <td>12.438356</td>\n",
       "    </tr>\n",
       "    <tr>\n",
       "      <th>CLE</th>\n",
       "      <td>11.924399</td>\n",
       "    </tr>\n",
       "    <tr>\n",
       "      <th>RDU</th>\n",
       "      <td>11.841509</td>\n",
       "    </tr>\n",
       "    <tr>\n",
       "      <th>MDT</th>\n",
       "      <td>11.000000</td>\n",
       "    </tr>\n",
       "    <tr>\n",
       "      <th>RSW</th>\n",
       "      <td>10.702290</td>\n",
       "    </tr>\n",
       "    <tr>\n",
       "      <th>ROC</th>\n",
       "      <td>10.648438</td>\n",
       "    </tr>\n",
       "    <tr>\n",
       "      <th>SYR</th>\n",
       "      <td>10.475309</td>\n",
       "    </tr>\n",
       "    <tr>\n",
       "      <th>GSO</th>\n",
       "      <td>9.285714</td>\n",
       "    </tr>\n",
       "    <tr>\n",
       "      <th>SRQ</th>\n",
       "      <td>9.171875</td>\n",
       "    </tr>\n",
       "    <tr>\n",
       "      <th>HOU</th>\n",
       "      <td>9.169811</td>\n",
       "    </tr>\n",
       "    <tr>\n",
       "      <th>BUF</th>\n",
       "      <td>8.994624</td>\n",
       "    </tr>\n",
       "    <tr>\n",
       "      <th>PHF</th>\n",
       "      <td>6.171171</td>\n",
       "    </tr>\n",
       "  </tbody>\n",
       "</table>\n",
       "</div>"
      ],
      "text/plain": [
       "         ArrDelay\n",
       "Origin           \n",
       "DCA     48.000000\n",
       "JFK     38.975000\n",
       "SJU     36.394118\n",
       "HPN     34.638095\n",
       "ORD     24.410609\n",
       "DEN     23.060732\n",
       "BOS     22.447967\n",
       "EWR     20.637500\n",
       "PBI     20.354108\n",
       "IAH     20.164804\n",
       "SEA     19.019868\n",
       "MSP     18.996743\n",
       "IAD     18.941091\n",
       "SFO     18.934809\n",
       "LGA     18.807091\n",
       "BNA     18.653061\n",
       "BDL     17.770548\n",
       "DFW     17.762573\n",
       "DTW     17.500581\n",
       "MHT     16.903030\n",
       "MDW     16.772727\n",
       "SLC     16.765244\n",
       "CAE     16.655556\n",
       "STL     16.499089\n",
       "BTV     16.239130\n",
       "PHX     15.937500\n",
       "LAX     15.658217\n",
       "PWM     15.559406\n",
       "PVD     15.536585\n",
       "FLL     15.246418\n",
       "ORF     14.735915\n",
       "JAX     14.672222\n",
       "MCO     14.576733\n",
       "TPA     14.557652\n",
       "ISP     14.396825\n",
       "MEM     14.361111\n",
       "SDF     14.333333\n",
       "ATL     14.269446\n",
       "MSY     14.238835\n",
       "SAV     13.786667\n",
       "IND     13.472727\n",
       "MIA     13.215434\n",
       "PHL     13.195531\n",
       "RIC     13.000000\n",
       "PIT     12.925094\n",
       "BWI     12.578947\n",
       "CHS     12.438356\n",
       "CLE     11.924399\n",
       "RDU     11.841509\n",
       "MDT     11.000000\n",
       "RSW     10.702290\n",
       "ROC     10.648438\n",
       "SYR     10.475309\n",
       "GSO      9.285714\n",
       "SRQ      9.171875\n",
       "HOU      9.169811\n",
       "BUF      8.994624\n",
       "PHF      6.171171"
      ]
     },
     "execution_count": 74,
     "metadata": {},
     "output_type": "execute_result"
    }
   ],
   "source": [
    "average_delay_by_origin_airport=df_delays[['Origin','ArrDelay']].groupby('Origin').mean()\n",
    "average_delay_by_origin_airport.sort_values('ArrDelay',ascending=False)"
   ]
  },
  {
   "cell_type": "markdown",
   "metadata": {},
   "source": [
    "Average delays per destination airport"
   ]
  },
  {
   "cell_type": "code",
   "execution_count": 75,
   "metadata": {
    "scrolled": true
   },
   "outputs": [
    {
     "data": {
      "text/html": [
       "<div>\n",
       "<style scoped>\n",
       "    .dataframe tbody tr th:only-of-type {\n",
       "        vertical-align: middle;\n",
       "    }\n",
       "\n",
       "    .dataframe tbody tr th {\n",
       "        vertical-align: top;\n",
       "    }\n",
       "\n",
       "    .dataframe thead th {\n",
       "        text-align: right;\n",
       "    }\n",
       "</style>\n",
       "<table border=\"1\" class=\"dataframe\">\n",
       "  <thead>\n",
       "    <tr style=\"text-align: right;\">\n",
       "      <th></th>\n",
       "      <th>ArrDelay</th>\n",
       "    </tr>\n",
       "    <tr>\n",
       "      <th>Origin</th>\n",
       "      <th></th>\n",
       "    </tr>\n",
       "  </thead>\n",
       "  <tbody>\n",
       "    <tr>\n",
       "      <th>DCA</th>\n",
       "      <td>48.000000</td>\n",
       "    </tr>\n",
       "    <tr>\n",
       "      <th>JFK</th>\n",
       "      <td>38.975000</td>\n",
       "    </tr>\n",
       "    <tr>\n",
       "      <th>SJU</th>\n",
       "      <td>36.394118</td>\n",
       "    </tr>\n",
       "    <tr>\n",
       "      <th>HPN</th>\n",
       "      <td>34.638095</td>\n",
       "    </tr>\n",
       "    <tr>\n",
       "      <th>ORD</th>\n",
       "      <td>24.410609</td>\n",
       "    </tr>\n",
       "    <tr>\n",
       "      <th>DEN</th>\n",
       "      <td>23.060732</td>\n",
       "    </tr>\n",
       "    <tr>\n",
       "      <th>BOS</th>\n",
       "      <td>22.447967</td>\n",
       "    </tr>\n",
       "    <tr>\n",
       "      <th>EWR</th>\n",
       "      <td>20.637500</td>\n",
       "    </tr>\n",
       "    <tr>\n",
       "      <th>PBI</th>\n",
       "      <td>20.354108</td>\n",
       "    </tr>\n",
       "    <tr>\n",
       "      <th>IAH</th>\n",
       "      <td>20.164804</td>\n",
       "    </tr>\n",
       "    <tr>\n",
       "      <th>SEA</th>\n",
       "      <td>19.019868</td>\n",
       "    </tr>\n",
       "    <tr>\n",
       "      <th>MSP</th>\n",
       "      <td>18.996743</td>\n",
       "    </tr>\n",
       "    <tr>\n",
       "      <th>IAD</th>\n",
       "      <td>18.941091</td>\n",
       "    </tr>\n",
       "    <tr>\n",
       "      <th>SFO</th>\n",
       "      <td>18.934809</td>\n",
       "    </tr>\n",
       "    <tr>\n",
       "      <th>LGA</th>\n",
       "      <td>18.807091</td>\n",
       "    </tr>\n",
       "    <tr>\n",
       "      <th>BNA</th>\n",
       "      <td>18.653061</td>\n",
       "    </tr>\n",
       "    <tr>\n",
       "      <th>BDL</th>\n",
       "      <td>17.770548</td>\n",
       "    </tr>\n",
       "    <tr>\n",
       "      <th>DFW</th>\n",
       "      <td>17.762573</td>\n",
       "    </tr>\n",
       "    <tr>\n",
       "      <th>DTW</th>\n",
       "      <td>17.500581</td>\n",
       "    </tr>\n",
       "    <tr>\n",
       "      <th>MHT</th>\n",
       "      <td>16.903030</td>\n",
       "    </tr>\n",
       "    <tr>\n",
       "      <th>MDW</th>\n",
       "      <td>16.772727</td>\n",
       "    </tr>\n",
       "    <tr>\n",
       "      <th>SLC</th>\n",
       "      <td>16.765244</td>\n",
       "    </tr>\n",
       "    <tr>\n",
       "      <th>CAE</th>\n",
       "      <td>16.655556</td>\n",
       "    </tr>\n",
       "    <tr>\n",
       "      <th>STL</th>\n",
       "      <td>16.499089</td>\n",
       "    </tr>\n",
       "    <tr>\n",
       "      <th>BTV</th>\n",
       "      <td>16.239130</td>\n",
       "    </tr>\n",
       "    <tr>\n",
       "      <th>PHX</th>\n",
       "      <td>15.937500</td>\n",
       "    </tr>\n",
       "    <tr>\n",
       "      <th>LAX</th>\n",
       "      <td>15.658217</td>\n",
       "    </tr>\n",
       "    <tr>\n",
       "      <th>PWM</th>\n",
       "      <td>15.559406</td>\n",
       "    </tr>\n",
       "    <tr>\n",
       "      <th>PVD</th>\n",
       "      <td>15.536585</td>\n",
       "    </tr>\n",
       "    <tr>\n",
       "      <th>FLL</th>\n",
       "      <td>15.246418</td>\n",
       "    </tr>\n",
       "    <tr>\n",
       "      <th>ORF</th>\n",
       "      <td>14.735915</td>\n",
       "    </tr>\n",
       "    <tr>\n",
       "      <th>JAX</th>\n",
       "      <td>14.672222</td>\n",
       "    </tr>\n",
       "    <tr>\n",
       "      <th>MCO</th>\n",
       "      <td>14.576733</td>\n",
       "    </tr>\n",
       "    <tr>\n",
       "      <th>TPA</th>\n",
       "      <td>14.557652</td>\n",
       "    </tr>\n",
       "    <tr>\n",
       "      <th>ISP</th>\n",
       "      <td>14.396825</td>\n",
       "    </tr>\n",
       "    <tr>\n",
       "      <th>MEM</th>\n",
       "      <td>14.361111</td>\n",
       "    </tr>\n",
       "    <tr>\n",
       "      <th>SDF</th>\n",
       "      <td>14.333333</td>\n",
       "    </tr>\n",
       "    <tr>\n",
       "      <th>ATL</th>\n",
       "      <td>14.269446</td>\n",
       "    </tr>\n",
       "    <tr>\n",
       "      <th>MSY</th>\n",
       "      <td>14.238835</td>\n",
       "    </tr>\n",
       "    <tr>\n",
       "      <th>SAV</th>\n",
       "      <td>13.786667</td>\n",
       "    </tr>\n",
       "    <tr>\n",
       "      <th>IND</th>\n",
       "      <td>13.472727</td>\n",
       "    </tr>\n",
       "    <tr>\n",
       "      <th>MIA</th>\n",
       "      <td>13.215434</td>\n",
       "    </tr>\n",
       "    <tr>\n",
       "      <th>PHL</th>\n",
       "      <td>13.195531</td>\n",
       "    </tr>\n",
       "    <tr>\n",
       "      <th>RIC</th>\n",
       "      <td>13.000000</td>\n",
       "    </tr>\n",
       "    <tr>\n",
       "      <th>PIT</th>\n",
       "      <td>12.925094</td>\n",
       "    </tr>\n",
       "    <tr>\n",
       "      <th>BWI</th>\n",
       "      <td>12.578947</td>\n",
       "    </tr>\n",
       "    <tr>\n",
       "      <th>CHS</th>\n",
       "      <td>12.438356</td>\n",
       "    </tr>\n",
       "    <tr>\n",
       "      <th>CLE</th>\n",
       "      <td>11.924399</td>\n",
       "    </tr>\n",
       "    <tr>\n",
       "      <th>RDU</th>\n",
       "      <td>11.841509</td>\n",
       "    </tr>\n",
       "    <tr>\n",
       "      <th>MDT</th>\n",
       "      <td>11.000000</td>\n",
       "    </tr>\n",
       "    <tr>\n",
       "      <th>RSW</th>\n",
       "      <td>10.702290</td>\n",
       "    </tr>\n",
       "    <tr>\n",
       "      <th>ROC</th>\n",
       "      <td>10.648438</td>\n",
       "    </tr>\n",
       "    <tr>\n",
       "      <th>SYR</th>\n",
       "      <td>10.475309</td>\n",
       "    </tr>\n",
       "    <tr>\n",
       "      <th>GSO</th>\n",
       "      <td>9.285714</td>\n",
       "    </tr>\n",
       "    <tr>\n",
       "      <th>SRQ</th>\n",
       "      <td>9.171875</td>\n",
       "    </tr>\n",
       "    <tr>\n",
       "      <th>HOU</th>\n",
       "      <td>9.169811</td>\n",
       "    </tr>\n",
       "    <tr>\n",
       "      <th>BUF</th>\n",
       "      <td>8.994624</td>\n",
       "    </tr>\n",
       "    <tr>\n",
       "      <th>PHF</th>\n",
       "      <td>6.171171</td>\n",
       "    </tr>\n",
       "  </tbody>\n",
       "</table>\n",
       "</div>"
      ],
      "text/plain": [
       "         ArrDelay\n",
       "Origin           \n",
       "DCA     48.000000\n",
       "JFK     38.975000\n",
       "SJU     36.394118\n",
       "HPN     34.638095\n",
       "ORD     24.410609\n",
       "DEN     23.060732\n",
       "BOS     22.447967\n",
       "EWR     20.637500\n",
       "PBI     20.354108\n",
       "IAH     20.164804\n",
       "SEA     19.019868\n",
       "MSP     18.996743\n",
       "IAD     18.941091\n",
       "SFO     18.934809\n",
       "LGA     18.807091\n",
       "BNA     18.653061\n",
       "BDL     17.770548\n",
       "DFW     17.762573\n",
       "DTW     17.500581\n",
       "MHT     16.903030\n",
       "MDW     16.772727\n",
       "SLC     16.765244\n",
       "CAE     16.655556\n",
       "STL     16.499089\n",
       "BTV     16.239130\n",
       "PHX     15.937500\n",
       "LAX     15.658217\n",
       "PWM     15.559406\n",
       "PVD     15.536585\n",
       "FLL     15.246418\n",
       "ORF     14.735915\n",
       "JAX     14.672222\n",
       "MCO     14.576733\n",
       "TPA     14.557652\n",
       "ISP     14.396825\n",
       "MEM     14.361111\n",
       "SDF     14.333333\n",
       "ATL     14.269446\n",
       "MSY     14.238835\n",
       "SAV     13.786667\n",
       "IND     13.472727\n",
       "MIA     13.215434\n",
       "PHL     13.195531\n",
       "RIC     13.000000\n",
       "PIT     12.925094\n",
       "BWI     12.578947\n",
       "CHS     12.438356\n",
       "CLE     11.924399\n",
       "RDU     11.841509\n",
       "MDT     11.000000\n",
       "RSW     10.702290\n",
       "ROC     10.648438\n",
       "SYR     10.475309\n",
       "GSO      9.285714\n",
       "SRQ      9.171875\n",
       "HOU      9.169811\n",
       "BUF      8.994624\n",
       "PHF      6.171171"
      ]
     },
     "execution_count": 75,
     "metadata": {},
     "output_type": "execute_result"
    }
   ],
   "source": [
    "average_delay_by_destination_airport=df_delays[['Origin','ArrDelay']].groupby('Origin').mean()\n",
    "average_delay_by_destination_airport.sort_values('ArrDelay',ascending=False)"
   ]
  },
  {
   "cell_type": "markdown",
   "metadata": {},
   "source": [
    "# Identify and report the most prominent rules of association between delays and point of origin AND/OR point of arrival."
   ]
  },
  {
   "cell_type": "code",
   "execution_count": 81,
   "metadata": {},
   "outputs": [
    {
     "data": {
      "text/html": [
       "<div>\n",
       "<style scoped>\n",
       "    .dataframe tbody tr th:only-of-type {\n",
       "        vertical-align: middle;\n",
       "    }\n",
       "\n",
       "    .dataframe tbody tr th {\n",
       "        vertical-align: top;\n",
       "    }\n",
       "\n",
       "    .dataframe thead th {\n",
       "        text-align: right;\n",
       "    }\n",
       "</style>\n",
       "<table border=\"1\" class=\"dataframe\">\n",
       "  <thead>\n",
       "    <tr style=\"text-align: right;\">\n",
       "      <th></th>\n",
       "      <th></th>\n",
       "      <th>ArrDelay</th>\n",
       "    </tr>\n",
       "    <tr>\n",
       "      <th>Origin</th>\n",
       "      <th>Dest</th>\n",
       "      <th></th>\n",
       "    </tr>\n",
       "  </thead>\n",
       "  <tbody>\n",
       "    <tr>\n",
       "      <th>ATL</th>\n",
       "      <th>IAD</th>\n",
       "      <td>1607</td>\n",
       "    </tr>\n",
       "    <tr>\n",
       "      <th>ORD</th>\n",
       "      <th>IAD</th>\n",
       "      <td>1527</td>\n",
       "    </tr>\n",
       "    <tr>\n",
       "      <th>DEN</th>\n",
       "      <th>IAD</th>\n",
       "      <td>1449</td>\n",
       "    </tr>\n",
       "    <tr>\n",
       "      <th rowspan=\"6\" valign=\"top\">IAD</th>\n",
       "      <th>DEN</th>\n",
       "      <td>1427</td>\n",
       "    </tr>\n",
       "    <tr>\n",
       "      <th>ORD</th>\n",
       "      <td>1317</td>\n",
       "    </tr>\n",
       "    <tr>\n",
       "      <th>...</th>\n",
       "      <td>...</td>\n",
       "    </tr>\n",
       "    <tr>\n",
       "      <th>RIC</th>\n",
       "      <td>4</td>\n",
       "    </tr>\n",
       "    <tr>\n",
       "      <th>DCA</th>\n",
       "      <td>2</td>\n",
       "    </tr>\n",
       "    <tr>\n",
       "      <th>MDT</th>\n",
       "      <td>1</td>\n",
       "    </tr>\n",
       "    <tr>\n",
       "      <th>MDT</th>\n",
       "      <th>IAD</th>\n",
       "      <td>1</td>\n",
       "    </tr>\n",
       "    <tr>\n",
       "      <th>DCA</th>\n",
       "      <th>IAD</th>\n",
       "      <td>1</td>\n",
       "    </tr>\n",
       "  </tbody>\n",
       "</table>\n",
       "<p>115 rows × 1 columns</p>\n",
       "</div>"
      ],
      "text/plain": [
       "             ArrDelay\n",
       "Origin Dest          \n",
       "ATL    IAD       1607\n",
       "ORD    IAD       1527\n",
       "DEN    IAD       1449\n",
       "IAD    DEN       1427\n",
       "       ORD       1317\n",
       "...               ...\n",
       "       RIC          4\n",
       "       DCA          2\n",
       "       MDT          1\n",
       "MDT    IAD          1\n",
       "DCA    IAD          1\n",
       "\n",
       "[115 rows x 1 columns]"
      ]
     },
     "execution_count": 81,
     "metadata": {},
     "output_type": "execute_result"
    }
   ],
   "source": [
    "average_delay_by_origin_and_dest=df_delays[['Origin','Dest','ArrDelay']].groupby(['Origin','Dest']).count()\n",
    "average_delay_by_origin_and_dest.sort_values('ArrDelay',ascending=False)"
   ]
  },
  {
   "cell_type": "code",
   "execution_count": null,
   "metadata": {},
   "outputs": [],
   "source": []
  },
  {
   "cell_type": "code",
   "execution_count": null,
   "metadata": {},
   "outputs": [],
   "source": []
  },
  {
   "cell_type": "code",
   "execution_count": null,
   "metadata": {},
   "outputs": [],
   "source": []
  },
  {
   "cell_type": "markdown",
   "metadata": {},
   "source": [
    "# Predict the delay given all other features and report the appropriate performance on cross-validation.\n"
   ]
  },
  {
   "cell_type": "code",
   "execution_count": 82,
   "metadata": {},
   "outputs": [
    {
     "data": {
      "text/html": [
       "<div>\n",
       "<style scoped>\n",
       "    .dataframe tbody tr th:only-of-type {\n",
       "        vertical-align: middle;\n",
       "    }\n",
       "\n",
       "    .dataframe tbody tr th {\n",
       "        vertical-align: top;\n",
       "    }\n",
       "\n",
       "    .dataframe thead th {\n",
       "        text-align: right;\n",
       "    }\n",
       "</style>\n",
       "<table border=\"1\" class=\"dataframe\">\n",
       "  <thead>\n",
       "    <tr style=\"text-align: right;\">\n",
       "      <th></th>\n",
       "      <th>DayofWeek</th>\n",
       "      <th>CRSDepTime</th>\n",
       "      <th>UniqueCarrier</th>\n",
       "      <th>FlightNum</th>\n",
       "      <th>Origin</th>\n",
       "      <th>Dest</th>\n",
       "      <th>ArrDelay</th>\n",
       "    </tr>\n",
       "  </thead>\n",
       "  <tbody>\n",
       "    <tr>\n",
       "      <th>0</th>\n",
       "      <td>5</td>\n",
       "      <td>600</td>\n",
       "      <td>UA</td>\n",
       "      <td>899.0</td>\n",
       "      <td>ORD</td>\n",
       "      <td>IAD</td>\n",
       "      <td>-3</td>\n",
       "    </tr>\n",
       "    <tr>\n",
       "      <th>1</th>\n",
       "      <td>5</td>\n",
       "      <td>615</td>\n",
       "      <td>DL</td>\n",
       "      <td>357.0</td>\n",
       "      <td>IAD</td>\n",
       "      <td>ATL</td>\n",
       "      <td>5</td>\n",
       "    </tr>\n",
       "    <tr>\n",
       "      <th>2</th>\n",
       "      <td>5</td>\n",
       "      <td>615</td>\n",
       "      <td>UA</td>\n",
       "      <td>341.0</td>\n",
       "      <td>IAD</td>\n",
       "      <td>DEN</td>\n",
       "      <td>8</td>\n",
       "    </tr>\n",
       "    <tr>\n",
       "      <th>3</th>\n",
       "      <td>5</td>\n",
       "      <td>625</td>\n",
       "      <td>CO</td>\n",
       "      <td>581.0</td>\n",
       "      <td>IAD</td>\n",
       "      <td>DEN</td>\n",
       "      <td>44</td>\n",
       "    </tr>\n",
       "    <tr>\n",
       "      <th>4</th>\n",
       "      <td>5</td>\n",
       "      <td>630</td>\n",
       "      <td>UA</td>\n",
       "      <td>902.0</td>\n",
       "      <td>CLE</td>\n",
       "      <td>IAD</td>\n",
       "      <td>-10</td>\n",
       "    </tr>\n",
       "    <tr>\n",
       "      <th>...</th>\n",
       "      <td>...</td>\n",
       "      <td>...</td>\n",
       "      <td>...</td>\n",
       "      <td>...</td>\n",
       "      <td>...</td>\n",
       "      <td>...</td>\n",
       "      <td>...</td>\n",
       "    </tr>\n",
       "    <tr>\n",
       "      <th>100156</th>\n",
       "      <td>6</td>\n",
       "      <td>2140</td>\n",
       "      <td>UA</td>\n",
       "      <td>30.0</td>\n",
       "      <td>LAX</td>\n",
       "      <td>IAD</td>\n",
       "      <td>-19</td>\n",
       "    </tr>\n",
       "    <tr>\n",
       "      <th>100157</th>\n",
       "      <td>6</td>\n",
       "      <td>2140</td>\n",
       "      <td>CO</td>\n",
       "      <td>896.0</td>\n",
       "      <td>LAX</td>\n",
       "      <td>IAD</td>\n",
       "      <td>-23</td>\n",
       "    </tr>\n",
       "    <tr>\n",
       "      <th>100158</th>\n",
       "      <td>6</td>\n",
       "      <td>2150</td>\n",
       "      <td>UA</td>\n",
       "      <td>1094.0</td>\n",
       "      <td>IAD</td>\n",
       "      <td>BDL</td>\n",
       "      <td>-14</td>\n",
       "    </tr>\n",
       "    <tr>\n",
       "      <th>100159</th>\n",
       "      <td>6</td>\n",
       "      <td>2155</td>\n",
       "      <td>US</td>\n",
       "      <td>394.0</td>\n",
       "      <td>PIT</td>\n",
       "      <td>IAD</td>\n",
       "      <td>9</td>\n",
       "    </tr>\n",
       "    <tr>\n",
       "      <th>100160</th>\n",
       "      <td>6</td>\n",
       "      <td>2230</td>\n",
       "      <td>UA</td>\n",
       "      <td>16.0</td>\n",
       "      <td>SFO</td>\n",
       "      <td>IAD</td>\n",
       "      <td>-7</td>\n",
       "    </tr>\n",
       "  </tbody>\n",
       "</table>\n",
       "<p>100161 rows × 7 columns</p>\n",
       "</div>"
      ],
      "text/plain": [
       "        DayofWeek  CRSDepTime UniqueCarrier  FlightNum Origin Dest  ArrDelay\n",
       "0               5         600            UA      899.0    ORD  IAD        -3\n",
       "1               5         615            DL      357.0    IAD  ATL         5\n",
       "2               5         615            UA      341.0    IAD  DEN         8\n",
       "3               5         625            CO      581.0    IAD  DEN        44\n",
       "4               5         630            UA      902.0    CLE  IAD       -10\n",
       "...           ...         ...           ...        ...    ...  ...       ...\n",
       "100156          6        2140            UA       30.0    LAX  IAD       -19\n",
       "100157          6        2140            CO      896.0    LAX  IAD       -23\n",
       "100158          6        2150            UA     1094.0    IAD  BDL       -14\n",
       "100159          6        2155            US      394.0    PIT  IAD         9\n",
       "100160          6        2230            UA       16.0    SFO  IAD        -7\n",
       "\n",
       "[100161 rows x 7 columns]"
      ]
     },
     "execution_count": 82,
     "metadata": {},
     "output_type": "execute_result"
    }
   ],
   "source": [
    "df"
   ]
  },
  {
   "cell_type": "code",
   "execution_count": null,
   "metadata": {},
   "outputs": [],
   "source": []
  },
  {
   "cell_type": "code",
   "execution_count": null,
   "metadata": {},
   "outputs": [],
   "source": []
  },
  {
   "cell_type": "code",
   "execution_count": null,
   "metadata": {},
   "outputs": [],
   "source": []
  },
  {
   "cell_type": "code",
   "execution_count": null,
   "metadata": {},
   "outputs": [],
   "source": []
  },
  {
   "cell_type": "markdown",
   "metadata": {},
   "source": [
    "# Identify patterns/rules regarding delays and try to explain when delays should be expected, based on these patterns."
   ]
  },
  {
   "cell_type": "code",
   "execution_count": null,
   "metadata": {},
   "outputs": [],
   "source": []
  },
  {
   "cell_type": "code",
   "execution_count": null,
   "metadata": {},
   "outputs": [],
   "source": []
  },
  {
   "cell_type": "code",
   "execution_count": null,
   "metadata": {},
   "outputs": [],
   "source": []
  },
  {
   "cell_type": "code",
   "execution_count": null,
   "metadata": {},
   "outputs": [],
   "source": []
  },
  {
   "cell_type": "code",
   "execution_count": null,
   "metadata": {},
   "outputs": [],
   "source": []
  },
  {
   "cell_type": "code",
   "execution_count": null,
   "metadata": {},
   "outputs": [],
   "source": []
  },
  {
   "cell_type": "code",
   "execution_count": null,
   "metadata": {},
   "outputs": [],
   "source": []
  },
  {
   "cell_type": "code",
   "execution_count": null,
   "metadata": {},
   "outputs": [],
   "source": []
  },
  {
   "cell_type": "code",
   "execution_count": null,
   "metadata": {},
   "outputs": [],
   "source": []
  },
  {
   "cell_type": "code",
   "execution_count": null,
   "metadata": {},
   "outputs": [],
   "source": []
  },
  {
   "cell_type": "code",
   "execution_count": null,
   "metadata": {},
   "outputs": [],
   "source": []
  },
  {
   "cell_type": "code",
   "execution_count": null,
   "metadata": {},
   "outputs": [],
   "source": []
  },
  {
   "cell_type": "code",
   "execution_count": null,
   "metadata": {},
   "outputs": [],
   "source": []
  },
  {
   "cell_type": "code",
   "execution_count": null,
   "metadata": {},
   "outputs": [],
   "source": []
  },
  {
   "cell_type": "code",
   "execution_count": null,
   "metadata": {},
   "outputs": [],
   "source": []
  },
  {
   "cell_type": "code",
   "execution_count": null,
   "metadata": {},
   "outputs": [],
   "source": []
  },
  {
   "cell_type": "code",
   "execution_count": null,
   "metadata": {},
   "outputs": [],
   "source": []
  },
  {
   "cell_type": "markdown",
   "metadata": {},
   "source": [
    "# Material from exercise 1"
   ]
  },
  {
   "cell_type": "code",
   "execution_count": 1,
   "metadata": {
    "pycharm": {
     "name": "#%%\n"
    }
   },
   "outputs": [],
   "source": [
    "from collections import OrderedDict\n",
    "from pprint import pprint\n",
    "\n",
    "import matplotlib.pyplot as plt\n",
    "import numpy as np\n",
    "import pandas as pd\n",
    "import scipy.cluster.hierarchy as shc\n",
    "import seaborn as sns\n",
    "from sklearn import metrics, svm\n",
    "from sklearn.cluster import AgglomerativeClustering\n",
    "from sklearn.cluster import DBSCAN\n",
    "from sklearn.decomposition import PCA\n",
    "from sklearn.ensemble import RandomForestClassifier\n",
    "from sklearn.model_selection import GridSearchCV, train_test_split\n",
    "from sklearn.neighbors import NearestNeighbors, KNeighborsClassifier\n",
    "from sklearn.preprocessing import normalize\n",
    "from sklearn.tree import DecisionTreeClassifier\n",
    "\n",
    "sns.set(style = \"darkgrid\")"
   ]
  },
  {
   "cell_type": "code",
   "execution_count": 2,
   "metadata": {
    "pycharm": {
     "name": "#%%\n"
    }
   },
   "outputs": [
    {
     "data": {
      "text/html": [
       "<div>\n",
       "<style scoped>\n",
       "    .dataframe tbody tr th:only-of-type {\n",
       "        vertical-align: middle;\n",
       "    }\n",
       "\n",
       "    .dataframe tbody tr th {\n",
       "        vertical-align: top;\n",
       "    }\n",
       "\n",
       "    .dataframe thead th {\n",
       "        text-align: right;\n",
       "    }\n",
       "</style>\n",
       "<table border=\"1\" class=\"dataframe\">\n",
       "  <thead>\n",
       "    <tr style=\"text-align: right;\">\n",
       "      <th></th>\n",
       "      <th>ΟΝΟΜΑ ΕΓΚΛΗΜΑΤΟΣ</th>\n",
       "      <th>τελ/να</th>\n",
       "      <th>απόπειρες</th>\n",
       "      <th>εξιχνιάσεις</th>\n",
       "      <th>ημεδαποί</th>\n",
       "      <th>αλλοδαποί</th>\n",
       "    </tr>\n",
       "  </thead>\n",
       "  <tbody>\n",
       "    <tr>\n",
       "      <th>0</th>\n",
       "      <td>ΑΝΘΡΩΠΟΚΤΟΝΙΕΣ</td>\n",
       "      <td>81</td>\n",
       "      <td>132</td>\n",
       "      <td>183</td>\n",
       "      <td>169</td>\n",
       "      <td>95</td>\n",
       "    </tr>\n",
       "    <tr>\n",
       "      <th>1</th>\n",
       "      <td>ΑΠΑΤΕΣ</td>\n",
       "      <td>3790</td>\n",
       "      <td>1189</td>\n",
       "      <td>2066</td>\n",
       "      <td>994</td>\n",
       "      <td>247</td>\n",
       "    </tr>\n",
       "    <tr>\n",
       "      <th>2</th>\n",
       "      <td>ΑΡΧΑΙΟΚΑΠΗΛΕΙΑ</td>\n",
       "      <td>155</td>\n",
       "      <td>19</td>\n",
       "      <td>174</td>\n",
       "      <td>161</td>\n",
       "      <td>22</td>\n",
       "    </tr>\n",
       "    <tr>\n",
       "      <th>3</th>\n",
       "      <td>ΒΙΑΣΜΟΙ</td>\n",
       "      <td>155</td>\n",
       "      <td>82</td>\n",
       "      <td>164</td>\n",
       "      <td>102</td>\n",
       "      <td>91</td>\n",
       "    </tr>\n",
       "    <tr>\n",
       "      <th>4</th>\n",
       "      <td>ΕΚΒΙΑΣΕΙΣ</td>\n",
       "      <td>135</td>\n",
       "      <td>23</td>\n",
       "      <td>89</td>\n",
       "      <td>100</td>\n",
       "      <td>55</td>\n",
       "    </tr>\n",
       "  </tbody>\n",
       "</table>\n",
       "</div>"
      ],
      "text/plain": [
       "  ΟΝΟΜΑ ΕΓΚΛΗΜΑΤΟΣ  τελ/να  απόπειρες  εξιχνιάσεις  ημεδαποί  αλλοδαποί\n",
       "0   ΑΝΘΡΩΠΟΚΤΟΝΙΕΣ      81        132          183       169         95\n",
       "1           ΑΠΑΤΕΣ    3790       1189         2066       994        247\n",
       "2   ΑΡΧΑΙΟΚΑΠΗΛΕΙΑ     155         19          174       161         22\n",
       "3          ΒΙΑΣΜΟΙ     155         82          164       102         91\n",
       "4        ΕΚΒΙΑΣΕΙΣ     135         23           89       100         55"
      ]
     },
     "execution_count": 2,
     "metadata": {},
     "output_type": "execute_result"
    }
   ],
   "source": [
    "FILE_NAME = \"2016_epikrateia.xlsx\"\n",
    "\n",
    "# load the first two sheets\n",
    "dfs = pd.read_excel(FILE_NAME, sheet_name=[0, 1])\n",
    "data_df = dfs[0]  # type: pd.DataFrame\n",
    "superclass_df = dfs[1]  # type: pd.DataFrame\n",
    "\n",
    "data_df.head()"
   ]
  },
  {
   "cell_type": "code",
   "execution_count": 3,
   "metadata": {
    "pycharm": {
     "name": "#%%\n"
    }
   },
   "outputs": [
    {
     "data": {
      "text/html": [
       "<div>\n",
       "<style scoped>\n",
       "    .dataframe tbody tr th:only-of-type {\n",
       "        vertical-align: middle;\n",
       "    }\n",
       "\n",
       "    .dataframe tbody tr th {\n",
       "        vertical-align: top;\n",
       "    }\n",
       "\n",
       "    .dataframe thead th {\n",
       "        text-align: right;\n",
       "    }\n",
       "</style>\n",
       "<table border=\"1\" class=\"dataframe\">\n",
       "  <thead>\n",
       "    <tr style=\"text-align: right;\">\n",
       "      <th></th>\n",
       "      <th>ΟΝΟΜΑ ΕΓΚΛΗΜΑΤΟΣ</th>\n",
       "      <th>τελ/να</th>\n",
       "      <th>απόπειρες</th>\n",
       "      <th>εξιχνιάσεις</th>\n",
       "      <th>ημεδαποί</th>\n",
       "      <th>αλλοδαποί</th>\n",
       "    </tr>\n",
       "  </thead>\n",
       "  <tbody>\n",
       "    <tr>\n",
       "      <th>37</th>\n",
       "      <td>Ληστείες σε πρακτορεία ΟΠΑΠ</td>\n",
       "      <td>31</td>\n",
       "      <td>5</td>\n",
       "      <td>3</td>\n",
       "      <td>3</td>\n",
       "      <td>5</td>\n",
       "    </tr>\n",
       "    <tr>\n",
       "      <th>38</th>\n",
       "      <td>Ληστείες σούπερ μάρκετ</td>\n",
       "      <td>127</td>\n",
       "      <td>2</td>\n",
       "      <td>50</td>\n",
       "      <td>24</td>\n",
       "      <td>10</td>\n",
       "    </tr>\n",
       "    <tr>\n",
       "      <th>39</th>\n",
       "      <td>Ληστείες ταχυδρομικών διανομέων</td>\n",
       "      <td>4</td>\n",
       "      <td>3</td>\n",
       "      <td>1</td>\n",
       "      <td>2</td>\n",
       "      <td>0</td>\n",
       "    </tr>\n",
       "    <tr>\n",
       "      <th>40</th>\n",
       "      <td>Ληστείες τραπεζών,ταχ/κών ταμιευτηρίων</td>\n",
       "      <td>14</td>\n",
       "      <td>2</td>\n",
       "      <td>12</td>\n",
       "      <td>8</td>\n",
       "      <td>0</td>\n",
       "    </tr>\n",
       "    <tr>\n",
       "      <th>41</th>\n",
       "      <td>Ληστείες χρηματαποστολών</td>\n",
       "      <td>21</td>\n",
       "      <td>2</td>\n",
       "      <td>1</td>\n",
       "      <td>3</td>\n",
       "      <td>0</td>\n",
       "    </tr>\n",
       "  </tbody>\n",
       "</table>\n",
       "</div>"
      ],
      "text/plain": [
       "                          ΟΝΟΜΑ ΕΓΚΛΗΜΑΤΟΣ  τελ/να  απόπειρες  εξιχνιάσεις  \\\n",
       "37             Ληστείες σε πρακτορεία ΟΠΑΠ      31          5            3   \n",
       "38                  Ληστείες σούπερ μάρκετ     127          2           50   \n",
       "39         Ληστείες ταχυδρομικών διανομέων       4          3            1   \n",
       "40  Ληστείες τραπεζών,ταχ/κών ταμιευτηρίων      14          2           12   \n",
       "41                Ληστείες χρηματαποστολών      21          2            1   \n",
       "\n",
       "    ημεδαποί  αλλοδαποί  \n",
       "37         3          5  \n",
       "38        24         10  \n",
       "39         2          0  \n",
       "40         8          0  \n",
       "41         3          0  "
      ]
     },
     "execution_count": 3,
     "metadata": {},
     "output_type": "execute_result"
    }
   ],
   "source": [
    "data_df.tail()"
   ]
  },
  {
   "cell_type": "code",
   "execution_count": 4,
   "metadata": {
    "pycharm": {
     "name": "#%%\n"
    }
   },
   "outputs": [
    {
     "data": {
      "text/html": [
       "<div>\n",
       "<style scoped>\n",
       "    .dataframe tbody tr th:only-of-type {\n",
       "        vertical-align: middle;\n",
       "    }\n",
       "\n",
       "    .dataframe tbody tr th {\n",
       "        vertical-align: top;\n",
       "    }\n",
       "\n",
       "    .dataframe thead th {\n",
       "        text-align: right;\n",
       "    }\n",
       "</style>\n",
       "<table border=\"1\" class=\"dataframe\">\n",
       "  <thead>\n",
       "    <tr style=\"text-align: right;\">\n",
       "      <th></th>\n",
       "      <th>ΟΝΟΜΑ</th>\n",
       "      <th>τελ/να</th>\n",
       "      <th>απόπειρες</th>\n",
       "      <th>εξιχνιάσεις</th>\n",
       "      <th>ημεδαποί</th>\n",
       "      <th>αλλοδαποί</th>\n",
       "    </tr>\n",
       "  </thead>\n",
       "  <tbody>\n",
       "    <tr>\n",
       "      <th>0</th>\n",
       "      <td>ΛΟΙΠΑ ΕΓΚΛΗΜΑΤΑ</td>\n",
       "      <td>34805</td>\n",
       "      <td>1483</td>\n",
       "      <td>25964</td>\n",
       "      <td>21089</td>\n",
       "      <td>9573</td>\n",
       "    </tr>\n",
       "    <tr>\n",
       "      <th>1</th>\n",
       "      <td>ΚΛΟΠΕΣ - ΔΙΑΡΡΗΞΕΙΣ</td>\n",
       "      <td>75083</td>\n",
       "      <td>5469</td>\n",
       "      <td>14798</td>\n",
       "      <td>9990</td>\n",
       "      <td>3961</td>\n",
       "    </tr>\n",
       "    <tr>\n",
       "      <th>2</th>\n",
       "      <td>ΚΛΟΠΕΣ ΤΡΟΧΟΦΟΡΩΝ</td>\n",
       "      <td>26180</td>\n",
       "      <td>720</td>\n",
       "      <td>8543</td>\n",
       "      <td>1405</td>\n",
       "      <td>451</td>\n",
       "    </tr>\n",
       "    <tr>\n",
       "      <th>3</th>\n",
       "      <td>ΛΗΣΤΕΙΕΣ</td>\n",
       "      <td>4738</td>\n",
       "      <td>325</td>\n",
       "      <td>1582</td>\n",
       "      <td>1295</td>\n",
       "      <td>618</td>\n",
       "    </tr>\n",
       "  </tbody>\n",
       "</table>\n",
       "</div>"
      ],
      "text/plain": [
       "                 ΟΝΟΜΑ  τελ/να  απόπειρες  εξιχνιάσεις  ημεδαποί  αλλοδαποί\n",
       "0      ΛΟΙΠΑ ΕΓΚΛΗΜΑΤΑ   34805       1483        25964     21089       9573\n",
       "1  ΚΛΟΠΕΣ - ΔΙΑΡΡΗΞΕΙΣ   75083       5469        14798      9990       3961\n",
       "2    ΚΛΟΠΕΣ ΤΡΟΧΟΦΟΡΩΝ   26180        720         8543      1405        451\n",
       "3             ΛΗΣΤΕΙΕΣ    4738        325         1582      1295        618"
      ]
     },
     "execution_count": 4,
     "metadata": {},
     "output_type": "execute_result"
    }
   ],
   "source": [
    "superclass_df.head()"
   ]
  },
  {
   "cell_type": "markdown",
   "metadata": {},
   "source": [
    "For the first task we have to cluster the types of crimes based on the success of the police in facing/solving them.\n",
    "\n",
    "In order to achieve this, we have to keep the columns \"τελ/να\" and \"απόπειρες\".\n",
    "The type of clustering that was chosen is Hierarchical clustering since we have few data, and we do not know the number\n",
    "of clusters beforehand.\n",
    "\n",
    "However, the decision of the number of clusters that can best depict different groups can be\n",
    "chosen by observing the dendrogram.\n",
    "The best choice of the number of clusters is the no. of vertical lines in the dendrogram cut by a\n",
    "horizontal line that can transverse the maximum distance vertically without intersecting a\n",
    "cluster.\n",
    "\n",
    "For k- means clustering we would need to have prior knowledge about the clusters."
   ]
  },
  {
   "cell_type": "code",
   "execution_count": 5,
   "metadata": {
    "pycharm": {
     "name": "#%%\n"
    }
   },
   "outputs": [],
   "source": [
    "task_1_df = data_df[[\"τελ/να\", \"εξιχνιάσεις\"]]"
   ]
  },
  {
   "cell_type": "markdown",
   "metadata": {},
   "source": [
    "We have to normalize the data so that the scale of each variable is the same. Why is this important?\n",
    "\n",
    "If the scale of the variables is not the same, the model might become biased towards\n",
    "the variables with a higher magnitude like ΑΠΑΤΕΣ or ΕΠΑΙΤΕΙΑ."
   ]
  },
  {
   "cell_type": "code",
   "execution_count": 6,
   "metadata": {
    "pycharm": {
     "name": "#%%\n"
    }
   },
   "outputs": [
    {
     "data": {
      "text/html": [
       "<div>\n",
       "<style scoped>\n",
       "    .dataframe tbody tr th:only-of-type {\n",
       "        vertical-align: middle;\n",
       "    }\n",
       "\n",
       "    .dataframe tbody tr th {\n",
       "        vertical-align: top;\n",
       "    }\n",
       "\n",
       "    .dataframe thead th {\n",
       "        text-align: right;\n",
       "    }\n",
       "</style>\n",
       "<table border=\"1\" class=\"dataframe\">\n",
       "  <thead>\n",
       "    <tr style=\"text-align: right;\">\n",
       "      <th></th>\n",
       "      <th>τελ/να</th>\n",
       "      <th>εξιχνιάσεις</th>\n",
       "    </tr>\n",
       "  </thead>\n",
       "  <tbody>\n",
       "    <tr>\n",
       "      <th>0</th>\n",
       "      <td>0.404747</td>\n",
       "      <td>0.914429</td>\n",
       "    </tr>\n",
       "    <tr>\n",
       "      <th>1</th>\n",
       "      <td>0.878019</td>\n",
       "      <td>0.478625</td>\n",
       "    </tr>\n",
       "    <tr>\n",
       "      <th>2</th>\n",
       "      <td>0.665163</td>\n",
       "      <td>0.746699</td>\n",
       "    </tr>\n",
       "    <tr>\n",
       "      <th>3</th>\n",
       "      <td>0.686884</td>\n",
       "      <td>0.726767</td>\n",
       "    </tr>\n",
       "    <tr>\n",
       "      <th>4</th>\n",
       "      <td>0.834894</td>\n",
       "      <td>0.550411</td>\n",
       "    </tr>\n",
       "  </tbody>\n",
       "</table>\n",
       "</div>"
      ],
      "text/plain": [
       "     τελ/να  εξιχνιάσεις\n",
       "0  0.404747     0.914429\n",
       "1  0.878019     0.478625\n",
       "2  0.665163     0.746699\n",
       "3  0.686884     0.726767\n",
       "4  0.834894     0.550411"
      ]
     },
     "execution_count": 6,
     "metadata": {},
     "output_type": "execute_result"
    }
   ],
   "source": [
    "data_scaled = normalize(task_1_df)\n",
    "data_scaled = pd.DataFrame(data_scaled, columns=task_1_df.columns)\n",
    "data_scaled.head()"
   ]
  },
  {
   "cell_type": "markdown",
   "metadata": {
    "pycharm": {
     "name": "#%% md\n"
    }
   },
   "source": [
    "The x-axis contains the samples and y-axis represents the distance between these samples.\n",
    "The vertical line with maximum distance is the blue line and hence we can decide a threshold of 1 and cut the dendrogram\n"
   ]
  },
  {
   "cell_type": "code",
   "execution_count": 7,
   "metadata": {
    "pycharm": {
     "name": "#%%\n"
    }
   },
   "outputs": [
    {
     "data": {
      "text/plain": [
       "<matplotlib.lines.Line2D at 0x28dacfa70d0>"
      ]
     },
     "execution_count": 7,
     "metadata": {},
     "output_type": "execute_result"
    },
    {
     "data": {
      "image/png": "[encoded data removed]",
      "text/plain": [
       "<Figure size 720x504 with 1 Axes>"
      ]
     },
     "metadata": {},
     "output_type": "display_data"
    }
   ],
   "source": [
    "plt.figure(figsize=(10, 7))\n",
    "plt.title(\"Dendrograms\")\n",
    "dendrogram = shc.dendrogram(shc.linkage(data_scaled, method='ward'))\n",
    "plt.axhline(y=1, color='r', linestyle='--')"
   ]
  },
  {
   "cell_type": "markdown",
   "metadata": {
    "pycharm": {
     "name": "#%% md\n"
    }
   },
   "source": [
    "We have two clusters as this line cuts the dendrogram at two points.\n",
    "Let’s now apply hierarchical clustering for 2 clusters\n"
   ]
  },
  {
   "cell_type": "code",
   "execution_count": 8,
   "metadata": {
    "pycharm": {
     "name": "#%%\n"
    }
   },
   "outputs": [
    {
     "data": {
      "text/plain": [
       "array([1, 0, 1, 1, 0, 1, 0, 0, 1, 1, 1, 1, 1, 1, 0, 0, 0, 0, 0, 0, 0, 0,\n",
       "       0, 0, 0, 0, 0, 0, 0, 0, 0, 0, 0, 0, 0, 0, 0, 0, 0, 0, 1, 0],\n",
       "      dtype=int64)"
      ]
     },
     "execution_count": 8,
     "metadata": {},
     "output_type": "execute_result"
    }
   ],
   "source": [
    "cluster = AgglomerativeClustering(n_clusters=2, affinity='euclidean', linkage='ward')\n",
    "cluster.fit_predict(data_scaled)"
   ]
  },
  {
   "cell_type": "code",
   "execution_count": 9,
   "metadata": {
    "pycharm": {
     "name": "#%%\n"
    }
   },
   "outputs": [
    {
     "data": {
      "text/plain": [
       "<matplotlib.collections.PathCollection at 0x28dacff1550>"
      ]
     },
     "execution_count": 9,
     "metadata": {},
     "output_type": "execute_result"
    },
    {
     "data": {
      "image/png": "[encoded data removed]",
      "text/plain": [
       "<Figure size 432x288 with 1 Axes>"
      ]
     },
     "metadata": {},
     "output_type": "display_data"
    }
   ],
   "source": [
    "plt.scatter(data_scaled[\"τελ/να\"], data_scaled[\"εξιχνιάσεις\"], c=cluster.labels_, cmap='rainbow')"
   ]
  },
  {
   "cell_type": "code",
   "execution_count": 10,
   "metadata": {
    "pycharm": {
     "name": "#%%\n"
    }
   },
   "outputs": [
    {
     "name": "stdout",
     "output_type": "stream",
     "text": [
      "OrderedDict([('ΑΝΘΡΩΠΟΚΤΟΝΙΕΣ', 1),\n",
      "             ('ΑΠΑΤΕΣ', 0),\n",
      "             ('ΑΡΧΑΙΟΚΑΠΗΛΕΙΑ', 1),\n",
      "             ('ΒΙΑΣΜΟΙ', 1),\n",
      "             ('ΕΚΒΙΑΣΕΙΣ', 0),\n",
      "             ('ΕΠΑΙΤΕΙΑ', 1),\n",
      "             ('ΖΩΟΚΛΟΠΗ', 0),\n",
      "             ('ΚΥΚΛΟΦΟΡΙΑ ΠΑΡΑΧΑΡΑΓΜΕΝΩΝ', 0),\n",
      "             ('ΛΑΘΡΕΜΠΟΡΙΟ', 1),\n",
      "             ('Ν περί ΝΑΡΚΩΤΙΚΩΝ', 1),\n",
      "             ('Ν περί ΟΠΛΩΝ', 1),\n",
      "             ('Ν περί ΠΝΕΥΜΑΤΙΚΗΣ ΙΔΙΟΚΤΗΣΙΑΣ', 1),\n",
      "             ('ΠΛΑΣΤΟΓΡΑΦΙΑ', 1),\n",
      "             ('ΣΕΞΟΥΑΛΙΚΗ ΕΚΜΕΤΑΛΛΕΥΣΗ', 1),\n",
      "             ('Κλοπές - Διαρρήξεις από ιχε αυτ/τα', 0),\n",
      "             ('Κλοπές - Διαρρήξεις ιερών ναών', 0),\n",
      "             ('Κλοπές - Διαρρήξεις καταστημάτων', 0),\n",
      "             ('Κλοπές - Διαρρήξεις λοιπές', 0),\n",
      "             ('Κλοπές - Διαρρήξεις οικιών', 0),\n",
      "             ('Κλοπές - Διαρρήξεις σε συγκοινωνιακά μέσα', 0),\n",
      "             ('Κλοπές με αρπαγές τσαντών', 0),\n",
      "             ('Κλοπές σε δημόσιο χώρο-μικροκλοπες', 0),\n",
      "             ('Κλοπές Τροχοφόρων ΙΧΕ αυτ/των', 0),\n",
      "             ('Κλοπές Τροχοφόρων ΙΧΦ-Λεωφορείων', 0),\n",
      "             ('Κλοπές Τροχοφόρων Λοιπών οχημάτων', 0),\n",
      "             ('Κλοπές Τροχοφόρων Μοτοποδηλάτων', 0),\n",
      "             ('Κλοπές Τροχοφόρων Μοτοσυκλετών', 0),\n",
      "             ('Ληστείες εντός καταστημάτων', 0),\n",
      "             ('Ληστείες εντός οικιών', 0),\n",
      "             ('Ληστείες κινητών τηλεφώνων-μικροποσών', 0),\n",
      "             ('Ληστείες λοιπές', 0),\n",
      "             ('Ληστείες με αρπαγή τσάντας', 0),\n",
      "             ('Ληστείες οδηγών ταξί', 0),\n",
      "             ('Ληστείες πρατηρίων υγρών καυσίμων', 0),\n",
      "             ('Ληστείες σε ΕΛ.ΤΑ.', 0),\n",
      "             ('Ληστείες σε Μίνι Μάρκετ-κατ/τα ψιλικών', 0),\n",
      "             ('Ληστείες σε περίπτερα', 0),\n",
      "             ('Ληστείες σε πρακτορεία ΟΠΑΠ', 0),\n",
      "             ('Ληστείες σούπερ μάρκετ', 0),\n",
      "             ('Ληστείες ταχυδρομικών διανομέων', 0),\n",
      "             ('Ληστείες τραπεζών,ταχ/κών ταμιευτηρίων', 1),\n",
      "             ('Ληστείες χρηματαποστολών', 0)])\n"
     ]
    }
   ],
   "source": [
    "# Map crime names to their cluster.\n",
    "crimes_names = data_df[\"ΟΝΟΜΑ ΕΓΚΛΗΜΑΤΟΣ\"].tolist()\n",
    "clusters = OrderedDict(zip(crimes_names, cluster.labels_))\n",
    "pprint(clusters)"
   ]
  },
  {
   "cell_type": "markdown",
   "metadata": {
    "pycharm": {
     "name": "#%% md\n"
    }
   },
   "source": [
    "For the second task we have to cluster the types of crimes and explain what each cluster represents. We will use the\n",
    "same algorithm as before but this time we will keep all the columns except for the \"ΟΝΟΜΑ ΕΓΚΛΗΜΑΤΟΣ\""
   ]
  },
  {
   "cell_type": "code",
   "execution_count": 11,
   "metadata": {
    "pycharm": {
     "name": "#%%\n"
    }
   },
   "outputs": [
    {
     "data": {
      "text/html": [
       "<div>\n",
       "<style scoped>\n",
       "    .dataframe tbody tr th:only-of-type {\n",
       "        vertical-align: middle;\n",
       "    }\n",
       "\n",
       "    .dataframe tbody tr th {\n",
       "        vertical-align: top;\n",
       "    }\n",
       "\n",
       "    .dataframe thead th {\n",
       "        text-align: right;\n",
       "    }\n",
       "</style>\n",
       "<table border=\"1\" class=\"dataframe\">\n",
       "  <thead>\n",
       "    <tr style=\"text-align: right;\">\n",
       "      <th></th>\n",
       "      <th>τελ/να</th>\n",
       "      <th>απόπειρες</th>\n",
       "      <th>εξιχνιάσεις</th>\n",
       "      <th>ημεδαποί</th>\n",
       "      <th>αλλοδαποί</th>\n",
       "    </tr>\n",
       "  </thead>\n",
       "  <tbody>\n",
       "    <tr>\n",
       "      <th>0</th>\n",
       "      <td>81</td>\n",
       "      <td>132</td>\n",
       "      <td>183</td>\n",
       "      <td>169</td>\n",
       "      <td>95</td>\n",
       "    </tr>\n",
       "    <tr>\n",
       "      <th>1</th>\n",
       "      <td>3790</td>\n",
       "      <td>1189</td>\n",
       "      <td>2066</td>\n",
       "      <td>994</td>\n",
       "      <td>247</td>\n",
       "    </tr>\n",
       "    <tr>\n",
       "      <th>2</th>\n",
       "      <td>155</td>\n",
       "      <td>19</td>\n",
       "      <td>174</td>\n",
       "      <td>161</td>\n",
       "      <td>22</td>\n",
       "    </tr>\n",
       "    <tr>\n",
       "      <th>3</th>\n",
       "      <td>155</td>\n",
       "      <td>82</td>\n",
       "      <td>164</td>\n",
       "      <td>102</td>\n",
       "      <td>91</td>\n",
       "    </tr>\n",
       "    <tr>\n",
       "      <th>4</th>\n",
       "      <td>135</td>\n",
       "      <td>23</td>\n",
       "      <td>89</td>\n",
       "      <td>100</td>\n",
       "      <td>55</td>\n",
       "    </tr>\n",
       "  </tbody>\n",
       "</table>\n",
       "</div>"
      ],
      "text/plain": [
       "   τελ/να  απόπειρες  εξιχνιάσεις  ημεδαποί  αλλοδαποί\n",
       "0      81        132          183       169         95\n",
       "1    3790       1189         2066       994        247\n",
       "2     155         19          174       161         22\n",
       "3     155         82          164       102         91\n",
       "4     135         23           89       100         55"
      ]
     },
     "execution_count": 11,
     "metadata": {},
     "output_type": "execute_result"
    }
   ],
   "source": [
    "task_2_df = data_df[[\"τελ/να\", \"απόπειρες\", \"εξιχνιάσεις\", \"ημεδαποί\", \"αλλοδαποί\"]]\n",
    "task_2_df.head()"
   ]
  },
  {
   "cell_type": "code",
   "execution_count": 12,
   "metadata": {
    "pycharm": {
     "name": "#%%\n"
    }
   },
   "outputs": [
    {
     "data": {
      "text/html": [
       "<div>\n",
       "<style scoped>\n",
       "    .dataframe tbody tr th:only-of-type {\n",
       "        vertical-align: middle;\n",
       "    }\n",
       "\n",
       "    .dataframe tbody tr th {\n",
       "        vertical-align: top;\n",
       "    }\n",
       "\n",
       "    .dataframe thead th {\n",
       "        text-align: right;\n",
       "    }\n",
       "</style>\n",
       "<table border=\"1\" class=\"dataframe\">\n",
       "  <thead>\n",
       "    <tr style=\"text-align: right;\">\n",
       "      <th></th>\n",
       "      <th>τελ/να</th>\n",
       "      <th>απόπειρες</th>\n",
       "      <th>εξιχνιάσεις</th>\n",
       "      <th>ημεδαποί</th>\n",
       "      <th>αλλοδαποί</th>\n",
       "    </tr>\n",
       "  </thead>\n",
       "  <tbody>\n",
       "    <tr>\n",
       "      <th>0</th>\n",
       "      <td>0.262716</td>\n",
       "      <td>0.428129</td>\n",
       "      <td>0.593543</td>\n",
       "      <td>0.548135</td>\n",
       "      <td>0.308123</td>\n",
       "    </tr>\n",
       "    <tr>\n",
       "      <th>1</th>\n",
       "      <td>0.825177</td>\n",
       "      <td>0.258875</td>\n",
       "      <td>0.449819</td>\n",
       "      <td>0.216418</td>\n",
       "      <td>0.053778</td>\n",
       "    </tr>\n",
       "    <tr>\n",
       "      <th>2</th>\n",
       "      <td>0.544389</td>\n",
       "      <td>0.066732</td>\n",
       "      <td>0.611121</td>\n",
       "      <td>0.565463</td>\n",
       "      <td>0.077268</td>\n",
       "    </tr>\n",
       "    <tr>\n",
       "      <th>3</th>\n",
       "      <td>0.561027</td>\n",
       "      <td>0.296802</td>\n",
       "      <td>0.593603</td>\n",
       "      <td>0.369192</td>\n",
       "      <td>0.329377</td>\n",
       "    </tr>\n",
       "    <tr>\n",
       "      <th>4</th>\n",
       "      <td>0.677546</td>\n",
       "      <td>0.115434</td>\n",
       "      <td>0.446678</td>\n",
       "      <td>0.501886</td>\n",
       "      <td>0.276037</td>\n",
       "    </tr>\n",
       "  </tbody>\n",
       "</table>\n",
       "</div>"
      ],
      "text/plain": [
       "     τελ/να  απόπειρες  εξιχνιάσεις  ημεδαποί  αλλοδαποί\n",
       "0  0.262716   0.428129     0.593543  0.548135   0.308123\n",
       "1  0.825177   0.258875     0.449819  0.216418   0.053778\n",
       "2  0.544389   0.066732     0.611121  0.565463   0.077268\n",
       "3  0.561027   0.296802     0.593603  0.369192   0.329377\n",
       "4  0.677546   0.115434     0.446678  0.501886   0.276037"
      ]
     },
     "execution_count": 12,
     "metadata": {},
     "output_type": "execute_result"
    }
   ],
   "source": [
    "# normalize the data\n",
    "data_scaled = normalize(task_2_df)\n",
    "data_scaled = pd.DataFrame(data_scaled, columns=task_2_df.columns)\n",
    "data_scaled.head()"
   ]
  },
  {
   "cell_type": "code",
   "execution_count": 13,
   "metadata": {
    "pycharm": {
     "name": "#%%\n"
    }
   },
   "outputs": [
    {
     "data": {
      "text/plain": [
       "<matplotlib.lines.Line2D at 0x28dad0ae3a0>"
      ]
     },
     "execution_count": 13,
     "metadata": {},
     "output_type": "execute_result"
    },
    {
     "data": {
      "image/png": "[encoded data removed]",
      "text/plain": [
       "<Figure size 720x504 with 1 Axes>"
      ]
     },
     "metadata": {},
     "output_type": "display_data"
    }
   ],
   "source": [
    "plt.figure(figsize=(10, 7))\n",
    "plt.title(\"Dendrograms\")\n",
    "dendrogram_2 = shc.dendrogram(shc.linkage(data_scaled, method='ward'))\n",
    "plt.axhline(y=1.5, color='r', linestyle='--')"
   ]
  },
  {
   "cell_type": "markdown",
   "metadata": {},
   "source": [
    "The x-axis contains the samples and y-axis represents the distance between these samples.\n",
    "The vertical line with maximum distance is the blue line and hence we can decide a threshold of 1.5 and\n",
    "cut the dendrogram.\n",
    "\n",
    "We have two clusters as this line cuts the dendrogram at two points.\n",
    "Let’s now apply hierarchical clustering for 2 clusters"
   ]
  },
  {
   "cell_type": "code",
   "execution_count": 14,
   "metadata": {
    "pycharm": {
     "name": "#%%\n"
    }
   },
   "outputs": [
    {
     "data": {
      "text/plain": [
       "array([1, 0, 1, 1, 1, 1, 0, 0, 1, 1, 1, 1, 1, 1, 0, 0, 0, 0, 0, 0, 0, 0,\n",
       "       0, 0, 0, 0, 0, 0, 0, 0, 0, 0, 0, 0, 0, 0, 0, 0, 0, 0, 1, 0],\n",
       "      dtype=int64)"
      ]
     },
     "execution_count": 14,
     "metadata": {},
     "output_type": "execute_result"
    }
   ],
   "source": [
    "cluster = AgglomerativeClustering(n_clusters=2, affinity='euclidean', linkage='ward')\n",
    "cluster.fit_predict(data_scaled)\n"
   ]
  },
  {
   "cell_type": "code",
   "execution_count": 15,
   "metadata": {
    "pycharm": {
     "name": "#%%\n"
    }
   },
   "outputs": [
    {
     "name": "stdout",
     "output_type": "stream",
     "text": [
      "OrderedDict([('ΑΝΘΡΩΠΟΚΤΟΝΙΕΣ', 1),\n",
      "             ('ΑΠΑΤΕΣ', 0),\n",
      "             ('ΑΡΧΑΙΟΚΑΠΗΛΕΙΑ', 1),\n",
      "             ('ΒΙΑΣΜΟΙ', 1),\n",
      "             ('ΕΚΒΙΑΣΕΙΣ', 1),\n",
      "             ('ΕΠΑΙΤΕΙΑ', 1),\n",
      "             ('ΖΩΟΚΛΟΠΗ', 0),\n",
      "             ('ΚΥΚΛΟΦΟΡΙΑ ΠΑΡΑΧΑΡΑΓΜΕΝΩΝ', 0),\n",
      "             ('ΛΑΘΡΕΜΠΟΡΙΟ', 1),\n",
      "             ('Ν περί ΝΑΡΚΩΤΙΚΩΝ', 1),\n",
      "             ('Ν περί ΟΠΛΩΝ', 1),\n",
      "             ('Ν περί ΠΝΕΥΜΑΤΙΚΗΣ ΙΔΙΟΚΤΗΣΙΑΣ', 1),\n",
      "             ('ΠΛΑΣΤΟΓΡΑΦΙΑ', 1),\n",
      "             ('ΣΕΞΟΥΑΛΙΚΗ ΕΚΜΕΤΑΛΛΕΥΣΗ', 1),\n",
      "             ('Κλοπές - Διαρρήξεις από ιχε αυτ/τα', 0),\n",
      "             ('Κλοπές - Διαρρήξεις ιερών ναών', 0),\n",
      "             ('Κλοπές - Διαρρήξεις καταστημάτων', 0),\n",
      "             ('Κλοπές - Διαρρήξεις λοιπές', 0),\n",
      "             ('Κλοπές - Διαρρήξεις οικιών', 0),\n",
      "             ('Κλοπές - Διαρρήξεις σε συγκοινωνιακά μέσα', 0),\n",
      "             ('Κλοπές με αρπαγές τσαντών', 0),\n",
      "             ('Κλοπές σε δημόσιο χώρο-μικροκλοπες', 0),\n",
      "             ('Κλοπές Τροχοφόρων ΙΧΕ αυτ/των', 0),\n",
      "             ('Κλοπές Τροχοφόρων ΙΧΦ-Λεωφορείων', 0),\n",
      "             ('Κλοπές Τροχοφόρων Λοιπών οχημάτων', 0),\n",
      "             ('Κλοπές Τροχοφόρων Μοτοποδηλάτων', 0),\n",
      "             ('Κλοπές Τροχοφόρων Μοτοσυκλετών', 0),\n",
      "             ('Ληστείες εντός καταστημάτων', 0),\n",
      "             ('Ληστείες εντός οικιών', 0),\n",
      "             ('Ληστείες κινητών τηλεφώνων-μικροποσών', 0),\n",
      "             ('Ληστείες λοιπές', 0),\n",
      "             ('Ληστείες με αρπαγή τσάντας', 0),\n",
      "             ('Ληστείες οδηγών ταξί', 0),\n",
      "             ('Ληστείες πρατηρίων υγρών καυσίμων', 0),\n",
      "             ('Ληστείες σε ΕΛ.ΤΑ.', 0),\n",
      "             ('Ληστείες σε Μίνι Μάρκετ-κατ/τα ψιλικών', 0),\n",
      "             ('Ληστείες σε περίπτερα', 0),\n",
      "             ('Ληστείες σε πρακτορεία ΟΠΑΠ', 0),\n",
      "             ('Ληστείες σούπερ μάρκετ', 0),\n",
      "             ('Ληστείες ταχυδρομικών διανομέων', 0),\n",
      "             ('Ληστείες τραπεζών,ταχ/κών ταμιευτηρίων', 1),\n",
      "             ('Ληστείες χρηματαποστολών', 0)])\n"
     ]
    }
   ],
   "source": [
    "# Map crime names to their cluster.\n",
    "crimes_names = data_df[\"ΟΝΟΜΑ ΕΓΚΛΗΜΑΤΟΣ\"].tolist()\n",
    "clusters = OrderedDict(zip(crimes_names, cluster.labels_))\n",
    "pprint(clusters)"
   ]
  },
  {
   "cell_type": "markdown",
   "metadata": {
    "pycharm": {
     "name": "#%% md\n"
    }
   },
   "source": [
    "We can see that the crimes are divided into 2 clusters. In the one cluster we have all crimes that belong to 'Ληστείες'\n",
    "and 'Κλοπές` as well as some other general crimes while on the other cluster we have the rest of the crimes, with some\n",
    "exceptions."
   ]
  },
  {
   "cell_type": "code",
   "execution_count": 16,
   "metadata": {
    "pycharm": {
     "name": "#%%\n"
    }
   },
   "outputs": [
    {
     "data": {
      "text/html": [
       "<div>\n",
       "<style scoped>\n",
       "    .dataframe tbody tr th:only-of-type {\n",
       "        vertical-align: middle;\n",
       "    }\n",
       "\n",
       "    .dataframe tbody tr th {\n",
       "        vertical-align: top;\n",
       "    }\n",
       "\n",
       "    .dataframe thead th {\n",
       "        text-align: right;\n",
       "    }\n",
       "</style>\n",
       "<table border=\"1\" class=\"dataframe\">\n",
       "  <thead>\n",
       "    <tr style=\"text-align: right;\">\n",
       "      <th></th>\n",
       "      <th>τελ/να</th>\n",
       "      <th>απόπειρες</th>\n",
       "      <th>εξιχνιάσεις</th>\n",
       "      <th>ημεδαποί</th>\n",
       "      <th>αλλοδαποί</th>\n",
       "      <th>Cluster</th>\n",
       "    </tr>\n",
       "  </thead>\n",
       "  <tbody>\n",
       "    <tr>\n",
       "      <th>0</th>\n",
       "      <td>0.262716</td>\n",
       "      <td>0.428129</td>\n",
       "      <td>0.593543</td>\n",
       "      <td>0.548135</td>\n",
       "      <td>0.308123</td>\n",
       "      <td>1</td>\n",
       "    </tr>\n",
       "    <tr>\n",
       "      <th>1</th>\n",
       "      <td>0.825177</td>\n",
       "      <td>0.258875</td>\n",
       "      <td>0.449819</td>\n",
       "      <td>0.216418</td>\n",
       "      <td>0.053778</td>\n",
       "      <td>0</td>\n",
       "    </tr>\n",
       "    <tr>\n",
       "      <th>2</th>\n",
       "      <td>0.544389</td>\n",
       "      <td>0.066732</td>\n",
       "      <td>0.611121</td>\n",
       "      <td>0.565463</td>\n",
       "      <td>0.077268</td>\n",
       "      <td>1</td>\n",
       "    </tr>\n",
       "    <tr>\n",
       "      <th>3</th>\n",
       "      <td>0.561027</td>\n",
       "      <td>0.296802</td>\n",
       "      <td>0.593603</td>\n",
       "      <td>0.369192</td>\n",
       "      <td>0.329377</td>\n",
       "      <td>1</td>\n",
       "    </tr>\n",
       "    <tr>\n",
       "      <th>4</th>\n",
       "      <td>0.677546</td>\n",
       "      <td>0.115434</td>\n",
       "      <td>0.446678</td>\n",
       "      <td>0.501886</td>\n",
       "      <td>0.276037</td>\n",
       "      <td>1</td>\n",
       "    </tr>\n",
       "  </tbody>\n",
       "</table>\n",
       "</div>"
      ],
      "text/plain": [
       "     τελ/να  απόπειρες  εξιχνιάσεις  ημεδαποί  αλλοδαποί  Cluster\n",
       "0  0.262716   0.428129     0.593543  0.548135   0.308123        1\n",
       "1  0.825177   0.258875     0.449819  0.216418   0.053778        0\n",
       "2  0.544389   0.066732     0.611121  0.565463   0.077268        1\n",
       "3  0.561027   0.296802     0.593603  0.369192   0.329377        1\n",
       "4  0.677546   0.115434     0.446678  0.501886   0.276037        1"
      ]
     },
     "execution_count": 16,
     "metadata": {},
     "output_type": "execute_result"
    }
   ],
   "source": [
    "#Add the cluster vector to the DataFrame\n",
    "new_data_scaled = data_scaled.copy()\n",
    "new_data_scaled[\"Cluster\"] = list(clusters.values())\n",
    "new_data_scaled.head()"
   ]
  },
  {
   "cell_type": "markdown",
   "metadata": {
    "pycharm": {
     "name": "#%% md\n"
    }
   },
   "source": [
    "Now, to visualize our data, we will use a DataFrame from using the 'PCA' algorithm.\n",
    "The DataFrame will hold the results of the PCA algorithm that returns three principal components.\n",
    "This DataFrame will allow us to visualize the clusters in three-dimensional space (3-D).\n"
   ]
  },
  {
   "cell_type": "code",
   "execution_count": 17,
   "metadata": {
    "pycharm": {
     "name": "#%%\n"
    }
   },
   "outputs": [
    {
     "data": {
      "text/html": [
       "<div>\n",
       "<style scoped>\n",
       "    .dataframe tbody tr th:only-of-type {\n",
       "        vertical-align: middle;\n",
       "    }\n",
       "\n",
       "    .dataframe tbody tr th {\n",
       "        vertical-align: top;\n",
       "    }\n",
       "\n",
       "    .dataframe thead th {\n",
       "        text-align: right;\n",
       "    }\n",
       "</style>\n",
       "<table border=\"1\" class=\"dataframe\">\n",
       "  <thead>\n",
       "    <tr style=\"text-align: right;\">\n",
       "      <th></th>\n",
       "      <th>τελ/να</th>\n",
       "      <th>απόπειρες</th>\n",
       "      <th>εξιχνιάσεις</th>\n",
       "      <th>ημεδαποί</th>\n",
       "      <th>αλλοδαποί</th>\n",
       "      <th>Cluster</th>\n",
       "      <th>PC1_3d</th>\n",
       "      <th>PC2_3d</th>\n",
       "      <th>PC3_3d</th>\n",
       "    </tr>\n",
       "  </thead>\n",
       "  <tbody>\n",
       "    <tr>\n",
       "      <th>0</th>\n",
       "      <td>0.262716</td>\n",
       "      <td>0.428129</td>\n",
       "      <td>0.593543</td>\n",
       "      <td>0.548135</td>\n",
       "      <td>0.308123</td>\n",
       "      <td>1</td>\n",
       "      <td>0.715759</td>\n",
       "      <td>0.194159</td>\n",
       "      <td>0.264171</td>\n",
       "    </tr>\n",
       "    <tr>\n",
       "      <th>1</th>\n",
       "      <td>0.825177</td>\n",
       "      <td>0.258875</td>\n",
       "      <td>0.449819</td>\n",
       "      <td>0.216418</td>\n",
       "      <td>0.053778</td>\n",
       "      <td>0</td>\n",
       "      <td>0.044746</td>\n",
       "      <td>0.124028</td>\n",
       "      <td>0.056750</td>\n",
       "    </tr>\n",
       "    <tr>\n",
       "      <th>2</th>\n",
       "      <td>0.544389</td>\n",
       "      <td>0.066732</td>\n",
       "      <td>0.611121</td>\n",
       "      <td>0.565463</td>\n",
       "      <td>0.077268</td>\n",
       "      <td>1</td>\n",
       "      <td>0.454188</td>\n",
       "      <td>0.143900</td>\n",
       "      <td>-0.170143</td>\n",
       "    </tr>\n",
       "    <tr>\n",
       "      <th>3</th>\n",
       "      <td>0.561027</td>\n",
       "      <td>0.296802</td>\n",
       "      <td>0.593603</td>\n",
       "      <td>0.369192</td>\n",
       "      <td>0.329377</td>\n",
       "      <td>1</td>\n",
       "      <td>0.447419</td>\n",
       "      <td>0.016783</td>\n",
       "      <td>0.170545</td>\n",
       "    </tr>\n",
       "    <tr>\n",
       "      <th>4</th>\n",
       "      <td>0.677546</td>\n",
       "      <td>0.115434</td>\n",
       "      <td>0.446678</td>\n",
       "      <td>0.501886</td>\n",
       "      <td>0.276037</td>\n",
       "      <td>1</td>\n",
       "      <td>0.324735</td>\n",
       "      <td>0.024627</td>\n",
       "      <td>0.014678</td>\n",
       "    </tr>\n",
       "  </tbody>\n",
       "</table>\n",
       "</div>"
      ],
      "text/plain": [
       "     τελ/να  απόπειρες  εξιχνιάσεις  ημεδαποί  αλλοδαποί  Cluster    PC1_3d  \\\n",
       "0  0.262716   0.428129     0.593543  0.548135   0.308123        1  0.715759   \n",
       "1  0.825177   0.258875     0.449819  0.216418   0.053778        0  0.044746   \n",
       "2  0.544389   0.066732     0.611121  0.565463   0.077268        1  0.454188   \n",
       "3  0.561027   0.296802     0.593603  0.369192   0.329377        1  0.447419   \n",
       "4  0.677546   0.115434     0.446678  0.501886   0.276037        1  0.324735   \n",
       "\n",
       "     PC2_3d    PC3_3d  \n",
       "0  0.194159  0.264171  \n",
       "1  0.124028  0.056750  \n",
       "2  0.143900 -0.170143  \n",
       "3  0.016783  0.170545  \n",
       "4  0.024627  0.014678  "
      ]
     },
     "execution_count": 17,
     "metadata": {},
     "output_type": "execute_result"
    }
   ],
   "source": [
    "#PCA with three principal components\n",
    "pca_3d = PCA(n_components=3)\n",
    "PCs_3d = pd.DataFrame(pca_3d.fit_transform(new_data_scaled.drop([\"Cluster\"], axis=1)))\n",
    "# Note that, above, we performed our PCA's on data that excluded the Cluster variable.\n",
    "PCs_3d.columns = [\"PC1_3d\", \"PC2_3d\", \"PC3_3d\"]\n",
    "# We concatenate the DataFrames so that they can be used by new_data_scaled as columns.\n",
    "new_data_scaled = pd.concat([new_data_scaled, PCs_3d], axis=1, join='inner')\n",
    "new_data_scaled.head()"
   ]
  },
  {
   "cell_type": "code",
   "execution_count": 18,
   "metadata": {
    "pycharm": {
     "name": "#%%\n"
    }
   },
   "outputs": [
    {
     "data": {
      "text/html": [
       "<div>\n",
       "<style scoped>\n",
       "    .dataframe tbody tr th:only-of-type {\n",
       "        vertical-align: middle;\n",
       "    }\n",
       "\n",
       "    .dataframe tbody tr th {\n",
       "        vertical-align: top;\n",
       "    }\n",
       "\n",
       "    .dataframe thead th {\n",
       "        text-align: right;\n",
       "    }\n",
       "</style>\n",
       "<table border=\"1\" class=\"dataframe\">\n",
       "  <thead>\n",
       "    <tr style=\"text-align: right;\">\n",
       "      <th></th>\n",
       "      <th>τελ/να</th>\n",
       "      <th>απόπειρες</th>\n",
       "      <th>εξιχνιάσεις</th>\n",
       "      <th>ημεδαποί</th>\n",
       "      <th>αλλοδαποί</th>\n",
       "      <th>Cluster</th>\n",
       "      <th>PC1_3d</th>\n",
       "      <th>PC2_3d</th>\n",
       "      <th>PC3_3d</th>\n",
       "    </tr>\n",
       "  </thead>\n",
       "  <tbody>\n",
       "    <tr>\n",
       "      <th>1</th>\n",
       "      <td>0.825177</td>\n",
       "      <td>0.258875</td>\n",
       "      <td>0.449819</td>\n",
       "      <td>0.216418</td>\n",
       "      <td>0.053778</td>\n",
       "      <td>0</td>\n",
       "      <td>0.044746</td>\n",
       "      <td>0.124028</td>\n",
       "      <td>0.056750</td>\n",
       "    </tr>\n",
       "    <tr>\n",
       "      <th>6</th>\n",
       "      <td>0.977642</td>\n",
       "      <td>0.011860</td>\n",
       "      <td>0.152492</td>\n",
       "      <td>0.138937</td>\n",
       "      <td>0.038970</td>\n",
       "      <td>0</td>\n",
       "      <td>-0.276860</td>\n",
       "      <td>-0.008637</td>\n",
       "      <td>-0.015578</td>\n",
       "    </tr>\n",
       "    <tr>\n",
       "      <th>7</th>\n",
       "      <td>0.952386</td>\n",
       "      <td>0.000269</td>\n",
       "      <td>0.223426</td>\n",
       "      <td>0.206467</td>\n",
       "      <td>0.020324</td>\n",
       "      <td>0</td>\n",
       "      <td>-0.197837</td>\n",
       "      <td>0.019822</td>\n",
       "      <td>-0.074446</td>\n",
       "    </tr>\n",
       "    <tr>\n",
       "      <th>14</th>\n",
       "      <td>0.987829</td>\n",
       "      <td>0.090794</td>\n",
       "      <td>0.106819</td>\n",
       "      <td>0.062630</td>\n",
       "      <td>0.024864</td>\n",
       "      <td>0</td>\n",
       "      <td>-0.340997</td>\n",
       "      <td>0.016688</td>\n",
       "      <td>0.070356</td>\n",
       "    </tr>\n",
       "    <tr>\n",
       "      <th>15</th>\n",
       "      <td>0.808811</td>\n",
       "      <td>0.199272</td>\n",
       "      <td>0.436640</td>\n",
       "      <td>0.331143</td>\n",
       "      <td>0.076192</td>\n",
       "      <td>0</td>\n",
       "      <td>0.103184</td>\n",
       "      <td>0.128670</td>\n",
       "      <td>0.002182</td>\n",
       "    </tr>\n",
       "  </tbody>\n",
       "</table>\n",
       "</div>"
      ],
      "text/plain": [
       "      τελ/να  απόπειρες  εξιχνιάσεις  ημεδαποί  αλλοδαποί  Cluster    PC1_3d  \\\n",
       "1   0.825177   0.258875     0.449819  0.216418   0.053778        0  0.044746   \n",
       "6   0.977642   0.011860     0.152492  0.138937   0.038970        0 -0.276860   \n",
       "7   0.952386   0.000269     0.223426  0.206467   0.020324        0 -0.197837   \n",
       "14  0.987829   0.090794     0.106819  0.062630   0.024864        0 -0.340997   \n",
       "15  0.808811   0.199272     0.436640  0.331143   0.076192        0  0.103184   \n",
       "\n",
       "      PC2_3d    PC3_3d  \n",
       "1   0.124028  0.056750  \n",
       "6  -0.008637 -0.015578  \n",
       "7   0.019822 -0.074446  \n",
       "14  0.016688  0.070356  \n",
       "15  0.128670  0.002182  "
      ]
     },
     "execution_count": 18,
     "metadata": {},
     "output_type": "execute_result"
    }
   ],
   "source": [
    "# we have two clusters\n",
    "cluster_0 = new_data_scaled[new_data_scaled[\"Cluster\"] == 0]\n",
    "cluster_1 = new_data_scaled[new_data_scaled[\"Cluster\"] == 1]\n",
    "cluster_0.head()"
   ]
  },
  {
   "cell_type": "code",
   "execution_count": 19,
   "metadata": {
    "pycharm": {
     "name": "#%%\n"
    }
   },
   "outputs": [
    {
     "data": {
      "text/html": [
       "<div>\n",
       "<style scoped>\n",
       "    .dataframe tbody tr th:only-of-type {\n",
       "        vertical-align: middle;\n",
       "    }\n",
       "\n",
       "    .dataframe tbody tr th {\n",
       "        vertical-align: top;\n",
       "    }\n",
       "\n",
       "    .dataframe thead th {\n",
       "        text-align: right;\n",
       "    }\n",
       "</style>\n",
       "<table border=\"1\" class=\"dataframe\">\n",
       "  <thead>\n",
       "    <tr style=\"text-align: right;\">\n",
       "      <th></th>\n",
       "      <th>τελ/να</th>\n",
       "      <th>απόπειρες</th>\n",
       "      <th>εξιχνιάσεις</th>\n",
       "      <th>ημεδαποί</th>\n",
       "      <th>αλλοδαποί</th>\n",
       "      <th>Cluster</th>\n",
       "      <th>PC1_3d</th>\n",
       "      <th>PC2_3d</th>\n",
       "      <th>PC3_3d</th>\n",
       "    </tr>\n",
       "  </thead>\n",
       "  <tbody>\n",
       "    <tr>\n",
       "      <th>0</th>\n",
       "      <td>0.262716</td>\n",
       "      <td>0.428129</td>\n",
       "      <td>0.593543</td>\n",
       "      <td>0.548135</td>\n",
       "      <td>0.308123</td>\n",
       "      <td>1</td>\n",
       "      <td>0.715759</td>\n",
       "      <td>0.194159</td>\n",
       "      <td>0.264171</td>\n",
       "    </tr>\n",
       "    <tr>\n",
       "      <th>2</th>\n",
       "      <td>0.544389</td>\n",
       "      <td>0.066732</td>\n",
       "      <td>0.611121</td>\n",
       "      <td>0.565463</td>\n",
       "      <td>0.077268</td>\n",
       "      <td>1</td>\n",
       "      <td>0.454188</td>\n",
       "      <td>0.143900</td>\n",
       "      <td>-0.170143</td>\n",
       "    </tr>\n",
       "    <tr>\n",
       "      <th>3</th>\n",
       "      <td>0.561027</td>\n",
       "      <td>0.296802</td>\n",
       "      <td>0.593603</td>\n",
       "      <td>0.369192</td>\n",
       "      <td>0.329377</td>\n",
       "      <td>1</td>\n",
       "      <td>0.447419</td>\n",
       "      <td>0.016783</td>\n",
       "      <td>0.170545</td>\n",
       "    </tr>\n",
       "    <tr>\n",
       "      <th>4</th>\n",
       "      <td>0.677546</td>\n",
       "      <td>0.115434</td>\n",
       "      <td>0.446678</td>\n",
       "      <td>0.501886</td>\n",
       "      <td>0.276037</td>\n",
       "      <td>1</td>\n",
       "      <td>0.324735</td>\n",
       "      <td>0.024627</td>\n",
       "      <td>0.014678</td>\n",
       "    </tr>\n",
       "    <tr>\n",
       "      <th>5</th>\n",
       "      <td>0.638091</td>\n",
       "      <td>0.000000</td>\n",
       "      <td>0.611871</td>\n",
       "      <td>0.283505</td>\n",
       "      <td>0.371588</td>\n",
       "      <td>1</td>\n",
       "      <td>0.354007</td>\n",
       "      <td>-0.223049</td>\n",
       "      <td>-0.016435</td>\n",
       "    </tr>\n",
       "  </tbody>\n",
       "</table>\n",
       "</div>"
      ],
      "text/plain": [
       "     τελ/να  απόπειρες  εξιχνιάσεις  ημεδαποί  αλλοδαποί  Cluster    PC1_3d  \\\n",
       "0  0.262716   0.428129     0.593543  0.548135   0.308123        1  0.715759   \n",
       "2  0.544389   0.066732     0.611121  0.565463   0.077268        1  0.454188   \n",
       "3  0.561027   0.296802     0.593603  0.369192   0.329377        1  0.447419   \n",
       "4  0.677546   0.115434     0.446678  0.501886   0.276037        1  0.324735   \n",
       "5  0.638091   0.000000     0.611871  0.283505   0.371588        1  0.354007   \n",
       "\n",
       "     PC2_3d    PC3_3d  \n",
       "0  0.194159  0.264171  \n",
       "2  0.143900 -0.170143  \n",
       "3  0.016783  0.170545  \n",
       "4  0.024627  0.014678  \n",
       "5 -0.223049 -0.016435  "
      ]
     },
     "execution_count": 19,
     "metadata": {},
     "output_type": "execute_result"
    }
   ],
   "source": [
    "cluster_1.head()"
   ]
  },
  {
   "cell_type": "markdown",
   "metadata": {
    "pycharm": {
     "name": "#%% md\n"
    }
   },
   "source": [
    "### PCA Visualizations"
   ]
  },
  {
   "cell_type": "code",
   "execution_count": 20,
   "metadata": {
    "pycharm": {
     "name": "#%%\n"
    }
   },
   "outputs": [
    {
     "data": {
      "text/plain": [
       "<mpl_toolkits.mplot3d.art3d.Path3DCollection at 0x28d89284d30>"
      ]
     },
     "execution_count": 20,
     "metadata": {},
     "output_type": "execute_result"
    },
    {
     "data": {
      "image/png": "[encoded data removed]",
      "text/plain": [
       "<Figure size 1008x576 with 1 Axes>"
      ]
     },
     "metadata": {},
     "output_type": "display_data"
    }
   ],
   "source": [
    "fig = plt.figure(figsize=(14, 8))\n",
    "ax = fig.add_subplot(111, projection = '3d')\n",
    "\n",
    "x = PCs_3d['PC1_3d']\n",
    "y = PCs_3d['PC2_3d']\n",
    "z = PCs_3d['PC2_3d']\n",
    "\n",
    "ax.set_xlabel(\"PC1\")\n",
    "ax.set_ylabel(\"PC2\")\n",
    "ax.set_zlabel(\"PC3\")\n",
    "\n",
    "ax.scatter(x, y, z, marker=\"s\", c=new_data_scaled[\"Cluster\"], s=40, cmap=\"rainbow\")"
   ]
  },
  {
   "cell_type": "markdown",
   "metadata": {},
   "source": [
    "From the schema above we can see that the purple cluster is more dense and has few outliers, while the red cluster is\n",
    "sparser with more outliers. We are going to use DBScan in order to identify the outliers.\n",
    "In order to find a suitable value for DBScan epsilon value we can calculate the distance to the nearest n points for\n",
    "each point, sorting and plotting the results. Then we look to see where the change is most pronounced (think of the\n",
    "angle between your arm and forearm) and select that as epsilon."
   ]
  },
  {
   "cell_type": "code",
   "execution_count": 21,
   "metadata": {
    "pycharm": {
     "name": "#%%\n"
    }
   },
   "outputs": [
    {
     "data": {
      "text/plain": [
       "array([[0.        , 0.50094289],\n",
       "       [0.        , 0.15515318],\n",
       "       [0.        , 0.14586858],\n",
       "       [0.        , 0.35765661],\n",
       "       [0.        , 0.32413679],\n",
       "       [0.        , 0.07044338],\n",
       "       [0.        , 0.08071731],\n",
       "       [0.        , 0.08115556],\n",
       "       [0.        , 0.07044338],\n",
       "       [0.        , 0.12816274],\n",
       "       [0.        , 0.0402368 ],\n",
       "       [0.        , 0.0402368 ],\n",
       "       [0.        , 0.34106234],\n",
       "       [0.        , 0.34031556],\n",
       "       [0.        , 0.10371976],\n",
       "       [0.        , 0.15515318],\n",
       "       [0.        , 0.06911811],\n",
       "       [0.        , 0.08115556],\n",
       "       [0.        , 0.07721408],\n",
       "       [0.        , 0.08560942],\n",
       "       [0.        , 0.03361623],\n",
       "       [0.        , 0.03361623],\n",
       "       [0.        , 0.03158667],\n",
       "       [0.        , 0.03423989],\n",
       "       [0.        , 0.07384212],\n",
       "       [0.        , 0.03423989],\n",
       "       [0.        , 0.03158667],\n",
       "       [0.        , 0.11337601],\n",
       "       [0.        , 0.14677307],\n",
       "       [0.        , 0.06008847],\n",
       "       [0.        , 0.11337601],\n",
       "       [0.        , 0.09058349],\n",
       "       [0.        , 0.09058349],\n",
       "       [0.        , 0.06008847],\n",
       "       [0.        , 0.16924185],\n",
       "       [0.        , 0.06911811],\n",
       "       [0.        , 0.07721408],\n",
       "       [0.        , 0.20283717],\n",
       "       [0.        , 0.1158655 ],\n",
       "       [0.        , 0.59014728],\n",
       "       [0.        , 0.2332528 ],\n",
       "       [0.        , 0.11874458]])"
      ]
     },
     "execution_count": 21,
     "metadata": {},
     "output_type": "execute_result"
    }
   ],
   "source": [
    "neigh = NearestNeighbors(n_neighbors=2)\n",
    "nbrs = neigh.fit(new_data_scaled)\n",
    "distances, indices = nbrs.kneighbors(new_data_scaled)\n",
    "distances"
   ]
  },
  {
   "cell_type": "code",
   "execution_count": 22,
   "metadata": {
    "pycharm": {
     "name": "#%%\n"
    }
   },
   "outputs": [
    {
     "data": {
      "text/plain": [
       "[<matplotlib.lines.Line2D at 0x28daf21cc40>]"
      ]
     },
     "execution_count": 22,
     "metadata": {},
     "output_type": "execute_result"
    },
    {
     "data": {
      "image/png": "[encoded data removed]",
      "text/plain": [
       "<Figure size 432x288 with 1 Axes>"
      ]
     },
     "metadata": {},
     "output_type": "display_data"
    }
   ],
   "source": [
    "# Sort the distances and plot the results.\n",
    "distances = np.sort(distances, axis=0)\n",
    "distances = distances[:,1]\n",
    "plt.plot(distances)"
   ]
  },
  {
   "cell_type": "markdown",
   "metadata": {
    "pycharm": {
     "name": "#%% md\n"
    }
   },
   "source": [
    "The optimal value for epsilon will be found at the point of maximum curvature.\n",
    "From the diagram above that point is 0.35\n",
    "So DBScan will be used, selecting 0.35 for eps and setting min_samples to 5."
   ]
  },
  {
   "cell_type": "code",
   "execution_count": 23,
   "metadata": {
    "pycharm": {
     "name": "#%%\n"
    }
   },
   "outputs": [
    {
     "name": "stdout",
     "output_type": "stream",
     "text": [
      "Estimated number of clusters: 1\n",
      "Estimated number of noise points: 2\n",
      "Silhouette Coefficient: 0.422\n"
     ]
    },
    {
     "data": {
      "image/png": "[encoded data removed]",
      "text/plain": [
       "<Figure size 432x288 with 1 Axes>"
      ]
     },
     "metadata": {},
     "output_type": "display_data"
    }
   ],
   "source": [
    "db = DBSCAN(eps=0.35, min_samples=5).fit(data_scaled)\n",
    "core_samples_mask = np.zeros_like(db.labels_, dtype=bool)\n",
    "core_samples_mask[db.core_sample_indices_] = True\n",
    "labels = db.labels_\n",
    "\n",
    "# Number of clusters in labels, ignoring noise if present.\n",
    "n_clusters_ = len(set(labels)) - (1 if -1 in labels else 0)\n",
    "n_noise_ = list(labels).count(-1)\n",
    "\n",
    "print('Estimated number of clusters: %d' % n_clusters_)\n",
    "print('Estimated number of noise points: %d' % n_noise_)\n",
    "print(\"Silhouette Coefficient: %0.3f\" % metrics.silhouette_score(data_scaled, labels))\n",
    "\n",
    "# #############################################################################\n",
    "# Plot result\n",
    "\n",
    "# Black removed and is used for noise instead.\n",
    "unique_labels = set(labels)\n",
    "colors = [plt.get_cmap('Spectral')(each)\n",
    "          for each in np.linspace(0, 1, len(unique_labels))]\n",
    "for k, col in zip(unique_labels, colors):\n",
    "    if k == -1:\n",
    "        # Black used for noise.\n",
    "        col = [0, 0, 0, 1]\n",
    "\n",
    "    class_member_mask = (labels == k)\n",
    "\n",
    "    xy = data_scaled[class_member_mask & core_samples_mask]\n",
    "    plt.plot(xy.iloc[:, 0], xy.iloc[:, 1], 'o', markerfacecolor=tuple(col),\n",
    "             markeredgecolor='k', markersize=14)\n",
    "\n",
    "    xy = data_scaled[class_member_mask & ~core_samples_mask]\n",
    "    plt.plot(xy.iloc[:, 0], xy.iloc[:, 1], 'o', markerfacecolor=tuple(col),\n",
    "             markeredgecolor='k', markersize=6)\n",
    "\n",
    "plt.title('Estimated number of clusters: %d' % n_clusters_)\n",
    "plt.show()"
   ]
  },
  {
   "cell_type": "code",
   "execution_count": 24,
   "metadata": {
    "pycharm": {
     "name": "#%%\n"
    }
   },
   "outputs": [
    {
     "data": {
      "text/plain": [
       "['ΑΝΘΡΩΠΟΚΤΟΝΙΕΣ', 'Ληστείες ταχυδρομικών διανομέων']"
      ]
     },
     "execution_count": 24,
     "metadata": {},
     "output_type": "execute_result"
    }
   ],
   "source": [
    "# Map the outliers to their labels.\n",
    "clusters = OrderedDict(zip(crimes_names, labels))\n",
    "outliers = [k for k in clusters.keys() if clusters[k] == -1]\n",
    "outliers"
   ]
  },
  {
   "cell_type": "markdown",
   "metadata": {},
   "source": [
    "The above data points are outliers. One possible explanation for this could be that the police keeps data from previous\n",
    "years as well. For example, a crime could have been committed on a previous year, for example 2014, and it may have been\n",
    "solved on 2016. Therefore, it will be included in the data."
   ]
  },
  {
   "cell_type": "markdown",
   "metadata": {},
   "source": [
    "For the predicting the super category of the crimes we will use the RandomForest algorithm, with GridSearch, in order to\n",
    "find the best hyperparameters. In order to do that, we have to add a new column to our scaled data, called super-category\n",
    "The predictions will be made based on that column.\n",
    "\n",
    "## Functions used for classification and reporting their results"
   ]
  },
  {
   "cell_type": "code",
   "execution_count": 31,
   "metadata": {
    "pycharm": {
     "name": "#%%\n"
    }
   },
   "outputs": [],
   "source": [
    "def accuracy_per_class(target_test, pred):\n",
    "    matrix = metrics.confusion_matrix(target_test, pred)\n",
    "    acc_per_class = matrix.diagonal()/matrix.sum(axis=1)\n",
    "    acc_per_class_dict = {i:v for i, v in enumerate(acc_per_class)}\n",
    "    return acc_per_class_dict\n",
    "\n",
    "def general_classification_report(target_test, pred):\n",
    "    \"\"\"\n",
    "    General Classification Report\n",
    "    :param target_test: target test data\n",
    "    :param pred: the prediction of the classifier\n",
    "    \"\"\"\n",
    "    print (\"Classification Report\")\n",
    "    print(metrics.classification_report(target_test, pred))\n",
    "    print(\"Accuracy per class\")\n",
    "    pprint(accuracy_per_class(target_test, pred))\n",
    "    cmrforest = metrics.confusion_matrix(target_test , pred)\n",
    "    plt.figure(figsize=(10,7))\n",
    "    sns.heatmap(cmrforest ,annot=True , fmt = 'd')\n",
    "    plt.xlabel('Predicted')\n",
    "    plt.ylabel('Truth')\n",
    "    plt.title('Confusion Report')\n",
    "\n",
    "\n",
    "def perform_classification_with_grid_search(clf_name, data_train, data_test, target_train, target_test, cv=10):\n",
    "    \"\"\"\n",
    "    Function that uses several classifiers with parameter tuning\n",
    "    :param clf_name: Classifier name, can be Random Forest, SVM, kNN, Logistic Regression\n",
    "    :param data_train: train data\n",
    "    :param data_test: test data\n",
    "    :param target_train: target train data\n",
    "    :param target_test: target test data\n",
    "    :param cv: number of folds\n",
    "    :return: A dictionary with the best parameters\n",
    "    \"\"\"\n",
    "    if clf_name =='Random Forest':\n",
    "        param_grid = {\n",
    "            'n_estimators': [100],\n",
    "            'max_features': ['auto'],\n",
    "            'max_depth' : range(1, 10),\n",
    "            'criterion' :['gini', 'entropy']\n",
    "        }\n",
    "        clf = RandomForestClassifier(random_state=42)\n",
    "\n",
    "    elif clf_name =='SVM':\n",
    "        param_grid =  {\n",
    "            'kernel': ['rbf'],\n",
    "            'gamma': [1e-3, 1e-4],\n",
    "            'C': [1, 10, 100, 1000]\n",
    "        }\n",
    "        clf = svm.SVC()\n",
    "\n",
    "    elif clf_name =='kNN':\n",
    "        param_grid = {'n_neighbors': range(1, 10)}\n",
    "        clf = KNeighborsClassifier()\n",
    "\n",
    "    elif clf_name =='Decision Tree':\n",
    "        param_grid = {\"criterion\": ['gini', 'entropy'],\n",
    "                      \"max_depth\": range(1, 10),\n",
    "                      \"min_samples_split\": range(2, 10),\n",
    "                      \"min_samples_leaf\": range(1, 5)\n",
    "                      }\n",
    "        clf = DecisionTreeClassifier()\n",
    "\n",
    "    else:\n",
    "        print('Provide one of the available classifiers: Random Forest, SVM, kNN, Logistic Regression')\n",
    "        return\n",
    "\n",
    "    cv_clf = GridSearchCV(estimator=clf, param_grid=param_grid, cv=cv, verbose=0)\n",
    "    cv_clf.fit(data_train, target_train.values.ravel())\n",
    "     # Viewing The Best Parameters\n",
    "    print('Best Parameters: ', cv_clf.best_params_)\n",
    "    print('Best Accuracy Score Achieved in Grid Search: ', cv_clf.best_score_)\n",
    "    best_estimator = cv_clf.best_estimator_\n",
    "    # Predicting using the best estimator\n",
    "    best_estimator.fit(data_train, target_train.values.ravel())\n",
    "    pred=best_estimator.predict(data_test)\n",
    "    general_classification_report(target_test, pred)\n",
    "    best_estimator.score(data_test, target_test)"
   ]
  },
  {
   "cell_type": "code",
   "execution_count": 32,
   "metadata": {
    "pycharm": {
     "name": "#%%\n"
    }
   },
   "outputs": [
    {
     "name": "stdout",
     "output_type": "stream",
     "text": [
      "Train data shape:  (29, 5)\n",
      "Test data shape:  (13, 5)\n"
     ]
    }
   ],
   "source": [
    "#Split the dataset\n",
    "\n",
    "data = []\n",
    "for i in range(14):\n",
    "    data.append(\"ΛΟΙΠΑ ΕΓΚΛΗΜΑΤΑ\")\n",
    "for i in range(8):\n",
    "    data.append(\"ΚΛΟΠΕΣ - ΔΙΑΡΡΗΞΕΙΣ\")\n",
    "for i in range(5):\n",
    "    data.append(\"ΚΛΟΠΕΣ ΤΡΟΧΟΦΟΡΩΝ\")\n",
    "for i in range(15):\n",
    "    data.append(\"ΛΗΣΤΕΙΕΣ\")\n",
    "\n",
    "df_y = pd.DataFrame(columns=['Supercategory'], data=data)\n",
    "\n",
    "X_train, X_test, y_train, y_test = train_test_split(data_scaled, df_y, test_size=0.3, random_state=42)\n",
    "print(\"Train data shape: \", X_train.shape)\n",
    "print(\"Test data shape: \", X_test.shape)"
   ]
  },
  {
   "cell_type": "code",
   "execution_count": 33,
   "metadata": {
    "pycharm": {
     "name": "#%%\n"
    }
   },
   "outputs": [
    {
     "name": "stderr",
     "output_type": "stream",
     "text": [
      "d:\\pycharmprojects\\data_mining_master_2020\\venv\\lib\\site-packages\\sklearn\\model_selection\\_split.py:666: UserWarning: The least populated class in y has only 3 members, which is less than n_splits=10.\n",
      "  warnings.warn((\"The least populated class in y has only %d\"\n"
     ]
    },
    {
     "name": "stdout",
     "output_type": "stream",
     "text": [
      "Best Parameters:  {'criterion': 'gini', 'max_depth': 4, 'max_features': 'auto', 'n_estimators': 100}\n",
      "Best Accuracy Score Achieved in Grid Search:  0.7333333333333333\n",
      "Classification Report\n",
      "                     precision    recall  f1-score   support\n",
      "\n",
      "ΚΛΟΠΕΣ - ΔΙΑΡΡΗΞΕΙΣ       1.00      0.50      0.67         2\n",
      "  ΚΛΟΠΕΣ ΤΡΟΧΟΦΟΡΩΝ       1.00      0.50      0.67         2\n",
      "           ΛΗΣΤΕΙΕΣ       0.57      1.00      0.73         4\n",
      "    ΛΟΙΠΑ ΕΓΚΛΗΜΑΤΑ       1.00      0.80      0.89         5\n",
      "\n",
      "           accuracy                           0.77        13\n",
      "          macro avg       0.89      0.70      0.74        13\n",
      "       weighted avg       0.87      0.77      0.77        13\n",
      "\n",
      "Accuracy per class\n",
      "{0: 0.5, 1: 0.5, 2: 1.0, 3: 0.8}\n"
     ]
    },
    {
     "data": {
      "image/png": "[encoded data removed]",
      "text/plain": [
       "<Figure size 720x504 with 2 Axes>"
      ]
     },
     "metadata": {},
     "output_type": "display_data"
    }
   ],
   "source": [
    "perform_classification_with_grid_search('Random Forest', X_train, X_test, y_train, y_test)"
   ]
  },
  {
   "cell_type": "code",
   "execution_count": 28,
   "metadata": {
    "pycharm": {
     "name": "#%%\n"
    }
   },
   "outputs": [
    {
     "name": "stderr",
     "output_type": "stream",
     "text": [
      "d:\\pycharmprojects\\data_mining_master_2020\\venv\\lib\\site-packages\\sklearn\\model_selection\\_split.py:666: UserWarning: The least populated class in y has only 3 members, which is less than n_splits=10.\n",
      "  warnings.warn((\"The least populated class in y has only %d\"\n",
      "d:\\pycharmprojects\\data_mining_master_2020\\venv\\lib\\site-packages\\sklearn\\metrics\\_classification.py:1245: UndefinedMetricWarning: Precision and F-score are ill-defined and being set to 0.0 in labels with no predicted samples. Use `zero_division` parameter to control this behavior.\n",
      "  _warn_prf(average, modifier, msg_start, len(result))\n",
      "d:\\pycharmprojects\\data_mining_master_2020\\venv\\lib\\site-packages\\sklearn\\metrics\\_classification.py:1245: UndefinedMetricWarning: Precision and F-score are ill-defined and being set to 0.0 in labels with no predicted samples. Use `zero_division` parameter to control this behavior.\n",
      "  _warn_prf(average, modifier, msg_start, len(result))\n",
      "d:\\pycharmprojects\\data_mining_master_2020\\venv\\lib\\site-packages\\sklearn\\metrics\\_classification.py:1245: UndefinedMetricWarning: Precision and F-score are ill-defined and being set to 0.0 in labels with no predicted samples. Use `zero_division` parameter to control this behavior.\n",
      "  _warn_prf(average, modifier, msg_start, len(result))\n"
     ]
    },
    {
     "name": "stdout",
     "output_type": "stream",
     "text": [
      "Best Parameters:  {'C': 1, 'gamma': 0.001, 'kernel': 'rbf'}\n",
      "Best Accuracy Score Achieved in Grid Search:  0.5999999999999999\n",
      "Classification Report\n",
      "                     precision    recall  f1-score   support\n",
      "\n",
      "ΚΛΟΠΕΣ - ΔΙΑΡΡΗΞΕΙΣ       0.00      0.00      0.00         2\n",
      "  ΚΛΟΠΕΣ ΤΡΟΧΟΦΟΡΩΝ       0.00      0.00      0.00         2\n",
      "           ΛΗΣΤΕΙΕΣ       0.50      0.80      0.62         5\n",
      "    ΛΟΙΠΑ ΕΓΚΛΗΜΑΤΑ       0.80      1.00      0.89         4\n",
      "\n",
      "           accuracy                           0.62        13\n",
      "          macro avg       0.33      0.45      0.38        13\n",
      "       weighted avg       0.44      0.62      0.51        13\n",
      "\n",
      "Accuracy per class\n",
      "{0: 0.0, 1: 0.0, 2: 0.8, 3: 1.0}\n"
     ]
    },
    {
     "data": {
      "image/png": "[encoded data removed]",
      "text/plain": [
       "<Figure size 720x504 with 2 Axes>"
      ]
     },
     "metadata": {},
     "output_type": "display_data"
    }
   ],
   "source": [
    "perform_classification_with_grid_search('SVM', X_train, X_test, y_train, y_test)"
   ]
  },
  {
   "cell_type": "code",
   "execution_count": 29,
   "metadata": {
    "pycharm": {
     "name": "#%%\n"
    }
   },
   "outputs": [
    {
     "name": "stderr",
     "output_type": "stream",
     "text": [
      "d:\\pycharmprojects\\data_mining_master_2020\\venv\\lib\\site-packages\\sklearn\\model_selection\\_split.py:666: UserWarning: The least populated class in y has only 3 members, which is less than n_splits=10.\n",
      "  warnings.warn((\"The least populated class in y has only %d\"\n"
     ]
    },
    {
     "name": "stdout",
     "output_type": "stream",
     "text": [
      "Best Parameters:  {'n_neighbors': 3}\n",
      "Best Accuracy Score Achieved in Grid Search:  0.7333333333333333\n",
      "Classification Report\n",
      "                     precision    recall  f1-score   support\n",
      "\n",
      "ΚΛΟΠΕΣ - ΔΙΑΡΡΗΞΕΙΣ       0.25      0.50      0.33         2\n",
      "  ΚΛΟΠΕΣ ΤΡΟΧΟΦΟΡΩΝ       1.00      0.50      0.67         2\n",
      "           ΛΗΣΤΕΙΕΣ       0.67      0.40      0.50         5\n",
      "    ΛΟΙΠΑ ΕΓΚΛΗΜΑΤΑ       0.80      1.00      0.89         4\n",
      "\n",
      "           accuracy                           0.62        13\n",
      "          macro avg       0.68      0.60      0.60        13\n",
      "       weighted avg       0.69      0.62      0.62        13\n",
      "\n",
      "Accuracy per class\n",
      "{0: 0.5, 1: 0.5, 2: 0.4, 3: 1.0}\n"
     ]
    },
    {
     "data": {
      "image/png": "[encoded data removed]",
      "text/plain": [
       "<Figure size 720x504 with 2 Axes>"
      ]
     },
     "metadata": {},
     "output_type": "display_data"
    }
   ],
   "source": [
    "perform_classification_with_grid_search('kNN', X_train, X_test, y_train, y_test)"
   ]
  },
  {
   "cell_type": "code",
   "execution_count": 30,
   "metadata": {
    "pycharm": {
     "name": "#%%\n"
    }
   },
   "outputs": [
    {
     "name": "stderr",
     "output_type": "stream",
     "text": [
      "d:\\pycharmprojects\\data_mining_master_2020\\venv\\lib\\site-packages\\sklearn\\model_selection\\_split.py:666: UserWarning: The least populated class in y has only 3 members, which is less than n_splits=10.\n",
      "  warnings.warn((\"The least populated class in y has only %d\"\n"
     ]
    },
    {
     "name": "stdout",
     "output_type": "stream",
     "text": [
      "Best Parameters:  {'criterion': 'gini', 'max_depth': 4, 'min_samples_leaf': 1, 'min_samples_split': 3}\n",
      "Best Accuracy Score Achieved in Grid Search:  0.7333333333333333\n",
      "Classification Report\n",
      "                     precision    recall  f1-score   support\n",
      "\n",
      "ΚΛΟΠΕΣ - ΔΙΑΡΡΗΞΕΙΣ       0.25      0.50      0.33         2\n",
      "  ΚΛΟΠΕΣ ΤΡΟΧΟΦΟΡΩΝ       1.00      0.50      0.67         2\n",
      "           ΛΗΣΤΕΙΕΣ       0.67      0.40      0.50         5\n",
      "    ΛΟΙΠΑ ΕΓΚΛΗΜΑΤΑ       0.80      1.00      0.89         4\n",
      "\n",
      "           accuracy                           0.62        13\n",
      "          macro avg       0.68      0.60      0.60        13\n",
      "       weighted avg       0.69      0.62      0.62        13\n",
      "\n",
      "Accuracy per class\n",
      "{0: 0.5, 1: 0.5, 2: 0.4, 3: 1.0}\n"
     ]
    },
    {
     "data": {
      "image/png": "[encoded data removed]",
      "text/plain": [
       "<Figure size 720x504 with 2 Axes>"
      ]
     },
     "metadata": {},
     "output_type": "display_data"
    }
   ],
   "source": [
    "perform_classification_with_grid_search('Decision Tree', X_train, X_test, y_train, y_test)\n"
   ]
  }
 ],
 "metadata": {
  "kernelspec": {
   "display_name": "Python 3",
   "language": "python",
   "name": "python3"
  },
  "language_info": {
   "codemirror_mode": {
    "name": "ipython",
    "version": 3
   },
   "file_extension": ".py",
   "mimetype": "text/x-python",
   "name": "python",
   "nbconvert_exporter": "python",
   "pygments_lexer": "ipython3",
   "version": "3.8.2"
  }
 },
 "nbformat": 4,
 "nbformat_minor": 1
}
